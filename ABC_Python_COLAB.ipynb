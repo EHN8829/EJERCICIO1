{
  "cells": [
    {
      "cell_type": "markdown",
      "metadata": {
        "id": "view-in-github",
        "colab_type": "text"
      },
      "source": [
        "<a href=\"https://colab.research.google.com/github/EHN8829/EJERCICIO1/blob/main/ABC_Python_COLAB.ipynb\" target=\"_parent\"><img src=\"https://colab.research.google.com/assets/colab-badge.svg\" alt=\"Open In Colab\"/></a>"
      ]
    },
    {
      "cell_type": "markdown",
      "metadata": {
        "id": "fCE4mRiN0Qhn"
      },
      "source": [
        "<img src=\"https://miro.medium.com/v2/resize:fit:1400/1*zomnCz8-VMgrSV8eLCx2tw.gif\" width=\"200\" alt=\"molecula\"  />\n",
        "\n",
        "$$\\Large \\textit{Cuadernos de Código}$$\n",
        "\n",
        "---\n",
        "$$\\large\\textbf{ABC de Python}$$\n",
        "\n",
        "---\n",
        "$$\\textit{Libro: Python para Todos}$$\n",
        "\n",
        "<br>\n",
        "<br>\n",
        "\n",
        "__Jesus Alvarado-Huayhuaz__"
      ]
    },
    {
      "cell_type": "markdown",
      "metadata": {
        "id": "Fw51ivGD0Qhr"
      },
      "source": [
        "# Introducción  "
      ]
    },
    {
      "cell_type": "markdown",
      "metadata": {
        "id": "l_vH2tKS0Qhr"
      },
      "source": [
        "## Visión general"
      ]
    },
    {
      "cell_type": "markdown",
      "metadata": {
        "id": "SGNOvS3J0Qhr"
      },
      "source": [
        "__¿Por qué aprender a programar será útil en mis proyectos de Ciencia y Tecnología?__  \n",
        "\n",
        "<div class=text-justify>Programar, o escribir programas, es una actividad enriquecedora porque ejercita nuestra creatividad, nos ayuda a visualizar situaciones desde diferentes perspectivas, a optimizar vías de solución y por supuesto, nos ayuda a automatizar operaciones repetitivas, entre muchas otras ventajas. Los proyectos de ciencia y tecnología requieren del estado del arte de nuestra temática, planteamiento de hipótesis, experimentación, tratamiento de datos, discusión de resultados, predicciones de nuevos resultados, etc., por ello, implementar la programación potenciará nuestras exploraciones.</div>"
      ]
    },
    {
      "cell_type": "markdown",
      "metadata": {
        "id": "e5IUn-4u0Qhs"
      },
      "source": [
        "__¿Cual fue la palabra más repetida del párrafo anterior?__  \n",
        "Esta tarea puede ser tediosa para nosotros, sin embargo, es la especialidad del computador..."
      ]
    },
    {
      "cell_type": "markdown",
      "metadata": {
        "id": "lnBOmXJ60Qhs"
      },
      "source": [
        "<div class=\"alert alert-block alert-success\">\n",
        "<b>Ejemplo 1:</b> La palabra más repetida</div>"
      ]
    },
    {
      "cell_type": "markdown",
      "metadata": {
        "id": "41poLAtu0Qht"
      },
      "source": [
        "No es necesario profundizar en el siguiente código en estos momentos, esto será abordado con detalle más adelante. Para ejecutar el siguiente programa podemos guardar el párrafo en cuestión como ej0 (sin extensión) en la misma carpeta donde esta este manual en formato ipynb."
      ]
    },
    {
      "cell_type": "code",
      "execution_count": null,
      "metadata": {
        "scrolled": true,
        "id": "U9BTMhNS0Qht"
      },
      "outputs": [],
      "source": [
        "name = input('Nombre del archivo:')\n",
        "handle = open(name, 'r')\n",
        "counts = dict()\n",
        "\n",
        "for line in handle:\n",
        "    words = line.split()\n",
        "    for word in words:\n",
        "        counts[word] = counts.get(word, 0) + 1\n",
        "\n",
        "bigcount = None\n",
        "bigword = None\n",
        "for word, count in list(counts.items()):\n",
        "    if bigcount is None or count > bigcount:\n",
        "        bigword = word\n",
        "        bigcount = count\n",
        "\n",
        "print(f\"La palabra que más se repitió fue '{bigword}' y se mencionó {bigcount} veces\")\n",
        "#podemos insertar el archivo llamado ej0"
      ]
    },
    {
      "cell_type": "markdown",
      "metadata": {
        "id": "sK67OFET0Qhu"
      },
      "source": [
        "Ahora veremos cómo están constituidas las máquinas que lo ejecutan."
      ]
    },
    {
      "cell_type": "markdown",
      "metadata": {
        "id": "B3JtGqBC0Qhu"
      },
      "source": [
        "### Arquitectura Hardware"
      ]
    },
    {
      "cell_type": "markdown",
      "metadata": {
        "id": "agpoCroO0Qhu"
      },
      "source": [
        "Esta compuesto por:\n",
        "\n",
        "La **Unidad Central de Procesamiento (o CPU)** es el componente de la computadora encargado del “¿qué hago ahora?”. Si tu equipo está dentro de la clasificación de 3.0 Gigahercios, significa que la CPU preguntará “¿Qué hago ahora?” tres mil millones de veces por segundo.\n",
        "\n",
        "La **Memoria Principal** se usa para almacenar la información que la CPU necesita de forma inmediata. La memoria principal es casi tan rápida como la CPU. Pero la información almacenada en la memoria principal desaparece cuando se apaga el equipo.\n",
        "\n",
        "La **Memoria Secundaria** también se utiliza para almacenar información pero a \"largo plazo\". La ventaja de la memoria secundaria es que puede almacenar la información incluso cuando el equipo está apagado. Algunos ejemplos de memoria secundaria serían las unidades de disco o las memorias flash (que suelen encontrarse en los pendrives USB y en los reproductores de música portátiles).\n",
        "\n",
        "Los **Dispositivos de Entrada y Salida** son: la pantalla, teclado, ratón, micrófono, altavoz, touchpad, etc. Incluyen cualquier modo de interacción con una computadora.  \n",
        "\n",
        "Las **Conexiones de Red** se pueden entender como un lugar donde almacenar y recuperar datos de forma lenta que puede no estar siempre “activa”. Así que, en cierto sentido, la red no es más que un tipo de Memoria Secundaria más lenta y a veces poco fiable."
      ]
    },
    {
      "cell_type": "markdown",
      "metadata": {
        "id": "BCuYEzyq0Qhv"
      },
      "source": [
        "<img src=\"https://github.com/inefable12/Python_para_todos/blob/main/imagenes/imagen1.PNG?raw=1\">"
      ]
    },
    {
      "cell_type": "markdown",
      "metadata": {
        "id": "EhBTnqGi0Qhv"
      },
      "source": [
        "---\n",
        "<img src=\"https://github.com/inefable12/Python_para_todos/blob/main/imagenes/imagen2.png?raw=1\">  "
      ]
    },
    {
      "cell_type": "markdown",
      "metadata": {
        "id": "_RNuzCEY0Qhv"
      },
      "source": [
        "<div class=\"alert alert-block alert-warning\">\n",
        "<b>Zen de Python</b>\n",
        "\n",
        "Bello es mejor que feo.  \n",
        "Explícito es mejor que implícito.  \n",
        "Simple es mejor que complejo.  \n",
        "Complejo es mejor que complicado.  \n",
        "Plano es mejor que anidado.  \n",
        "Espaciado es mejor que denso.  \n",
        "La legibilidad es importante.  \n",
        "Los casos especiales no son lo suficientemente especiales como para romper las reglas.  \n",
        "Sin embargo la practicidad le gana a la pureza.  \n",
        "Los errores nunca deberían pasar silenciosamente.  \n",
        "A menos que se silencien explícitamente.  \n",
        "Frente a la ambigüedad, evitar la tentación de adivinar.  \n",
        "Debería haber una, y preferiblemente solo una, manera obvia de hacerlo.  \n",
        "A pesar de que eso no sea obvio al principio a menos que seas Holandés.  \n",
        "Ahora es mejor que nunca.  \n",
        "A pesar de que nunca es muchas veces mejor que *ahora* mismo.  \n",
        "Si la implementación es difícil de explicar, es una mala idea.  \n",
        "Si la implementación es fácil de explicar, puede que sea una buena idea.  \n",
        "Los espacios de nombres son una gran idea, ¡tengamos más de esos!  \n",
        "</br>    \n",
        "[\"import this\"]\n",
        "</br>\n",
        "</div>"
      ]
    },
    {
      "cell_type": "code",
      "execution_count": 4,
      "metadata": {
        "id": "1xJQyiGc0Qhv"
      },
      "outputs": [],
      "source": [
        "# Imprimiendo texto que está pre cargado\n",
        "import this"
      ]
    },
    {
      "cell_type": "markdown",
      "metadata": {
        "id": "1ggecrsS0Qhw"
      },
      "source": [
        "### Python"
      ]
    },
    {
      "cell_type": "markdown",
      "metadata": {
        "id": "g_cLNRHx0Qhw"
      },
      "source": [
        "<div class=text-justify>Python es uno de los lenguajes de programación dinámicos más populares que existen entre los que se encuentran Java, Javascript, Go y C#. Aunque es considerado a menudo como un lenguaje \"scripting\", es realmente un lenguaje de propósito general. En la actualidad, Python es usado para practicamente todo, desde simples \"scripts\", hasta grandes servidores web que proveen servicio ininterrumpido 24×7. Es utilizado para la programación de interfaces gráficas y bases de datos, programación web tanto en el cliente como en el servidor (véase Django o Flask) y \"testing\" de aplicaciones. Además tiene una amplia aceptación por científicos que hacen aplicaciones para las supercomputadores más rápidas del mundo y por los niños que recién están comenzando a programar.</div>\n"
      ]
    },
    {
      "cell_type": "markdown",
      "metadata": {
        "id": "MZILqUyL0Qhw"
      },
      "source": [
        "<div class=text-justify>La historia del lenguaje de programación Python se remonta hacia finales de los 80s y principio de los 90s, su implementación comenzó en diciembre de 1989 cuando en Navidad Guido Van Rossum que trabajaba en el (CWI) (un centro de investigación holandés de carácter oficial que, entre otras cosas, actualmente alberga la oficina central del W3C) decidió empezar el proyecto como un pasatiempo dándole continuidad al lenguaje de programación ABC del que había formado parte del equipo de desarrollo en el CWI, dicho lenguaje se enfocaba en ser fácil de usar y aprender manteniendo potencia en su desempeño pero el hardware disponible en la época de su creación hacía difícil su uso y el proyecto no trascendió como se esperaba. Van Rossum es por tanto el autor principal de Python y continúa ejerciendo un rol central decidiendo la dirección del lenguaje, en la comunidad de Python se le conoce como Benevolente Dictador Vitalicio (en inglés: Benevolent Dictator for Life, BDFL). El nombre \"Python\" viene dado por la afición de Van Rossum al grupo Monty Python.</div>"
      ]
    },
    {
      "cell_type": "code",
      "execution_count": 5,
      "metadata": {
        "id": "eiMhxls50Qhw",
        "outputId": "084a189b-e811-42a8-a5a3-7195cae95ea4",
        "colab": {
          "base_uri": "https://localhost:8080/"
        }
      },
      "outputs": [
        {
          "output_type": "stream",
          "name": "stdout",
          "text": [
            "Python 3.10.12\n"
          ]
        }
      ],
      "source": [
        "# Conociendo la versión de Phyton\n",
        "!python --version"
      ]
    },
    {
      "cell_type": "markdown",
      "metadata": {
        "id": "8OjoV-BC0Qhw"
      },
      "source": [
        "__Palabras reservadas__  \n",
        "\n",
        "\n",
        "En Python 3.7, disponemos de 35:"
      ]
    },
    {
      "cell_type": "markdown",
      "metadata": {
        "id": "gHSRNxOK0Qhw"
      },
      "source": [
        "<img src=\"https://github.com/inefable12/Python_para_todos/blob/main/imagenes/miau.jpg?raw=1\">"
      ]
    },
    {
      "cell_type": "markdown",
      "metadata": {
        "id": "5rgdJ0Cg0Qhw"
      },
      "source": [
        "Figura 1. Conversando con python."
      ]
    },
    {
      "cell_type": "code",
      "execution_count": 6,
      "metadata": {
        "scrolled": false,
        "id": "vkXoA68V0Qhw",
        "outputId": "622327dd-5e8b-4a9d-c6bf-ef135839479e",
        "colab": {
          "base_uri": "https://localhost:8080/"
        }
      },
      "outputs": [
        {
          "output_type": "stream",
          "name": "stdout",
          "text": [
            "\n",
            "Here is a list of the Python keywords.  Enter any keyword to get more help.\n",
            "\n",
            "False               class               from                or\n",
            "None                continue            global              pass\n",
            "True                def                 if                  raise\n",
            "and                 del                 import              return\n",
            "as                  elif                in                  try\n",
            "assert              else                is                  while\n",
            "async               except              lambda              with\n",
            "await               finally             nonlocal            yield\n",
            "break               for                 not                 \n",
            "\n"
          ]
        }
      ],
      "source": [
        "# Conociendo palabras claves de Phyton\n",
        "help(\"keywords\")"
      ]
    },
    {
      "cell_type": "markdown",
      "metadata": {
        "id": "s8UAWhml0Qhx"
      },
      "source": [
        "<div class=\"alert alert-block alert-success\">\n",
        "<b>Ejemplo 2:</b> ¿Será una palabra reservada? </div>"
      ]
    },
    {
      "cell_type": "code",
      "execution_count": 7,
      "metadata": {
        "id": "j9Had62l0Qhx",
        "outputId": "ab04bb75-4ff7-4409-d917-71a2a79f1f58",
        "colab": {
          "base_uri": "https://localhost:8080/"
        }
      },
      "outputs": [
        {
          "output_type": "execute_result",
          "data": {
            "text/plain": [
              "35"
            ]
          },
          "metadata": {},
          "execution_count": 7
        }
      ],
      "source": [
        "reserv = [\"False\",\"class\",\"from\",\"or\",\"None\",\"continue\",\"global\",\"pass\",\"True\",\"def\",\"if\",\"raise\",\"and\",\"del\",\"import\",\"return\",\"as\",\"elif\",\"in\",\"try\",\"assert\",\"else\",\"is\",\"while\",\"async\",\"except\",\"lambda\",\"with\",\"await\",\"finally\",\"nonlocal\",\"yield\",\"break\",\"for\",\"not\"]\n",
        "len(reserv)"
      ]
    },
    {
      "cell_type": "code",
      "execution_count": null,
      "metadata": {
        "id": "bUM_NeCW0Qhx"
      },
      "outputs": [],
      "source": [
        "palabrita = input(\"Qué palabra deseas consultar? \")\n",
        "\n",
        "if (palabrita in reserv):\n",
        "    print(\"La palabra está reservada por Python\")\n",
        "else:\n",
        "    print(\"No, no está reservada por Python\")"
      ]
    },
    {
      "cell_type": "markdown",
      "metadata": {
        "id": "8Lre8YxQ0Qhx"
      },
      "source": [
        "35 palabras reservadas, son relativamente pocas, pero cada vez que sean usadas servirán unicamente para la tarea creada. Nosotros podemos crear nuestras propias palabras con significado, que llamaremos *variables*."
      ]
    },
    {
      "cell_type": "markdown",
      "metadata": {
        "id": "4h-d3HEL0Qhx"
      },
      "source": [
        "<div class=\"alert alert-block alert-success\">\n",
        "<b>Ejemplo 3:</b> Masa molecular del agua</div>"
      ]
    },
    {
      "cell_type": "code",
      "execution_count": null,
      "metadata": {
        "id": "unGjTZRU0Qhx"
      },
      "outputs": [],
      "source": [
        "# Variables: masa_hidrogeno y masa_oxigeno\n",
        "masa_hidrogeno = 1.001\n",
        "masa_oxigeno = 15.999"
      ]
    },
    {
      "cell_type": "code",
      "execution_count": null,
      "metadata": {
        "id": "YUfj3lhw0Qhx"
      },
      "outputs": [],
      "source": [
        "masa_agua = masa_hidrogeno*2 + masa_oxigeno\n",
        "print(f\"la masa molecular del agua es {masa_agua}\")"
      ]
    },
    {
      "cell_type": "markdown",
      "metadata": {
        "id": "Dc3LvBrl0Qhx"
      },
      "source": [
        "**Interpretar y compilar**"
      ]
    },
    {
      "cell_type": "markdown",
      "metadata": {
        "id": "sMrNY4CO0Qhy"
      },
      "source": [
        "<div class=text-justify>Como se mencionó Python es un <span style=\"color:magenta\">lenguaje de alto nivel</span>, como por ejemplo Java, C++, PHP, Ruby, Basic, Perl, JavaScript, y muchos más, sin embargo, el hardware que se encuentra dentro del CPU solo \"entiende\" un lenguaje llamado lenguaje de máquina o código\n",
        "máquina. El código máquina es muy simple y pesado de escribir, ya que está representado en su totalidad por solamente ceros y unos:\n",
        "\n",
        ".</div>\n",
        "</br>\n",
        "> 0010100011101001001010100000011  \n",
        "> 11100110000011101010010101101101  \n",
        "> ...\n"
      ]
    },
    {
      "cell_type": "markdown",
      "metadata": {
        "id": "agokNHsH0Qhy"
      },
      "source": [
        "<div class=text-justify>Como muy pocos programadores escriben en código máquina, Python, Javascript funcionan como traductores. Dado que el código máquina está ligado al hardware de la máquina que lo ejecuta, ese código no es portable (trasladable) entre equipos de  diferente tipo. Los programas escritos en lenguajes de alto nivel pueden ser trasladados entre distintas máquinas usando un intérprete diferente en cada una de ellas, o recompilando el código para crear una versión diferente del código máquina del programa para cada uno de los tipos de equipo. Esos traductores de lenguajes de programación forman dos categorías generales:</div>  \n",
        "    \n",
        "    (1) intérpretes y  \n",
        "    (2) compiladores  \n",
        "    \n",
        "<div class=text-justify>Un <span style=\"color:magenta\">intérprete</span> lee el código fuente de los programas tal y como ha sido escrito por el programador, lo analiza, e interpreta sus instrucciones sobre la marcha. Python es un intérprete y cuando lo estamos ejecutando de forma interactiva, podemos escribir una línea de Python (una frase), y este la procesa de forma inmediata, quedando listo para que podamos escribir otra línea. Algunas de esas líneas le indican a Python que tú quieres que recuerde cierto valor para utilizarlo más tarde. Tenemos que escoger un nombre para que ese valor sea recordado y usaremos ese nombre simbólico para recuperar el valor más tarde. Utilizamos el término <span style=\"color:magenta\">variable</span> para denominar las etiquetas que usamos para referirnos a esos datos almacenados.</div>\n",
        "\n",
        "> x = 6  \n",
        "> print(x)  \n",
        "> <span style=\"color:blue\">6</span>  \n",
        "\n",
        "> y = x * 7  \n",
        "> print(y)  \n",
        "> <span style=\"color:blue\">42</span>    \n",
        "</br>\n",
        "</div>"
      ]
    },
    {
      "cell_type": "markdown",
      "metadata": {
        "id": "xSeaXw-g0Qhy"
      },
      "source": [
        "<div class=text-justify>En este ejemplo, le pedimos a Python que recuerde el valor seis y use la etiqueta \"x\" para que podamos recuperar luego. Comprobamos que Python ha guardado de verdad el valor usando print. Luego le pedimos a Python que recupere \"x\", lo multiplique por siete y guarde el valor calculado en y. Finalmente, le pedimos a Python que escriba el valor actual de y. A pesar de que estamos escribiendo estos comandos en Python línea a línea, Python los está tratando como una secuencia ordenada de sentencias, en la cual las últimas frases son capaces de obtener datos creados en las anteriores. Estamos, por tanto, escribiendo nuestro primer párrafo sencillo con cuatro frases en un orden lógico y útil.</div>   \n",
        "</br>\n",
        "</br>\n",
        "<div class=text-justify>La esencia de un intérprete consiste en ser capaz de mantener una conversación interactiva como la mostrada más arriba. Un <span style=\"color:magenta\">compilador</span> necesita que le entreguen el programa completo en un fichero, y luego ejecuta un proceso para traducir el código fuente de alto nivel a código máquina, tras lo cual coloca ese código máquina resultante dentro de otro fichero para su ejecución posterior. En sistemas Windows, a menudo esos ejecutables en código máquina tienen un sufijo o extensión como “.exe” o “.dll”, que significan “ejecutable” y “librería de enlace dinámico” (dynamic link library) respectivamente. En Linux y Macintosh, no existe un sufijo que identifique de manera exclusiva a un fichero como ejecutable.  \n",
        "</br>\n",
        "</br>\n",
        "</br>\n",
        "</div>"
      ]
    },
    {
      "cell_type": "markdown",
      "metadata": {
        "id": "1STq6HRj0Qhy"
      },
      "source": [
        "**Escribiendo un programa**"
      ]
    },
    {
      "cell_type": "markdown",
      "metadata": {
        "id": "mo7c-mQX0Qhy"
      },
      "source": [
        "<div class=text-justify>Escribir comandos en el intérprete de Python es un buen modo de experimentar con las capacidades de Python, pero no es lo más recomendado a la hora de resolver problemas más complejos.\n",
        "Cuando queremos escribir un programa, usamos un editor de texto para escribir las instrucciones de Python en un fichero, que recibe el nombre de <span style=\"color:blue\"><b>script</b> </span>. Por convención, los scripts de Python tienen nombres que terminan en <span style=\"color:magenta\">.py</span>. Para ejecutar el script, hay que indicarle al intérprete de Python el nombre del fichero. En una ventana de comandos de Unix o Windows, escribirías <span style=\"color:magenta\">python hola.py</span>, de este modo:</span>"
      ]
    },
    {
      "cell_type": "code",
      "execution_count": null,
      "metadata": {
        "id": "WCIqS3gO0Qhy"
      },
      "outputs": [],
      "source": [
        "!cat hola.py"
      ]
    },
    {
      "cell_type": "code",
      "execution_count": null,
      "metadata": {
        "id": "UOy_AWcv0Qhy"
      },
      "outputs": [],
      "source": [
        "!python hola.py"
      ]
    },
    {
      "cell_type": "markdown",
      "metadata": {
        "id": "5fFGHSRr0Qhz"
      },
      "source": [
        "**¿Qué es un programa?**  \n",
        "\n",
        "<div class=text-justify>Podemos definir un programa, en su forma más básica, como una secuencia de declaraciones o sentencias que han sido diseñadas para hacer algo. Incluso nuestro sencillo script “<span style=\"color:magenta\">hola.py</span>” es un programa. Es un programa de una sola línea y no resulta particularmente útil, pero si nos ajustamos estrictamente a la definición, se trata de un programa en Python.</span>  \n",
        "    \n",
        "<div class=text-justify>Tal vez resulte más fácil comprender qué es un programa pensando en un problema que pudiera ser resuelto a través de un programa, y luego estudiando cómo sería el programa que solucionaría ese problema.</span>  \n",
        "\n",
        "<div class=text-justify>Supongamos que estás haciendo una investigación de computación o informática social en mensajes de Facebook, y te interesa conocer cual es la palabra más utilizada en un conjunto de mensajes. Podrías imprimir el flujo de mensajes de Facebook y revisar con atención el texto, buscando la palabra más común, pero sería un proceso largo y muy propenso a errores. Sería más inteligente escribir un programa en Python para encargarse de la tarea con rapidez y precisión, y así poder emplear nuestro tiempo en hacer otras cosas más divertidas.</span>   \n",
        "\n",
        "<div class=text-justify>Por ejemplo, fíjate en el texto del archivo <span style=\"color:magenta\">WW_canto.txt</span>, que contiene el poema «Canto a mí mismo» de Walt Whitman (Traducción de Jorge Luis Borges). Revísalo, trataremos de averiguar cual es la palabra más común y cuántas veces se repite con el programa visto líneas arriba, pero ahora guardado en el archivo <span style=\"color:magenta\">contador.py</span></span>.\n"
      ]
    },
    {
      "cell_type": "code",
      "execution_count": null,
      "metadata": {
        "id": "Ze9AjzNR0Qh3"
      },
      "outputs": [],
      "source": [
        "!python contador.py"
      ]
    },
    {
      "cell_type": "markdown",
      "metadata": {
        "id": "zRzLoDE80Qh3"
      },
      "source": [
        "<div class=\"alert alert-block alert-success\">\n",
        "<b>Ejemplo 4: ¿Cuántas \"A\" contiene la siguiente secuencia?</b></div>"
      ]
    },
    {
      "cell_type": "markdown",
      "metadata": {
        "id": "mpz61m-g0Qh3"
      },
      "source": [
        "**AGTCCCGATAAATCAG**  \n",
        "\n"
      ]
    },
    {
      "cell_type": "code",
      "execution_count": null,
      "metadata": {
        "id": "sUT-qiIV0Qh3"
      },
      "outputs": [],
      "source": [
        "x = 'ATG'"
      ]
    },
    {
      "cell_type": "code",
      "execution_count": null,
      "metadata": {
        "id": "i2Fj7B040Qh3"
      },
      "outputs": [],
      "source": [
        "y = 'TTT'"
      ]
    },
    {
      "cell_type": "code",
      "execution_count": null,
      "metadata": {
        "id": "h0uB-z8Z0Qh3"
      },
      "outputs": [],
      "source": [
        "type(x + y)"
      ]
    },
    {
      "cell_type": "code",
      "execution_count": null,
      "metadata": {
        "id": "9DUO4HVj0Qh3"
      },
      "outputs": [],
      "source": [
        "x+y #suma de strings produce concatenacion"
      ]
    },
    {
      "cell_type": "code",
      "execution_count": null,
      "metadata": {
        "id": "plpPsQ3u0Qh4"
      },
      "outputs": [],
      "source": [
        "seq1=\"AGTCCCGATAAATCAG\"\n",
        "seq1"
      ]
    },
    {
      "cell_type": "code",
      "execution_count": null,
      "metadata": {
        "id": "oYZ_0IRb0Qh4"
      },
      "outputs": [],
      "source": [
        "seq1.lower()\n",
        "#seq1.upper()"
      ]
    },
    {
      "cell_type": "code",
      "execution_count": null,
      "metadata": {
        "id": "TGwk7glf0Qh4"
      },
      "outputs": [],
      "source": [
        "seq1.count(\"A\")"
      ]
    },
    {
      "cell_type": "code",
      "execution_count": null,
      "metadata": {
        "id": "j4b-aQ300Qh4"
      },
      "outputs": [],
      "source": [
        "help(len)"
      ]
    },
    {
      "cell_type": "code",
      "execution_count": null,
      "metadata": {
        "id": "m_T1QS7n0Qh4"
      },
      "outputs": [],
      "source": [
        "#Reemplazando\n",
        "seq1.replace(\"T\",\"U\")"
      ]
    },
    {
      "cell_type": "code",
      "execution_count": null,
      "metadata": {
        "id": "NeHRu-7P0Qh5"
      },
      "outputs": [],
      "source": [
        "seq1[2]"
      ]
    },
    {
      "cell_type": "markdown",
      "metadata": {
        "id": "t8hd5xPX0Qh5"
      },
      "source": [
        "¿Si se cambio la T por la U, por qué aparece 'T' en seq1[2]?"
      ]
    },
    {
      "cell_type": "code",
      "execution_count": null,
      "metadata": {
        "scrolled": true,
        "id": "gd5mNevr0Qh5"
      },
      "outputs": [],
      "source": [
        "#Tomando unua porción\n",
        "seq1[1:5]"
      ]
    },
    {
      "cell_type": "markdown",
      "metadata": {
        "id": "jKeugXpL0Qh5"
      },
      "source": [
        "__Tipos de Errores de sintaxis__"
      ]
    },
    {
      "cell_type": "markdown",
      "metadata": {
        "id": "gwzuikL30Qh5"
      },
      "source": [
        "1. Errores de sintaxis:  \n",
        "<div class=text-justify>Estos son los primeros errores que cometerás y también los más fáciles de solucionar. Un error de sintaxis significa que has violado las reglas “gramaticales” de Python. Python hace todo lo que puede para señalar el punto exacto, la línea y el carácter donde ha detectado el fallo. Lo único complicado de los errores de sintaxis es que a veces el error que debe corregirse está en realidad en una línea anterior a la cual Python detectó ese fallo. De modo que la línea y el carácter que Python indica en un error de sintaxis pueden ser tan sólo un punto de partida para tu investigación.</div>\n",
        "<br/>\n",
        "2. Errores lógicos:    \n",
        "<div class=text-justify>Se produce un error lógico cuando un programa tiene una sintaxis correcta, pero existe un error en el orden de las sentencias o en la forma en que están relacionadas unas con otras. Un buen ejemplo de un error lógico sería: “toma un trago de tu botella de agua, ponla en tu mochila, camina hasta la biblioteca y luego vuelve a enroscar la tapa en la botella.”</div>\n",
        "<br/>\n",
        "3. Errores semánticos:  \n",
        "<div class=text-justify>Un error semántico ocurre cuando la descripción que has brindado de los pasos a seguir es sintácticamente perfecta y está en el orden\n",
        "correcto, pero sencillamente hay un error en el programa. El programa es correcto, pero no hace lo que tú pretendías que hiciera. Un ejemplo podría ser cuando le das indicaciones a alguien sobre cómo llegar a un restaurante, y le dices “. . . cuando llegues a la intersección con la gasolinera, gira a la izquierda, continúa durante otro kilómetro y el restaurante es el edificio rojo que encontrarás a tu izquierda.”. Tu amigo se retrasa y te llama para decirte que está en una granja dando vueltas alrededor de un granero, sin rastro alguno de un restaurante. Entonces le preguntas “¿giraste a la izquierda o la derecha?”, y te responde “Seguí tus indicaciones al pie de la letra, dijiste que girara a la izquierda y continuar un kilómetro desde la gasolinera.”, entonces le respondes “Lo siento mucho, porque a pesar de que mis indicaciones fueron sintácticamente correctas, tristemente contenían un pequeño pero indetectado error semántico.”</div>"
      ]
    },
    {
      "cell_type": "markdown",
      "metadata": {
        "id": "Nxu9qDbT0Qh5"
      },
      "source": [
        "### Glosario"
      ]
    },
    {
      "cell_type": "markdown",
      "metadata": {
        "id": "5qaJpPzs0Qh6"
      },
      "source": [
        "__bug__ Un error en un programa.  \n",
        "__código fuente__ Un programa en un lenguaje de alto nivel.  \n",
        "__código máquina__ El lenguaje de más bajo nivel para el software, es decir, el lenguaje que es directamente ejecutado por la unidad central de procesamiento (CPU).  \n",
        "__compilar__ Traducir un programa completo escrito en un lenguaje de alto nivel a un lenguaje de bajo nivel, para dejarlo listo para una ejecución posterior.  \n",
        "__error semántico__ Un error dentro de un programa que provoca que haga algo diferente de lo que pretendía el programador.  \n",
        "__función print__ Una instrucción que hace que el intérprete de Python muestre un valor en la pantalla.  \n",
        "__indicador de línea de comandos (prompt)__ Cuando un programa muestra un mensaje y se detiene para que el usuario teclee algún tipo de dato.  \n",
        "__interpretar__ Ejecutar un programa escrito en un lenguaje de alto nivel traduciéndolo línea a línea.  \n",
        "__lenguaje de alto nivel__ Un lenguaje de programación como Python, que ha sido diseñado para que sea fácil de leer y escribir por las personas.  \n",
        "__lenguaje de bajo nivel__ Un lenguaje de programación que está diseñado para ser fácil de ejecutar para una computadora; también recibe el nombre de “código máquina”, “lenguaje máquina” o “lenguaje ensamblador”.  \n",
        "__memoria principal__ Almacena los programas y datos. La memoria principal pierde su información cuando se desconecta la alimentación.  \n",
        "__memoria secundaria__ Almacena los programas y datos y mantiene su información incluso cuando se interrumpe la alimentación. Es generalmente más lenta que la memoria principal. Algunos ejemplos de memoria secundaria son las unidades de disco y memorias flash que se encuentran dentro de los dispositivos USB.  \n",
        "__modo interactivo__ Un modo de usar el intérprete de Python, escribiendo comandos y expresiones directamente en el indicador de la línea de comandos.  \n",
        "__parsear__ Examinar un programa y analizar la estructura sintáctica.  \n",
        "__portabilidad__ Es la propiedad que poseen los programas que pueden  funcionar en más de un tipo de computadora.  \n",
        "__programa__ Un conjunto de instrucciones que indican cómo realizar algún tipo de cálculo.  \n",
        "__resolución de un problema__ El proceso de formular un problema, encontrar una solución, y mostrar esa solución.  \n",
        "__semántica__ El significado de un programa.  \n",
        "__unidad central de procesamiento__ El corazón de cualquier computadora. Eslo que ejecuta el software que escribimos. También recibe el nombre de “CPU” por sus siglas en inglés (Central Processsing Unit), o simplemente, “el procesador”.  "
      ]
    },
    {
      "cell_type": "markdown",
      "metadata": {
        "id": "I1h1kc3R0Qh6"
      },
      "source": [
        "### Ejercicios"
      ]
    },
    {
      "cell_type": "markdown",
      "metadata": {
        "id": "M_YEWqV80Qh6"
      },
      "source": [
        "__Ejercicio 1: ¿Cuál es la función de la memoria secundaria en una computadora?__  \n",
        "a) Ejecutar todos los cálculos y la lógica del programa  \n",
        "b) Descargar páginas web de Internet  \n",
        "c) Almacenar información durante mucho tiempo, incluso después de ciclos de apagado y encendido  \n",
        "d) Recolectar la entrada del usuario  "
      ]
    },
    {
      "cell_type": "markdown",
      "metadata": {
        "id": "pVwVUFi70Qh6"
      },
      "source": [
        "Ejercicio 2: ¿Qué es un programa?"
      ]
    },
    {
      "cell_type": "markdown",
      "metadata": {
        "id": "NGkL2fWr0Qh6"
      },
      "source": [
        "Ejercicio 3: ¿Cuál es la diferencia entre un compilador y un intérprete?"
      ]
    },
    {
      "cell_type": "markdown",
      "metadata": {
        "id": "2e48BIJo0Qh6"
      },
      "source": [
        "__Ejercicio 4: ¿Cuál de los siguientes contiene “código máquina”?__  \n",
        "a) El intérprete de Python  \n",
        "b) El teclado  \n",
        "c) El código fuente de Python  \n",
        "d) Un documento de un procesador de texto  "
      ]
    },
    {
      "cell_type": "markdown",
      "metadata": {
        "id": "QqvdofuE0Qh6"
      },
      "source": [
        "__Ejercicio 5: ¿Qué está mal en el siguiente código?:__"
      ]
    },
    {
      "cell_type": "markdown",
      "metadata": {
        "id": "Capb3mY50Qh7"
      },
      "source": [
        "<img src=\"https://github.com/inefable12/Python_para_todos/blob/main/imagenes/imagen3.PNG?raw=1\">"
      ]
    },
    {
      "cell_type": "markdown",
      "metadata": {
        "id": "UnOI-m7Z0Qh7"
      },
      "source": [
        "__Ejercicio 6: ¿En qué lugar del computador queda almacenada una variable, como en este caso “X”, después de ejecutar la siguiente línea de Python?:__"
      ]
    },
    {
      "cell_type": "markdown",
      "metadata": {
        "id": "pRlrcrJI0Qh7"
      },
      "source": [
        "x = 123  \n",
        "a) Unidad central de procesamiento  \n",
        "b) Memoria Principal  \n",
        "c) Memoria Secundaria  \n",
        "d) Dispositivos de Entrada  \n",
        "e) Dispositivos de Salida  "
      ]
    },
    {
      "cell_type": "markdown",
      "metadata": {
        "id": "PfUdIiQS0Qh7"
      },
      "source": [
        "__Ejercicio 7: ¿Qué mostrará en pantalla el siguiente programa?:__"
      ]
    },
    {
      "cell_type": "markdown",
      "metadata": {
        "id": "8wPLRjhp0Qh7"
      },
      "source": [
        "> x = 43  \n",
        "> x = x + 1  \n",
        "> print(x)"
      ]
    },
    {
      "cell_type": "markdown",
      "metadata": {
        "id": "4-4HLTEb0Qh7"
      },
      "source": [
        "a) 43  \n",
        "b) 44  \n",
        "c) x + 1  \n",
        "d) Error, porque x = x + 1 no es posible matemáticamente.  "
      ]
    },
    {
      "cell_type": "markdown",
      "metadata": {
        "id": "bU9WiwRU0Qh7"
      },
      "source": [
        "__Ejercicio 8:__ Explica cada uno de los siguientes conceptos usando un ejemplo de una capacidad humana:   \n",
        "(1) Unidad central de procesamiento,   \n",
        "(2) Memoria principal,   \n",
        "(3) Memoria secundaria,  \n",
        "(4) Dispositivos de entrada, y  \n",
        "(5) Dispositivos de salida.  \n",
        "Por ejemplo, “¿Cuál sería el equivalente humano de la Unidad central de procesamiento?”."
      ]
    },
    {
      "cell_type": "markdown",
      "metadata": {
        "id": "JDnaNZni0Qh7"
      },
      "source": [
        "__Ejercicio 9:__ ¿Cómo puedes corregir un “Error de sintaxis”?."
      ]
    },
    {
      "cell_type": "markdown",
      "metadata": {
        "id": "fdjtflXm0Qh7"
      },
      "source": [
        "---\n",
        "<img src=\"https://github.com/inefable12/Python_para_todos/blob/main/imagenes/xkcd911.PNG?raw=1\">\n",
        "<br/>  \n",
        "<br/>  \n",
        "<br/>"
      ]
    },
    {
      "cell_type": "markdown",
      "metadata": {
        "id": "AK5dZsad0Qh8"
      },
      "source": [
        "## Valores, tipos & variables"
      ]
    },
    {
      "cell_type": "markdown",
      "metadata": {
        "id": "9MVqodGP0Qh8"
      },
      "source": [
        "### Valores y tipos"
      ]
    },
    {
      "cell_type": "markdown",
      "metadata": {
        "id": "uvyWxfH60Qh8"
      },
      "source": [
        "Los números o las palabras son *valores* y estos pertenecen a categorías o *tipos* diferentes, como los enteros o las cadenas (*strings*). Las cadenas reciben este nombre por contener un conjunto o \"cadena\" de letras. Podemos identificar las cadenas porque van encerradas entre comillas. Entonces también podemos expresar los números como cadenas si les colocamos comillas."
      ]
    },
    {
      "cell_type": "code",
      "execution_count": null,
      "metadata": {
        "id": "V18sae610Qh8"
      },
      "outputs": [],
      "source": [
        "saludo = 'hola'\n",
        "type(saludo)"
      ]
    },
    {
      "cell_type": "code",
      "execution_count": null,
      "metadata": {
        "id": "smZJLOW40Qh8"
      },
      "outputs": [],
      "source": [
        "type(12)"
      ]
    },
    {
      "cell_type": "code",
      "execution_count": null,
      "metadata": {
        "id": "8McAQI1_0Qh8"
      },
      "outputs": [],
      "source": [
        "type(12.0)"
      ]
    },
    {
      "cell_type": "code",
      "execution_count": null,
      "metadata": {
        "id": "Qrvk6nVW0Qh8"
      },
      "outputs": [],
      "source": [
        "clave_numerica = '123456'\n",
        "type(clave_numerica)"
      ]
    },
    {
      "cell_type": "markdown",
      "metadata": {
        "id": "2Ic472uC0Qh8"
      },
      "source": [
        "Si usamos comas para denotar un número grande, python lo interpretará como"
      ]
    },
    {
      "cell_type": "code",
      "execution_count": null,
      "metadata": {
        "id": "48S4_jJS0Qh9"
      },
      "outputs": [],
      "source": [
        "que_es = (1,000,000)\n",
        "que_es"
      ]
    },
    {
      "cell_type": "code",
      "execution_count": null,
      "metadata": {
        "id": "7_GZ-tJp0Qh9"
      },
      "outputs": [],
      "source": [
        "type(que_es)"
      ]
    },
    {
      "cell_type": "code",
      "execution_count": null,
      "metadata": {
        "id": "9BNXpTMa0Qh9"
      },
      "outputs": [],
      "source": [
        "print(1,000,000)"
      ]
    },
    {
      "cell_type": "code",
      "execution_count": null,
      "metadata": {
        "id": "0OW-OTVD0Qh9"
      },
      "outputs": [],
      "source": [
        "type(print(1,000,000))"
      ]
    },
    {
      "cell_type": "markdown",
      "metadata": {
        "id": "dwkA2U8Z0Qh9"
      },
      "source": [
        "### Variables"
      ]
    },
    {
      "cell_type": "markdown",
      "metadata": {
        "id": "VFX9K6GR0Qh9"
      },
      "source": [
        "Una de las características más potentes de un lenguaje de programación es la capacidad de manipular variables. Una variable es un nombre que se refiere a un\n",
        "valor."
      ]
    },
    {
      "cell_type": "markdown",
      "metadata": {
        "id": "2yO_qt9c0Qh-"
      },
      "source": [
        "**Nombres de las variables**"
      ]
    },
    {
      "cell_type": "markdown",
      "metadata": {
        "id": "1KvsYhta0Qh-"
      },
      "source": [
        "Los nombres que les asignamos a las variables generalmente documentan lo que estamos haciendo. Estas no pueden comenzar en números y tampoco tener espacios, caracteres especiales o guiones, a menos que sea un guión-bajo. De cometer estos errores, recibiremos el mensaje: \"SyntaxError: invalid syntax\""
      ]
    },
    {
      "cell_type": "code",
      "execution_count": null,
      "metadata": {
        "id": "euy_kbz50Qh-"
      },
      "outputs": [],
      "source": [
        "123bien = 'primer comentario'"
      ]
    },
    {
      "cell_type": "code",
      "execution_count": null,
      "metadata": {
        "id": "jef1S3bU0Qh-"
      },
      "outputs": [],
      "source": [
        "123 bien = \"segundo comentario\""
      ]
    },
    {
      "cell_type": "code",
      "execution_count": null,
      "metadata": {
        "id": "urF9c9LI0Qh-"
      },
      "outputs": [],
      "source": [
        "ninh@s = \"3\""
      ]
    },
    {
      "cell_type": "code",
      "execution_count": null,
      "metadata": {
        "id": "Wo4qsOeL0Qh-"
      },
      "outputs": [],
      "source": [
        "mensaje = 'Y ahora algo completamente diferente'\n",
        "n = 17\n",
        "pi = 3.1415926535897931"
      ]
    },
    {
      "cell_type": "markdown",
      "metadata": {
        "id": "JcRHd6xg0Qh-"
      },
      "source": [
        "La última celda no comete los errores mencionados, por ende, podemos emplear esas variables para realizar operaciones con python."
      ]
    },
    {
      "cell_type": "markdown",
      "metadata": {
        "id": "PEd04JfT0Qh_"
      },
      "source": [
        "### Sentencias"
      ]
    },
    {
      "cell_type": "markdown",
      "metadata": {
        "id": "ambiV56G0Qh_"
      },
      "source": [
        "Una sentencia es una unidad de código que el intérprete de Python puede ejecutar, como por ejemplo, print('hola') o pi=3.14.  \n",
        "\n",
        "Cuando escribes una sentencia en modo interactivo, el intérprete la ejecuta y muestra el resultado, si es que lo hay.  \n",
        "\n",
        "Un script normalmente contiene una secuencia de sentencias. Si hay más de una sentencia, los resultados aparecen de uno en uno según se van ejecutando las sentencias."
      ]
    },
    {
      "cell_type": "markdown",
      "metadata": {
        "id": "jgrOrWSy0Qh_"
      },
      "source": [
        "### Operadores y operandos"
      ]
    },
    {
      "cell_type": "markdown",
      "metadata": {
        "id": "JU-YacZY0Qh_"
      },
      "source": [
        "Los operadores son símbolos especiales que representan cálculos, como la suma o la multiplicación. Los valores a los cuales se aplican esos operadores reciben el nombre de operandos.  \n",
        "\n",
        "Los operadores +, -,/,\\\\, y * realizan sumas, restas, multiplicaciones, divisiones y exponenciación (elevar un número a una potencia), como se muestra en los ejemplos siguientes:"
      ]
    },
    {
      "cell_type": "code",
      "execution_count": null,
      "metadata": {
        "id": "bGVjs1Bq0Qh_"
      },
      "outputs": [],
      "source": [
        "hora=20+2\n",
        "print(\n",
        "    hora-1,\n",
        "    hora*20,\n",
        "    hora*60/3,\n",
        "    5**2,\n",
        "    (5-7)*(15-7)\n",
        ")"
      ]
    },
    {
      "cell_type": "code",
      "execution_count": null,
      "metadata": {
        "id": "dFT5_0v20Qh_"
      },
      "outputs": [],
      "source": [
        "2/5"
      ]
    },
    {
      "cell_type": "code",
      "execution_count": null,
      "metadata": {
        "id": "znBA6Xxr0Qh_"
      },
      "outputs": [],
      "source": [
        "2//5"
      ]
    },
    {
      "cell_type": "markdown",
      "metadata": {
        "id": "85PZGkFB0Qh_"
      },
      "source": [
        "### Expresiones"
      ]
    },
    {
      "cell_type": "markdown",
      "metadata": {
        "id": "nnnW_Th40QiA"
      },
      "source": [
        "Una expresión es una combinación de valores, variables y operadores. Un valor por si mismo se considera una expresión, y también lo es una variable."
      ]
    },
    {
      "cell_type": "code",
      "execution_count": null,
      "metadata": {
        "id": "jnKSa_7D0QiA"
      },
      "outputs": [],
      "source": [
        "x=1\n",
        "x+2"
      ]
    },
    {
      "cell_type": "markdown",
      "metadata": {
        "id": "4kZbPvHE0QiA"
      },
      "source": [
        "Las expresiones se tornarán más útiles en un script, cuando realicemos iteración o recursividad más adelante."
      ]
    },
    {
      "cell_type": "code",
      "execution_count": null,
      "metadata": {
        "id": "WAnxMrd20QiA"
      },
      "outputs": [],
      "source": [
        "# Ejemplo de recursividad, se verá con mayor detalle más adelante\n",
        "def fun_fact(x):\n",
        " if (x==1):\n",
        "   return 1\n",
        " else:\n",
        "   x=(x*fun_fact(x-1))\n",
        " return x"
      ]
    },
    {
      "cell_type": "code",
      "execution_count": null,
      "metadata": {
        "id": "Zi3mM89-0QiA"
      },
      "outputs": [],
      "source": [
        "num=6\n",
        "print(\"El factorial de \", num, \"es \",fun_fact(num))"
      ]
    },
    {
      "cell_type": "markdown",
      "metadata": {
        "id": "0VY-MoRH0QiA"
      },
      "source": [
        "### Orden de las operaciones"
      ]
    },
    {
      "cell_type": "markdown",
      "metadata": {
        "id": "yUp4TWZa0QiA"
      },
      "source": [
        "Cuando tenemos más de un operador\n",
        "\n",
        "Las reglas de precedencia, para cuando tenemos más de un operador"
      ]
    },
    {
      "cell_type": "markdown",
      "metadata": {
        "id": "WZKdYpwl0QiB"
      },
      "source": [
        "### Operador módulo"
      ]
    },
    {
      "cell_type": "markdown",
      "metadata": {
        "id": "D2D3Rv0_0QiB"
      },
      "source": [
        "El operador módulo trabaja con enteros y obtiene el resto de la operación consistente en dividir el primer operando por el segundo."
      ]
    },
    {
      "cell_type": "code",
      "execution_count": null,
      "metadata": {
        "id": "at91N0TQ0QiB"
      },
      "outputs": [],
      "source": [
        "quotient = 7 // 3\n",
        "print(quotient)"
      ]
    },
    {
      "cell_type": "code",
      "execution_count": null,
      "metadata": {
        "id": "3h39gR7H0QiB"
      },
      "outputs": [],
      "source": [
        "remainder = 7 % 3\n",
        "print(remainder)"
      ]
    },
    {
      "cell_type": "markdown",
      "metadata": {
        "id": "budOQPGp0QiB"
      },
      "source": [
        "### Operaciones con cadenas"
      ]
    },
    {
      "cell_type": "markdown",
      "metadata": {
        "id": "y8tLTsvO0QiB"
      },
      "source": [
        "El operador + funciona con las cadenas, pero no realiza una suma en el sentido\n",
        "matemático. En vez de eso, realiza una concatenación, que quiere decir que une\n",
        "ambas cadenas, enlazando el final de la primera con el principio de la segunda. Por\n",
        "ejemplo:"
      ]
    },
    {
      "cell_type": "code",
      "execution_count": null,
      "metadata": {
        "id": "GXWwGSzo0QiB"
      },
      "outputs": [],
      "source": [
        "primero = 10\n",
        "segundo = 15\n",
        "print(primero+segundo)"
      ]
    },
    {
      "cell_type": "code",
      "execution_count": null,
      "metadata": {
        "id": "R7t30yV90QiB"
      },
      "outputs": [],
      "source": [
        "primero = '100'\n",
        "segundo = '150'\n",
        "print(primero+segundo)"
      ]
    },
    {
      "cell_type": "markdown",
      "metadata": {
        "id": "zcYSFeJu0QiC"
      },
      "source": [
        "El operador * también trabaja con cadenas multiplicando el contenido de una\n",
        "cadena por un entero. Por ejemplo:"
      ]
    },
    {
      "cell_type": "code",
      "execution_count": null,
      "metadata": {
        "id": "K78v_twf0QiC"
      },
      "outputs": [],
      "source": [
        "primero = 'Test '\n",
        "second = 3\n",
        "print(primero * second)"
      ]
    },
    {
      "cell_type": "markdown",
      "metadata": {
        "id": "Mx9g1lUK0QiC"
      },
      "source": [
        "### Glosario"
      ]
    },
    {
      "cell_type": "markdown",
      "metadata": {
        "id": "pu8ENcvp0QiC"
      },
      "source": [
        "__asignación__ Una sentencia que asigna un valor a una variable.  \n",
        "__cadena__ Un tipo que representa secuencias de caracteres.  \n",
        "__concatenar__ Unir dos operandos, uno a continuación del otro.   \n",
        "__comentario__ Información en un programa que se pone para otros programadores\n",
        "(o para cualquiera que lea el código fuente), y no tiene efecto alguno en la\n",
        "ejecución del programa.  \n",
        "__división entera__ La operación que divide dos números y trunca la parte fraccionaria.  \n",
        "__entero__ Un tipo que representa números enteros.  \n",
        "__evaluar__ Simplificar una expresión realizando las operaciones en orden para obtener un único valor.  \n",
        "__expresión__ Una combinación de variables, operadores y valores que representan un único valor resultante.  \n",
        "__mnemónico__ Una ayuda para memorizar. A menudo damos nombres mnemónicos a las variables para ayudarnos a recordar qué está almacenado en ellas.  \n",
        "__palabra clave__ Una palabra reservada que es usada por el compilador para analizar un programa; no se pueden usar palabres clave como *if*, *def*, y *while* como nombres de variables.  \n",
        "__punto flotante__ Un tipo que representa números con parte decimal.  \n",
        "__operador__ Un símbolo especial que representa un cálculo simple, como suma, multiplicación o concatenación de cadenas.  \n",
        "__operador módulo__ Un operador, representado por un signo de porcentaje (%), que funciona con enteros y obtiene el resto cuando un número es dividido por otro.  \n",
        "__operando__ Uno de los valores con los cuales un operador opera.  \n",
        "__reglas de precedencia__ El conjunto de reglas que gobierna el orden en el cual son evaluadas las expresiones que involucran a múltiples operadores.   \n",
        "__sentencia__ Una sección del código que representa un comando o acción. Hasta ahora, las únicas sentencias que hemos visto son asignaciones y sentencias print.  \n",
        "__tipo__ Una categoría de valores. Los tipos que hemos visto hasta ahora son enteros (tipo int), números en punto flotante (tipo float), y cadenas (tipo str).   \n",
        "__valor__ Una de las unidades básicas de datos, como un número o una cadena, que un programa manipula.  \n",
        "__variable__ Un nombre que hace referencia a un valor."
      ]
    },
    {
      "cell_type": "markdown",
      "metadata": {
        "id": "H39KDEBn0QiC"
      },
      "source": [
        "### Ejercicios"
      ]
    },
    {
      "cell_type": "markdown",
      "metadata": {
        "id": "cm906Slt0QiC"
      },
      "source": [
        "**Ejercicio 10: Escribe un programa que pida al usuario su nombre y luego darle la bienvenida.**\n",
        "> Introduzca su nombre: Puquna  \n",
        "> Hola, Puquna"
      ]
    },
    {
      "cell_type": "markdown",
      "metadata": {
        "id": "Z_I5g6B_0QiC"
      },
      "source": [
        "**Ejercicio 11: Escribe un programa para pedirle al usuario el número de horas y la tarifa por hora para calcular el salario bruto.**\n",
        "> Introduzca Horas: 35  \n",
        "> Introduzca Tarifa: 2.75  \n",
        "> Salario: 96.25  \n",
        "\n",
        "<div class=text-justify>Por ahora no es necesario preocuparse de que nuestro salario tenga exactamente\n",
        "dos dígitos después del punto decimal. Si quieres, puedes probar la función interna\n",
        "de Python round para redondear de forma adecuada el salario resultante a dos\n",
        "dígitos decimales.</div>"
      ]
    },
    {
      "cell_type": "markdown",
      "metadata": {
        "id": "PUMxHNEN0QiC"
      },
      "source": [
        "**Ejercicio 12: Asume que ejecutamos las siguientes sentencias de asignación:**\n",
        "> ancho = 17  \n",
        "> alto = 12.0  \n",
        "\n",
        "Para cada una de las expresiones siguientes, escribe el valor de la expresión y el tipo (del valor de la expresión).\n",
        "1. ancho/2\n",
        "2. ancho/2.0\n",
        "3. alto/3\n",
        "4. 1 + 2 * 5  \n",
        "\n",
        "Usa el intérprete de Python para comprobar tus respuestas."
      ]
    },
    {
      "cell_type": "markdown",
      "metadata": {
        "id": "c7a5NYM80QiD"
      },
      "source": [
        "<div class=text-justify>Ejercicio 13: Escribe un programa que le pida al usuario una temperatura en grados Celsius, la convierta a grados Fahrenheit e imprima por pantalla la temperatura convertida.</div>"
      ]
    },
    {
      "cell_type": "markdown",
      "source": [
        "https://xkcd.com/99/"
      ],
      "metadata": {
        "id": "7cbJ52gA1Wfc"
      }
    },
    {
      "cell_type": "markdown",
      "metadata": {
        "id": "L1HWPXDQ0QiD"
      },
      "source": [
        "---\n",
        "<img src=\"https://github.com/inefable12/Python_para_todos/blob/main/imagenes/xkcd99.jpg?raw=1\">\n",
        "<br/>  \n",
        "<br/>  \n",
        "<br/>"
      ]
    },
    {
      "cell_type": "markdown",
      "metadata": {
        "id": "VJ0aCedV0QiD"
      },
      "source": [
        "## Ejecución condicional"
      ]
    },
    {
      "cell_type": "markdown",
      "metadata": {
        "id": "b2bcd2rI0QiD"
      },
      "source": [
        "### Expresiones booleanas"
      ]
    },
    {
      "cell_type": "markdown",
      "metadata": {
        "id": "uxLE6khX0QiD"
      },
      "source": [
        "<div class=text-justify>Una expresión booleana es aquella que puede ser verdadera (True) o falsa (False). Los ejemplos siguientes usan el operador ==, que compara dos operandos y devuelve True si son iguales y False en caso contrario:</div>"
      ]
    },
    {
      "cell_type": "code",
      "execution_count": null,
      "metadata": {
        "id": "HLBDZrBe0QiD"
      },
      "outputs": [],
      "source": [
        "5 == 5"
      ]
    },
    {
      "cell_type": "code",
      "execution_count": null,
      "metadata": {
        "id": "jv0-cQM40QiD"
      },
      "outputs": [],
      "source": [
        "5 == 6"
      ]
    },
    {
      "cell_type": "markdown",
      "metadata": {
        "id": "f1rky8d20QiE"
      },
      "source": [
        "True y False son valores especiales que pertenecen al tipo bool (booleano); no son cadenas:"
      ]
    },
    {
      "cell_type": "code",
      "execution_count": null,
      "metadata": {
        "id": "K-0xurfX0QiE"
      },
      "outputs": [],
      "source": [
        "type(True)"
      ]
    },
    {
      "cell_type": "markdown",
      "metadata": {
        "id": "0DSLgfVQ0QiE"
      },
      "source": [
        "<div class=\"alert alert-block alert-warning\">El operador == es uno de los operadores de comparación; los demás son:</div>\n",
        "\n",
        "x es distinto de y   \n",
        "**x != y**  \n",
        "\n",
        "x es mayor que y  \n",
        "**x > y** #   \n",
        "\n",
        "x es menor que y  \n",
        "**x < y** #   \n",
        "\n",
        "x es mayor o igual que y  \n",
        "**x >= y** #\n",
        "\n",
        "\n",
        "**x <= y** # x es menor o igual que y  \n",
        "\n",
        "\n",
        "**x is y** # x es lo mismo que y  \n",
        "\n",
        "\n",
        "**x is not y** # x no es lo mismo que y  "
      ]
    },
    {
      "cell_type": "markdown",
      "metadata": {
        "id": "SIvPbfQB0QiE"
      },
      "source": [
        "<div class=\"alert alert-block alert-info\">Recuerda que = es un operador de asignación, y == es un operador de comparación. No existe algo como =< o => </div>"
      ]
    },
    {
      "cell_type": "markdown",
      "metadata": {
        "id": "rXIuzKnT0QiE"
      },
      "source": [
        "### Operadores lógicos"
      ]
    },
    {
      "cell_type": "markdown",
      "metadata": {
        "id": "HDYjCEhu0QiE"
      },
      "source": [
        "Existen tres operadores lógicos: and (y), or (o), y not (no). El significado\n",
        "semántico de estas operaciones es similar a su significado en inglés. Por ejemplo,\n",
        "\n",
        "x > 0 and x < 10\n",
        "\n",
        "es verdadero sólo cuando x es mayor que 0 y menor que 10."
      ]
    },
    {
      "cell_type": "code",
      "execution_count": null,
      "metadata": {
        "id": "HEoRNtv40QiE"
      },
      "outputs": [],
      "source": [
        "13 and True"
      ]
    },
    {
      "cell_type": "markdown",
      "metadata": {
        "id": "GGONs8xj0QiF"
      },
      "source": [
        "### Ejecución condicional"
      ]
    },
    {
      "cell_type": "markdown",
      "metadata": {
        "id": "-mna7rCE0QiF"
      },
      "source": [
        "<div class=text-justify>Para poder escribir programas útiles, casi siempre vamos a necesitar la capacidad de comprobar condiciones y cambiar el comportamiento del programa de acuerdo a ellas. Las sentencias condicionales nos proporcionan esa capacidad. La forma más sencilla es la sentencia if:</div>"
      ]
    },
    {
      "cell_type": "code",
      "execution_count": null,
      "metadata": {
        "id": "veNocOYr0QiF"
      },
      "outputs": [],
      "source": [
        "x=3\n",
        "if x>0:\n",
        "    print('x es positivo')"
      ]
    },
    {
      "cell_type": "code",
      "execution_count": null,
      "metadata": {
        "id": "cdjSyGvZ0QiF"
      },
      "outputs": [],
      "source": [
        "ent = input('Introduzca la Temperatura Fahrenheit:')\n",
        "try:\n",
        "    fahr = float(ent)\n",
        "    cel = (fahr - 32.0) * 5.0 / 9.0\n",
        "    print(cel)\n",
        "except:\n",
        "    print('Por favor, introduzca un número')"
      ]
    },
    {
      "cell_type": "markdown",
      "metadata": {
        "id": "76IvwCRf0QiF"
      },
      "source": [
        "### Glosario"
      ]
    },
    {
      "cell_type": "markdown",
      "metadata": {
        "id": "7cil9ds_0QiF"
      },
      "source": [
        "**condición** La expresión booleana en una sentencia condicional que determina qué rama será ejecutada.  \n",
        "**condicional anidado** Una sentencia condicional que aparece en una de las ramas de otra sentencia condicional.  \n",
        "**condicional encadenado** Una sentencia condicional con una serie de ramas alternativas.  \n",
        "**cortocircuito** Cuando Python va evaluando una expresión lógica por tramos y detiene el proceso de evaluación debido a que ya conoce el valor final que va a tener el resultado sin necesidad de evaluar el resto de la expresión.  \n",
        "**cuerpo** La secuencia de sentencias en el interior de una sentencia compuesta.  \n",
        "**expresión booleana** Un expresión cuyo valor puede ser o bien Verdadero o bien Falso.  \n",
        "**operadores de comparación** Uno de los operadores que se utiliza para comparar dos operandos: ==, !=, >, <, >=, y <=.  \n",
        "**operador lógico** Uno de los operadores que se combinan en las expresiones booleanas: and, or, y not.  \n",
        "**patrón guardián** Cuando construimos una expresión lógica con comparaciones adicionales para aprovecharnos del funcionamiento en cortocircuito.  \n",
        "**rama** Una de las secuencias alternativas de sentencias en una sentencia condicional.  \n",
        "**sentencia compuesta** Una sentencia que consiste en un encabezado y un cuerpo. El encabezado termina con dos-puntos (:). El cuerpo está indentado con relación al encabezado.  \n",
        "**sentencia condicional** Una sentencia que controla el flujo de ejecución, dependiendo de cierta condición.  \n",
        "**traceback** Una lista de las funciones que se están ejecutando, que se muestra en pantalla cuando se produce una excepción."
      ]
    },
    {
      "cell_type": "markdown",
      "metadata": {
        "id": "e6cdwNtZ0QiF"
      },
      "source": [
        "### Ejercicios"
      ]
    },
    {
      "cell_type": "markdown",
      "metadata": {
        "id": "53h-WVt20QiF"
      },
      "source": [
        "**Ejercicio 14: Reescribe el programa del cálculo del salario de la referencia 2, para darle al empleado 1.5 veces la tarifa horaria para todas las horas trabajadas que excedan de 40.**  \n",
        "> Introduzca las Horas: 45  \n",
        "> Introduzca la Tarifa por hora: 10  \n",
        "> Salario: 475.0"
      ]
    },
    {
      "cell_type": "markdown",
      "metadata": {
        "id": "94-nfVpB0QiG"
      },
      "source": [
        "**Ejercicio 15: Reescribe el programa del salario de la referencia 2, usando try y except, de modo que el programa sea capaz de gestionar entradas no numéricas con elegancia, mostrando un mensaje y saliendo del programa. A continuación se muestran dos ejecuciones\n",
        "del programa:**  \n",
        "> Introduzca las Horas: 20  \n",
        "> Introduzca la Tarifa por hora: nueve  \n",
        "> Error, por favor introduzca un número  \n",
        "<br/>\n",
        "> Introduzca las Horas: cuarenta  \n",
        "> Error, por favor introduzca un número"
      ]
    },
    {
      "cell_type": "markdown",
      "metadata": {
        "id": "uw41ls1L0QiG"
      },
      "source": [
        "**Ejercicio 16: Escribe un programa que solicite una puntuación entre 0.0 y 1.0. Si la puntuación está fuera de ese rango, muestra un mensaje de error. Si la puntuación está entre 0.0 y 1.0, muestra la calificación usando la tabla siguiente:**"
      ]
    },
    {
      "cell_type": "markdown",
      "metadata": {
        "id": "5L7sG1SZ0QiG"
      },
      "source": [
        "Puntuación Calificación  \n",
        "**>= 0.9** Sobresaliente  \n",
        "**>= 0.8** Notable  \n",
        "**>= 0.7** Bien  \n",
        "**>= 0.6** Suficiente  \n",
        "**< 0.6** Insuficiente  \n",
        "Introduzca puntuación: 0.95  \n",
        "Sobresaliente  \n",
        "Introduzca puntuación: perfecto  \n",
        "Puntuación incorrecta  \n",
        "Introduzca puntuación: 10.0  \n",
        "Puntuación incorrecta  \n",
        "Introduzca puntuación: 0.75  \n",
        "Bien  \n",
        "Introduzca puntuación: 0.5  \n",
        "Insuficiente  \n",
        "Ejecuta el programa repetidamente, como se muestra arriba, para probar con varios valores de entrada diferentes.  "
      ]
    },
    {
      "cell_type": "markdown",
      "metadata": {
        "id": "jnYHF9L_0QiG"
      },
      "source": [
        "## Funciones e iteraciones"
      ]
    },
    {
      "cell_type": "markdown",
      "metadata": {
        "id": "APphj1bx0QiG"
      },
      "source": [
        "### LLamadas a funciones"
      ]
    },
    {
      "cell_type": "markdown",
      "metadata": {
        "id": "rf1_qAUt0QiG"
      },
      "source": [
        "En el contexto de la programación, una función es una secuencia de sentencias que\n",
        "realizan una operación y que reciben un nombre. Cuando se define una función, se\n",
        "especifica el nombre y la secuencia de sentencias. Más adelante, se puede “llamar”\n",
        "a la función por ese nombre. Ya hemos visto un ejemplo de una llamada a una\n",
        "función:"
      ]
    },
    {
      "cell_type": "code",
      "execution_count": null,
      "metadata": {
        "id": "A27NrRUa0QiG"
      },
      "outputs": [],
      "source": [
        "type(32)"
      ]
    },
    {
      "cell_type": "markdown",
      "metadata": {
        "id": "ei6KIzm70QiH"
      },
      "source": [
        "El nombre de la función es type. La expresión entre paréntesis recibe el nombre\n",
        "de argumento de la función. El argumento es un valor o variable que se pasa a la\n",
        "función como parámetro de entrada. El resultado de la función type es el tipo del\n",
        "argumento."
      ]
    },
    {
      "cell_type": "markdown",
      "metadata": {
        "id": "C5oe6D6B0QiH"
      },
      "source": [
        "Es habitual decir que una función “toma” (o recibe) un argumento y “retorna” (o\n",
        "devuelve) un resultado. El resultado se llama valor de retorno."
      ]
    },
    {
      "cell_type": "markdown",
      "metadata": {
        "id": "jWI55gJs0QiH"
      },
      "source": [
        "### Funciones internas"
      ]
    },
    {
      "cell_type": "markdown",
      "metadata": {
        "id": "8I9v1vXD0QiH"
      },
      "source": [
        "Python proporciona un número importante de funciones internas, que pueden ser\n",
        "usadas sin necesidad de tener que definirlas previamente. Los creadores de Python\n",
        "han escrito un conjunto de funciones para resolver problemas comunes y las han\n",
        "incluido en Python para que las podamos utilizar."
      ]
    },
    {
      "cell_type": "markdown",
      "metadata": {
        "id": "RICnDDJ80QiH"
      },
      "source": [
        "Las funciones max y min nos darán respectivamente el valor mayor y menor de una\n",
        "lista:"
      ]
    },
    {
      "cell_type": "code",
      "execution_count": null,
      "metadata": {
        "id": "X_qJfG3x0QiH"
      },
      "outputs": [],
      "source": [
        "max('Hola, mundo')"
      ]
    },
    {
      "cell_type": "code",
      "execution_count": null,
      "metadata": {
        "scrolled": true,
        "id": "fGAMWW2X0QiH"
      },
      "outputs": [],
      "source": [
        "min('Hola, mundo')"
      ]
    },
    {
      "cell_type": "markdown",
      "metadata": {
        "id": "ToYxN87q0QiH"
      },
      "source": [
        "La función max nos dice cuál es el “carácter más grande” de la cadena (que resulta\n",
        "ser la letra “u”), mientras que la función min nos muestra el carácter más pequeño\n",
        "(que en ese caso es un espacio).\n",
        "Otra función interna muy común es len, que nos dice cuántos elementos hay en\n",
        "su argumento. Si el argumento de"
      ]
    },
    {
      "cell_type": "code",
      "execution_count": null,
      "metadata": {
        "id": "idLhBqpq0QiI"
      },
      "outputs": [],
      "source": [
        "len('Hola, mundo')"
      ]
    },
    {
      "cell_type": "markdown",
      "metadata": {
        "id": "eWbpZ-by0QiI"
      },
      "source": [
        "Estas funciones no se limitan a buscar en cadenas. Pueden operar con cualquier\n",
        "conjunto de valores, como veremos en los siguientes capítulos.\n",
        "Se deben tratar los nombres de las funciones internas como si fueran palabras\n",
        "reservadas (es decir, evita usar “max” como nombre para una variable)."
      ]
    },
    {
      "cell_type": "markdown",
      "metadata": {
        "id": "m8cU-I5h0QiI"
      },
      "source": [
        "### Funciones de conversión de tipos"
      ]
    },
    {
      "cell_type": "markdown",
      "metadata": {
        "id": "x1ou5c0L0QiI"
      },
      "source": [
        "Python también proporciona funciones internas que convierten valores de un tipo\n",
        "a otro. La función int toma cualquier valor y lo convierte en un entero, si puede,\n",
        "o se queja si no puede:"
      ]
    },
    {
      "cell_type": "code",
      "execution_count": null,
      "metadata": {
        "scrolled": true,
        "id": "Q1bt8cPg0QiI"
      },
      "outputs": [],
      "source": [
        "int('32')"
      ]
    },
    {
      "cell_type": "code",
      "execution_count": null,
      "metadata": {
        "id": "1iK3H3F90QiI"
      },
      "outputs": [],
      "source": [
        "int(3.99999)"
      ]
    },
    {
      "cell_type": "code",
      "execution_count": null,
      "metadata": {
        "id": "yzxmKtnF0QiI"
      },
      "outputs": [],
      "source": [
        "int(-2.3)"
      ]
    },
    {
      "cell_type": "code",
      "execution_count": null,
      "metadata": {
        "scrolled": true,
        "id": "IVZhmzsj0QiJ"
      },
      "outputs": [],
      "source": [
        "float(32)"
      ]
    },
    {
      "cell_type": "code",
      "execution_count": null,
      "metadata": {
        "scrolled": true,
        "id": "sRKq54iu0QiJ"
      },
      "outputs": [],
      "source": [
        "float('3.14159')"
      ]
    },
    {
      "cell_type": "code",
      "execution_count": null,
      "metadata": {
        "id": "8ri_rx1e0QiK"
      },
      "outputs": [],
      "source": [
        "str(32)"
      ]
    },
    {
      "cell_type": "markdown",
      "metadata": {
        "id": "jMFjOIec0QiK"
      },
      "source": [
        "### Funciones matemáticas"
      ]
    },
    {
      "cell_type": "code",
      "execution_count": null,
      "metadata": {
        "id": "zmoxhFJU0QiK"
      },
      "outputs": [],
      "source": [
        "import math\n",
        "\n",
        "relacion = 5 #int_senal / int_ruido\n",
        "decibelios = 10 * math.log10(relacion)\n",
        "decibelios"
      ]
    },
    {
      "cell_type": "code",
      "execution_count": null,
      "metadata": {
        "id": "QzketN9G0QiK"
      },
      "outputs": [],
      "source": [
        "grados = 45\n",
        "radianes = grados / 360.0 * 2 * math.pi\n",
        "math.sin(radianes)"
      ]
    },
    {
      "cell_type": "code",
      "execution_count": null,
      "metadata": {
        "id": "dG5CxoRP0QiK"
      },
      "outputs": [],
      "source": [
        "math.sqrt(2) / 2.0"
      ]
    },
    {
      "cell_type": "markdown",
      "metadata": {
        "id": "W77QnRtk0QiL"
      },
      "source": [
        "### Números aleatorios"
      ]
    },
    {
      "cell_type": "code",
      "execution_count": null,
      "metadata": {
        "id": "gQ8o1V8w0QiL"
      },
      "outputs": [],
      "source": [
        "import random\n",
        "\n",
        "for i in range(10):\n",
        "    x = random.random()\n",
        "    print(x)"
      ]
    },
    {
      "cell_type": "code",
      "execution_count": null,
      "metadata": {
        "id": "jK27yy_r0QiL"
      },
      "outputs": [],
      "source": [
        "random.randint(5, 10)"
      ]
    },
    {
      "cell_type": "code",
      "execution_count": null,
      "metadata": {
        "id": "tn0BaMqt0QiL"
      },
      "outputs": [],
      "source": [
        "random.randint(5, 10)"
      ]
    },
    {
      "cell_type": "code",
      "execution_count": null,
      "metadata": {
        "id": "4hevtxe90QiL"
      },
      "outputs": [],
      "source": [
        "t = [1, 2, 3]\n",
        "random.choice(t)"
      ]
    },
    {
      "cell_type": "code",
      "execution_count": null,
      "metadata": {
        "id": "gNbmXtnI0QiL"
      },
      "outputs": [],
      "source": [
        "random.choice(t)"
      ]
    },
    {
      "cell_type": "markdown",
      "metadata": {
        "id": "33GvtOMA0QiL"
      },
      "source": [
        "### Nuevas funciones"
      ]
    },
    {
      "cell_type": "code",
      "execution_count": null,
      "metadata": {
        "id": "GOaVLn4g0QiL"
      },
      "outputs": [],
      "source": [
        "def muestra_estribillo():\n",
        "    print('Soy un leñador, qué alegría.')\n",
        "    print('Duermo toda la noche y trabajo todo el día.')"
      ]
    },
    {
      "cell_type": "code",
      "execution_count": null,
      "metadata": {
        "scrolled": true,
        "id": "GJkWMSCI0QiM"
      },
      "outputs": [],
      "source": [
        "muestra_estribillo()"
      ]
    },
    {
      "cell_type": "code",
      "execution_count": null,
      "metadata": {
        "id": "ZylXKmra0QiM"
      },
      "outputs": [],
      "source": [
        "def sumados(a, b):\n",
        "    suma = a + b\n",
        "    return suma"
      ]
    },
    {
      "cell_type": "code",
      "execution_count": null,
      "metadata": {
        "id": "3-HiPJ2V0QiM"
      },
      "outputs": [],
      "source": [
        "x = sumados(3, 5)\n",
        "print(x)"
      ]
    },
    {
      "cell_type": "markdown",
      "metadata": {
        "id": "fsI4tdPQ0QiM"
      },
      "source": [
        "### Iteraciones"
      ]
    },
    {
      "cell_type": "markdown",
      "metadata": {
        "id": "ohaHMdse0QiM"
      },
      "source": [
        "**WHILE**"
      ]
    },
    {
      "cell_type": "code",
      "execution_count": null,
      "metadata": {
        "id": "JrpKvl-N0QiM"
      },
      "outputs": [],
      "source": [
        "while True:\n",
        "    linea = input('> ')\n",
        "    if linea == 'fin':\n",
        "        break\n",
        "    print(linea)\n",
        "print('¡Terminado!')"
      ]
    },
    {
      "cell_type": "markdown",
      "metadata": {
        "id": "sg5dzn1c0QiM"
      },
      "source": [
        "**CONTINUE**"
      ]
    },
    {
      "cell_type": "markdown",
      "metadata": {
        "id": "l-p_mHqy0QiM"
      },
      "source": [
        "Algunas veces, estando dentro de un bucle se necesita terminar con la iteración\n",
        "actual y saltar a la siguiente de forma inmediata. En ese caso se puede utilizar\n",
        "la sentencia continue para pasar a la siguiente iteración sin terminar la ejecución\n",
        "del cuerpo del bucle para la actual.\n",
        "A continuación se muestra un ejemplo de un bucle que repite lo que recibe como\n",
        "entrada hasta que el usuario escribe “fin”, pero trata las líneas que empiezan por el\n",
        "carácter almohadilla como líneas que no deben mostrarse en pantalla (algo parecido\n",
        "a lo que hace Python con los comentarios)."
      ]
    },
    {
      "cell_type": "code",
      "execution_count": null,
      "metadata": {
        "id": "AY2quKMW0QiM"
      },
      "outputs": [],
      "source": [
        "while True:\n",
        "    linea = input('> ')\n",
        "    if linea[0] == '#' :\n",
        "        continue\n",
        "    if linea == 'fin':\n",
        "        break\n",
        "    print(linea)\n",
        "print('¡Terminado!')"
      ]
    },
    {
      "cell_type": "markdown",
      "metadata": {
        "id": "mR4ArRlJ0QiN"
      },
      "source": [
        "**FOR**"
      ]
    },
    {
      "cell_type": "code",
      "execution_count": null,
      "metadata": {
        "id": "6SqQXGMu0QiN"
      },
      "outputs": [],
      "source": [
        "amigos = ['Joseph', 'Glenn', 'Sally']\n",
        "for amigo in amigos:\n",
        "    print('Feliz año nuevo:', amigo)\n",
        "    print('¡Terminado!')"
      ]
    },
    {
      "cell_type": "markdown",
      "metadata": {
        "id": "VKeASPyA0QiN"
      },
      "source": [
        "### Glosario"
      ]
    },
    {
      "cell_type": "markdown",
      "metadata": {
        "id": "UnTYdjz00QiN"
      },
      "source": [
        "**acumulador** Una variable usada en un bucle para sumar o acumular un resultado.  \n",
        "**algoritmo** Un proceso general para resolver una categoría de problemas.  \n",
        "**argumento** Un valor proporcionado a una función cuando ésta es llamada. Ese valor se asigna al parámetro correspondiente en la función.  \n",
        "**bucle infinito** Un bucle en el cual la condición de terminación no se satisface nunca o para el cual no existe dicha condición de terminación.  \n",
        "**cabecera** La primera línea de una definición de función.  \n",
        "**contador** Una variable usada en un bucle para contar el número de veces que algo sucede. Inicializamos el contador a cero y luego lo vamos incrementando cada vez que queramos que “cuente” algo.  \n",
        "**cuerpo** La secuencia de sentencias dentro de la definición de una función.  \n",
        "**composición** Uso de una expresión o sentencia como parte de otra más larga.  \n",
        "**decremento** Una actualización que disminuye el valor de una variable.  \n",
        "**definición de función** Una sentencia que crea una función nueva, especificando su nombre, parámetros, y las sentencias que ejecuta.  \n",
        "**determinístico** Perteneciente a un programa que hace lo mismo cada vez que se ejecuta, a partir de las mismas entradas.  \n",
        "**función** Una secuencia de sentencias con un nombre que realizan alguna operación útil. Las funciones pueden tomar argumentos o no, y pueden producir un resultado o no.  \n",
        "**función productiva (fruitful function)** Una función que devuelve un valor.  \n",
        "**función estéril (void function)** Una función que no devuelve ningún valor.  \n",
        "**flujo de ejecución** El orden en el cual se ejecutan las sentencias durante el funcionamiento de un programa.  \n",
        "**inicializar** Una asignación que da un valor inicial a una variable que va a ser después actualizada.  \n",
        "**incremento** Una actualización que aumenta el valor de una variable (a menudo en una unidad).  \n",
        "**iteración** Ejecución repetida de una serie de sentencias usando bien una función que se llama a si misma o bien un bucle.  \n",
        "**llamada a función** Una sentencia que ejecuta una función. Consiste en el nombre de la función seguido por una lista de argumentos.  \n",
        "**notación punto** La sintaxis para llamar a una función de otro módulo, especificando el nombre del módulo seguido por un punto y el nombre de la función.  \n",
        "**objeto función** Un valor creado por una definición de función. El nombre de la función es una variable que se refiere al objeto función.  \n",
        "**objeto módulo** Un valor creado por una sentencia import, que proporciona acceso a los datos y código definidos en un módulo.  \n",
        "**parámetro** Un nombre usado dentro de una función para referirse al valor pasado como argumento.  \n",
        "**pseudoaleatorio** Perteneciente a una secuencia de números que parecen ser aleatorios, pero son generados por un programa determinista.  \n",
        "**sentencia import** Una sentencia que lee un archivo módulo y crea un objeto módulo.  \n",
        "**valor de retorno** El resultado de una función. Si una llamada a una función es usada como una expresión, el valor de retorno es el valor de la expresión."
      ]
    },
    {
      "cell_type": "markdown",
      "metadata": {
        "id": "hlXBKfx10QiN"
      },
      "source": [
        "### Ejercicios"
      ]
    },
    {
      "cell_type": "markdown",
      "metadata": {
        "id": "FsOKB_1c0QiN"
      },
      "source": [
        "**Ejercicio 17: ¿Cuál es la utilidad de la palabra clave “def” en Python?**"
      ]
    },
    {
      "cell_type": "markdown",
      "metadata": {
        "id": "MpLHqobl0QiO"
      },
      "source": [
        "a) Es una jerga que significa “este código es realmente estupendo”  \n",
        "b) Indica el comienzo de una función  \n",
        "c) Indica que la siguiente sección de código indentado debe ser almacenada para usarla más tarde  \n",
        "d) b y c son correctas ambas  \n",
        "e) Ninguna de las anteriores  "
      ]
    },
    {
      "cell_type": "markdown",
      "metadata": {
        "id": "Q_Mp3ETv0QiO"
      },
      "source": [
        "**Ejercicio 18: ¿Qué mostrará en pantalla el siguiente programa Python?**  \n",
        "def fred():  \n",
        "> print(\"Zap\")  \n",
        "\n",
        "def jane():  \n",
        "> print(\"ABC\")  \n",
        "\n",
        "jane()  \n",
        "fred()  \n",
        "jane()  \n",
        "\n",
        "a) Zap ABC jane fred jane  \n",
        "b) Zap ABC Zap  \n",
        "c) ABC Zap jane  \n",
        "d) ABC Zap ABC  \n",
        "e) Zap Zap Zap  "
      ]
    },
    {
      "cell_type": "markdown",
      "metadata": {
        "id": "S5UObaHf0QiO"
      },
      "source": [
        "**Ejercicio 19: (De la ref. 2) Reescribe el programa de cálculo del salario, con tarifa-y-media para las horas extras, y crea una función llamada calculo_salario que reciba dos parámetros (horas y tarifa).**  \n",
        "Introduzca Horas: 45  \n",
        "Introduzca Tarifa: 10  \n",
        "Salario: 475.0  "
      ]
    },
    {
      "cell_type": "markdown",
      "metadata": {
        "id": "ZHF2x1_V0QiO"
      },
      "source": [
        "**Ejercicio 20: Reescribe el programa de calificaciones del capítulo anterior usando una función llamada calcula_calificacion, que reciba una puntuación como parámetro y devuelva una calificación como cadena.**  \n",
        "**Puntuación** Calificación  \n",
        "> **0.9** Sobresaliente  \n",
        "> **0.8** Notable  \n",
        "> **0.7** Bien  \n",
        "> **0.6** Suficiente  \n",
        "**<= 0.6** Insuficiente    \n",
        "\n",
        "<br/>\n",
        "Introduzca puntuación: 0.95  \n",
        "Sobresaliente  \n",
        "\n",
        "Introduzca puntuación: perfecto  \n",
        "Puntuación incorrecta  \n",
        "\n",
        "Introduzca puntuación: 10.0  \n",
        "Puntuación incorrecta  \n",
        "\n",
        "Introduzca puntuación: 0.75  \n",
        "Bien  \n",
        "\n",
        "Introduzca puntuación: 0.5  \n",
        "Insuficiente  \n",
        "\n",
        "Ejecuta el programa repetidamente para probar con varios valores de entrada diferentes."
      ]
    },
    {
      "cell_type": "markdown",
      "metadata": {
        "id": "6VPKRZEh0QiO"
      },
      "source": [
        "**Ejercicio 21: Escribe un programa que lea repetidamente números hasta que el usuario introduzca “fin”. Una vez se haya introducido “fin”, muestra por pantalla el total, la cantidad de números y la media de esos números. Si el usuario introduce cualquier otra cosa que no sea un número, detecta su fallo usando try y except, muestra un mensaje de error y pasa al número siguiente.**  \n",
        "Introduzca un número: 4  \n",
        "Introduzca un número: 5  \n",
        "Introduzca un número: dato erróneo    \n",
        "Entrada inválida  \n",
        "Introduzca un número: 7  \n",
        "Introduzca un número: fin  \n",
        "16 3 5.33333333333  "
      ]
    },
    {
      "cell_type": "markdown",
      "metadata": {
        "id": "jYuUwUS80QiO"
      },
      "source": [
        "Ejercicio 22: Escribe otro programa que pida una lista de números como la anterior y al final muestre por pantalla el máximo y mínimo de los números, en vez de la media."
      ]
    },
    {
      "cell_type": "markdown",
      "source": [
        "https://xkcd.com/149/"
      ],
      "metadata": {
        "id": "KM1dnIpX1PWo"
      }
    },
    {
      "cell_type": "markdown",
      "metadata": {
        "id": "ounqxRZh0QiO"
      },
      "source": [
        "<img src=\"https://github.com/inefable12/Python_para_todos/blob/main/imagenes/xkcd149.PNG?raw=1\"><br/>  \n",
        "<br/>  \n",
        "<br/>"
      ]
    },
    {
      "cell_type": "markdown",
      "metadata": {
        "id": "vqKoMYdZ0QiP"
      },
      "source": [
        "## List Comprehension"
      ]
    },
    {
      "cell_type": "markdown",
      "metadata": {
        "id": "fl85t7HU0QiP"
      },
      "source": [
        "nueva_lista = []\n",
        "\n",
        "for **i** in **list**:\n",
        "\n",
        "  if condición:\n",
        "\n",
        "    nueva_lista.append(expresion(i))"
      ]
    },
    {
      "cell_type": "markdown",
      "metadata": {
        "id": "qunDshYo0QiP"
      },
      "source": [
        "**Formato de la compresión**\n",
        "\n",
        "[resultado(i) for i in list if condición]"
      ]
    },
    {
      "cell_type": "markdown",
      "metadata": {
        "id": "2sW3xQ100QiP"
      },
      "source": [
        "### Ejemplos"
      ]
    },
    {
      "cell_type": "code",
      "execution_count": null,
      "metadata": {
        "id": "Y0JH8mgT0QiP"
      },
      "outputs": [],
      "source": [
        "#1: Imprimir los números pares de la siguiente lista\n",
        "numeros = [1, 2, 34, 86, 4, 5, 99, 890, 45]"
      ]
    },
    {
      "cell_type": "code",
      "execution_count": null,
      "metadata": {
        "id": "GBW3WbUp0QiP"
      },
      "outputs": [],
      "source": [
        "pares = []\n",
        "for num in numeros:\n",
        "    if num % 2 == 0:\n",
        "        pares.append(num)\n",
        "print(pares)"
      ]
    },
    {
      "cell_type": "code",
      "execution_count": null,
      "metadata": {
        "id": "GjG4vwcW0QiP"
      },
      "outputs": [],
      "source": [
        "pares = [num for num in numeros if num % 2 == 0]\n",
        "print(pares)"
      ]
    },
    {
      "cell_type": "code",
      "execution_count": null,
      "metadata": {
        "id": "N-Dv2ODA0QiQ"
      },
      "outputs": [],
      "source": [
        "#2 Capitalizar las palabras de una lista\n",
        "palabras = ['casa', 'perro', 'puerta', 'pizza']\n",
        "cap = [palabra.title() for palabra in palabras]\n",
        "print(cap)"
      ]
    },
    {
      "cell_type": "code",
      "execution_count": null,
      "metadata": {
        "id": "h3im5Gg40QiQ"
      },
      "outputs": [],
      "source": [
        "#3 Calcular los cuadrados del 0 al 9\n",
        "cuadrados = [num**2 for num in range(10)]\n",
        "print(cuadrados)"
      ]
    },
    {
      "cell_type": "code",
      "execution_count": null,
      "metadata": {
        "id": "C8fH1Amd0QiQ"
      },
      "outputs": [],
      "source": [
        "#4 Extraer todas los archivos .*log de un fichero que empiezan con t\n",
        "import os\n",
        "ficheros_python = [f for f in os.listdir('.') if f.endswith('.log') and f.startswith('t')]\n",
        "print(ficheros_python)"
      ]
    },
    {
      "cell_type": "code",
      "execution_count": null,
      "metadata": {
        "id": "zyLJCU8R0QiQ"
      },
      "outputs": [],
      "source": [
        "#5 Número, doble y cuadrado de los números del 0 al 9\n",
        "num_doble_cuadrado = [(num, num*2, num**2) for num in range(10)]\n",
        "print(num_doble_cuadrado)"
      ]
    },
    {
      "cell_type": "code",
      "execution_count": null,
      "metadata": {
        "id": "11RiP4_o0QiQ"
      },
      "outputs": [],
      "source": [
        "#6 Ejemplo de doble bucle for\n",
        "saludos = ['hola', 'saludos', 'hi']\n",
        "nombres = ['j2logo', 'antonio', 'vega']\n",
        "frases = ['{} {}'.format(saludo.title(), nombre.title()) for saludo in saludos for nombre in nombres]\n",
        "print(frases)"
      ]
    },
    {
      "cell_type": "markdown",
      "source": [
        "# EJERCICIO REALIZADO EN LA ASESORÍA\n",
        "## Objetivo: Indicar la cantidad de universidades que hay en Lima respecto al resto del país"
      ],
      "metadata": {
        "id": "tkRzbuRa4O5-"
      }
    },
    {
      "cell_type": "code",
      "source": [
        "# Jalando la tabla desde un enlace\n",
        "enlace = \"https://www.sunedu.gob.pe/lista-universidades/\" # Guarda el url en la variable 'enlace'\n",
        "# Se debe importar 4 librerías: 'numpy': Operaciones matemáticas, 'matplotlib' & 'seaborn': Permite graficar, 'pandas': Permite ytrabajar con tablas\n"
      ],
      "metadata": {
        "id": "7qvgNquV4NDj"
      },
      "execution_count": 9,
      "outputs": []
    },
    {
      "cell_type": "code",
      "source": [
        "# Importanda 'pandas'\n",
        "import pandas as pd\n",
        "# Para ver la data con 'data frame'\n",
        "df = pd.read_html(enlace)\n",
        "df\n",
        "# La presentación es poco amigable"
      ],
      "metadata": {
        "collapsed": true,
        "id": "Gsm9oqf66oz_",
        "outputId": "86ea65d3-4d0d-4e07-adfc-4b30aa7c51a9",
        "colab": {
          "base_uri": "https://localhost:8080/"
        }
      },
      "execution_count": 35,
      "outputs": [
        {
          "output_type": "execute_result",
          "data": {
            "text/plain": [
              "[    N°                                        UNIVERSIDAD   DEPARTAMENTO  \\\n",
              " 0    1           Universidad Nacional Mayor de San Marcos           Lima   \n",
              " 1    2  Universidad Nacional de San Cristóbal de Huamanga       Ayacucho   \n",
              " 2    3  Universidad Nacional de San Antonio Abad del C...          Cusco   \n",
              " 3    4                   Universidad Nacional de Trujillo    La Libertad   \n",
              " 4    5    Universidad Nacional de San Agustín de Arequipa       Arequipa   \n",
              " 5    6                 Universidad Nacional de Ingeniería           Lima   \n",
              " 6    7             Universidad Nacional Agraria La Molina           Lima   \n",
              " 7    8              Universidad Nacional San Luis Gonzaga            Ica   \n",
              " 8    9           Universidad Nacional del Centro del Perú          Junín   \n",
              " 9   10        Universidad Nacional de la Amazonía Peruana         Loreto   \n",
              " 10  11                 Universidad Nacional del Altiplano           Puno   \n",
              " 11  12                      Universidad Nacional de Piura          Piura   \n",
              " 12  13                  Universidad Nacional de Cajamarca      Cajamarca   \n",
              " 13  14           Universidad Nacional Federico Villarreal           Lima   \n",
              " 14  15           Universidad Nacional Agraria de la Selva        Huánuco   \n",
              " 15  16  Universidad Nacional Hermilio Valdizán de Huánuco        Huánuco   \n",
              " 16  17  Universidad Nacional de Educación Enrique Guzm...           Lima   \n",
              " 17  18        Universidad Nacional Daniel Alcides Carrión          Pasco   \n",
              " 18  19                    Universidad Nacional del Callao         Callao   \n",
              " 19  20  Universidad Nacional José Faustino Sánchez Car...           Lima   \n",
              " 20  21              Universidad Nacional Pedro Ruiz Gallo     Lambayeque   \n",
              " 21  22        Universidad Nacional Jorge Basadre Grohmann          Tacna   \n",
              " 22  23    Universidad Nacional Santiago Antúnez de Mayolo         Ancash   \n",
              " 23  24                 Universidad Nacional de San Martín     San Martín   \n",
              " 24  25                    Universidad Nacional de Ucayali        Ucayali   \n",
              " 25  26                     Universidad Nacional de Tumbes         Tumbes   \n",
              " 26  27                     Universidad Nacional del Santa         Ancash   \n",
              " 27  28               Universidad Nacional de Huancavelica   Huancavelica   \n",
              " 28  29    Universidad Nacional Amazónica de Madre de Dios  Madre De Dios   \n",
              " 29  30  Universidad Nacional Toribio Rodríguez de Mend...       Amazonas   \n",
              " 30  31  Universidad Nacional Micaela Bastidas de Apurímac       Apurímac   \n",
              " 31  32  Universidad Nacional Intercultural de la Amazonía        Ucayali   \n",
              " 32  33  Universidad Nacional Tecnológica de Lima Sur (*1)           Lima   \n",
              " 33  34           Universidad Nacional José María Arguedas       Apurímac   \n",
              " 34  35                   Universidad Nacional de Moquegua       Moquegua   \n",
              " 35  36                    Universidad Nacional de Juliaca           Puno   \n",
              " 36  37                       Universidad Nacional de Jaén      Cajamarca   \n",
              " 37  38                   Universidad Nacional de Frontera          Piura   \n",
              " 38  39             Universidad Nacional Autónoma de Chota      Cajamarca   \n",
              " 39  40                   Universidad Nacional de Barranca           Lima   \n",
              " 40  41                     Universidad Nacional de Cañete           Lima   \n",
              " 41  42  Universidad Nacional Intercultural Fabiola Sal...       Amazonas   \n",
              " 42  43  Universidad Nacional Intercultural de la Selva...          Junín   \n",
              " 43  44  Universidad Nacional Intercultural de Quillabamba          Cusco   \n",
              " 44  45     Universidad Nacional Autónoma de Alto Amazonas         Loreto   \n",
              " 45  46  Universidad Nacional Autónoma Altoandina de Tarma          Junín   \n",
              " 46  47            Universidad Nacional Autónoma de Huanta       Ayacucho   \n",
              " 47  48       Universidad Nacional Tecnológica de Lima Sur           Lima   \n",
              " 48  49  Universidad Nacional Autónoma de Tayacaja Dani...   Huancavelica   \n",
              " 49  50                  Universidad Nacional Ciro Alegría    La Libertad   \n",
              " \n",
              "            PROVINCIA DISPOSITIVO LEGAL DE CREACIÓN FECHA DE CREACIÓN  \\\n",
              " 0               Lima      Real Cédula de Fundación        12/05/1551   \n",
              " 1           Huamanga                  Ley N° 12828        03/07/1677   \n",
              " 2              Cusco      Real Cédula de Fundación        01/06/1692   \n",
              " 3           Trujillo            Decreto Directoral        10/05/1824   \n",
              " 4           Arequipa           Acta de Instalación        11/11/1828   \n",
              " 5               Lima                  Ley N° 12379        19/07/1955   \n",
              " 6               Lima                  Ley N° 13417        08/04/1960   \n",
              " 7                Ica                  Ley N° 12495        20/12/1955   \n",
              " 8           Huancayo                  Ley N° 13827        02/01/1962   \n",
              " 9             Maynas                  Ley N° 13498        14/01/1961   \n",
              " 10              Puno                  Ley N° 13516        10/02/1961   \n",
              " 11             Piura                  Ley N° 13531        03/03/1961   \n",
              " 12         Cajamarca                  Ley N° 14015        13/02/1962   \n",
              " 13              Lima                  Ley N° 14692        30/10/1963   \n",
              " 14     Leoncio Prado                  Ley N° 14912        20/02/1964   \n",
              " 15           Huánuco                  Ley N° 14915        20/02/1964   \n",
              " 16              Lima                  Ley N° 15519        07/04/1965   \n",
              " 17             Pasco                  Ley N° 15527        23/04/1965   \n",
              " 18            Callao                  Ley N° 16225        02/09/1966   \n",
              " 19            Huaura          Decreto Ley N° 17358        31/12/1968   \n",
              " 20        Lambayeque          Decreto Ley N° 18179        17/03/1970   \n",
              " 21             Tacna          Decreto Ley N° 18942        26/08/1971   \n",
              " 22            Huaraz          Decreto Ley N° 21856        24/05/1977   \n",
              " 23        San Martín          Decreto Ley N° 22803        18/12/1979   \n",
              " 24  Coronel Portillo          Decreto Ley N° 22804        18/12/1979   \n",
              " 25            Tumbes                  Ley N° 23881        23/06/1984   \n",
              " 26             Santa                  Ley N° 24035        20/12/1984   \n",
              " 27      Huancavelica                  Ley N° 25265        20/06/1990   \n",
              " 28         Tambopata                  Ley N° 27297        06/07/2000   \n",
              " 29       Chachapoyas                  Ley N° 27347        19/09/2000   \n",
              " 30           Abancay                  Ley N° 27348        27/09/2000   \n",
              " 31  Coronel Portillo                  Ley N° 27250        05/01/2000   \n",
              " 32              Lima                  Ley N° 27413        01/02/2001   \n",
              " 33       Andahuaylas                  Ley N° 28372        01/11/2004   \n",
              " 34    Mariscal Nieto                  Ley N° 28520        24/05/2005   \n",
              " 35         San Román                  Ley N° 29074        25/07/2007   \n",
              " 36              Jaén                  Ley N° 29304        20/12/2008   \n",
              " 37           Sullana                  Ley N° 29568        06/08/2010   \n",
              " 38             Chota                  Ley N° 29531        12/05/2010   \n",
              " 39          Barranca                  Ley N° 29553        07/07/2010   \n",
              " 40            Cañete                  Ley N° 29488        23/12/2009   \n",
              " 41             Bagua                  Ley N° 29614        18/11/2010   \n",
              " 42       Chanchamayo                  Ley N° 29616        19/11/2010   \n",
              " 43     La Convención                  Ley N° 29620        01/12/2010   \n",
              " 44     Alto Amazonas                  Ley N° 29649        11/01/2011   \n",
              " 45             Tarma                  Ley N° 29652        14/01/2011   \n",
              " 46            Huanta                  Ley N° 29658        28/01/2011   \n",
              " 47              Lima                  Ley N° 29659        28/01/2011   \n",
              " 48          Tayacaja                  Ley N° 29716        23/06/2011   \n",
              " 49   Sanchez Carrión                  Ley N° 29756        17/07/2011   \n",
              " \n",
              "    DISPOSITIVO LEGAL DE LICENCIAMIENTO FECHA DE PUB. DIARIO EL PERUANO  \n",
              " 0           Res. N° 036-2018-SUNEDU/CD                      04/04/2018  \n",
              " 1           Res. N° 050-2018-SUNEDU/CD                      01/06/2018  \n",
              " 2           Res. N° 059-2019-SUNEDU/CD                      04/05/2019  \n",
              " 3           Res. N° 127-2018-SUNEDU/CD                      20/09/2018  \n",
              " 4           Res. N° 098-2018-SUNEDU/CD                      27/08/2018  \n",
              " 5           Res. N° 073-2017-SUNEDU/CD                      28/11/2017  \n",
              " 6           Res. N° 011-2017-SUNEDU/CD                      20/03/2017  \n",
              " 7           Res. N° 002-2022-SUNEDU/CD                      15/01/2022  \n",
              " 8           Res. N° 022-2019-SUNEDU/CD                      01/03/2019  \n",
              " 9           Res. N° 012-2019-SUNEDU/CD                      01/02/2019  \n",
              " 10          Res. N° 101-2017-SUNEDU/CD                      30/12/2017  \n",
              " 11          Res. N° 058-2019-SUNEDU/CD                      07/05/2019  \n",
              " 12          Res. N° 080-2018-SUNEDU/CD                      17/07/2018  \n",
              " 13          Res. N° 035-2020-SUNEDU/CD                      11/03/2020  \n",
              " 14          Res. N° 114-2019-SUNEDU/CD                      29/08/2019  \n",
              " 15          Res. N° 099-2019-SUNEDU/CD                      26/07/2019  \n",
              " 16          Res. N° 165-2019-SUNEDU/CD                      13/12/2019  \n",
              " 17          Res. N° 111-2019-SUNEDU/CD                      22/08/2019  \n",
              " 18          Res. N° 171-2019-SUNEDU/CD                      24/12/2019  \n",
              " 19          Res. N° 012-2020-SUNEDU/CD                      28/01/2020  \n",
              " 20          Res. N° 015-2023-SUNEDU/CD                      09/06/2023  \n",
              " 21          Res. N° 056-2018-SUNEDU/CD                      13/06/2018  \n",
              " 22          Res. N° 173-2018-SUNEDU/CD                      01/01/2018  \n",
              " 23          Res. N° 055-2019-SUNEDU/CD                      01/05/2019  \n",
              " 24          Res. N° 149-2018-SUNEDU/CD                      15/11/2018  \n",
              " 25          Res. N° 155-2019-SUNEDU/CD                      03/12/2019  \n",
              " 26          Res. N° 028-2019-SUNEDU/CD                      12/03/2019  \n",
              " 27          Res. N° 086-2019-SUNEDU/CD                      03/07/2019  \n",
              " 28          Res. N° 132-2019-SUNEDU/CD                      12/10/2019  \n",
              " 29          Res. N° 033-2017-SUNEDU/CD                      17/09/2017  \n",
              " 30          Res. N° 021-2020-SUNEDU/CD                      05/02/2020  \n",
              " 31          Res. N° 131-2018-SUNEDU/CD                      27/09/2018  \n",
              " 32          Res. N° 059-2018-SUNEDU/CD                      21/06/2018  \n",
              " 33          Res. N° 035-2017-SUNEDU/CD                      02/10/2017  \n",
              " 34          Res. N° 103-2017-SUNEDU/CD                      06/01/2018  \n",
              " 35          Res. N° 097-2018-SUNEDU/CD                      26/08/2018  \n",
              " 36          Res. N° 002-2018-SUNEDU/CD                      14/01/2018  \n",
              " 37          Res. N° 086-2019-SUNEDU/CD                      06/04/2019  \n",
              " 38          Res. N° 160-2018-SUNEDU/CD                      08/12/2018  \n",
              " 39          Res. N° 047-2018-SUNEDU/CD                      24/05/2018  \n",
              " 40          Res. N° 116-2018-SUNEDU/CD                      12/09/2018  \n",
              " 41          Res. N° 095-2018-SUNEDU/CD                      14,/08/018  \n",
              " 42          Res. N° 033-2018-SUNEDU/CD                      23/03/2018  \n",
              " 43          Res. N° 085-2019-SUNEDU/CD                      02/07/2019  \n",
              " 44          Res. N° 062-2018-SUNEDU/CD                      29/06/2018  \n",
              " 45          Res. N° 142-2018-SUNEDU/CD                      19/10/2018  \n",
              " 46          Res. N° 014-2017-SUNEDU/CD                      19/04/2017  \n",
              " 47          Res. N° 059-2018-SUNEDU/CD                      21/06/2018  \n",
              " 48          Res. N° 016-2019-SUNEDU/CD                      15/02/2019  \n",
              " 49          Res. N° 029-2023-SUNEDU/CD                      15/02/2019  ,\n",
              "    (*) Universidades que cambiaron de denominación  \\\n",
              " 0                                                1   \n",
              " \n",
              "    (*) Universidades que cambiaron de denominación.1  \n",
              " 0  Denominación anterior: Universidad Nacional Te...  ,\n",
              "     N°                                        UNIVERSIDAD DEPARTAMENTO  \\\n",
              " 0    1           Pontificia Universidad Católica del Perú         Lima   \n",
              " 1    2               Universidad Peruana Cayetano Heredia         Lima   \n",
              " 2    3                Universidad Católica de Santa María     Arequipa   \n",
              " 3    4                           Universidad del Pacífico         Lima   \n",
              " 4    5                                Universidad de Lima         Lima   \n",
              " ..  ..                                                ...          ...   \n",
              " 87  88  Universidad Santo Tomás de Aquino de Ciencia e...        Junín   \n",
              " 88  89                           Universidad Privada SISE         Lima   \n",
              " 89  90     Universidad Seminario Evangélico de Lima (*12)         Lima   \n",
              " 90  91         Universidad Seminario Bíblico Andino (*12)         Lima   \n",
              " 91  92                      Universidad Católica San José         Lima   \n",
              " \n",
              "    PROVINCIA DISPOSITIVO LEGAL DE CREACIÓN FECHA DE CREACIÓN  \\\n",
              " 0       Lima               Decreto Supremo        24/03/1917   \n",
              " 1       Lima         Decreto Supremo N° 18        22/09/1961   \n",
              " 2   Arequipa         Decreto Supremo N° 24        06/12/1961   \n",
              " 3       Lima         Decreto Supremo N° 08        28/02/1962   \n",
              " 4       Lima         Decreto Supremo N° 23        25/04/1962   \n",
              " ..       ...                           ...               ...   \n",
              " 87  Huancayo       Res. N° 407-2012-CONAFU        25/07/2012   \n",
              " 88      Lima       Res. N° 408-2012-CONAFU        25/07/2012   \n",
              " 89      Lima                  Ley N° 30220        09/07/2014   \n",
              " 90      Lima                  Ley N° 30220        09/07/2014   \n",
              " 91      Lima      Real Cédula de Fundación        12/05/1551   \n",
              " \n",
              "    DISPOSITIVO LEGAL DE LICENCIAMIENTO O DENEGATORIA  \\\n",
              " 0                         Res. N° 025-2016-SUNEDU/CD   \n",
              " 1                         Res. N° 029-2016-SUNEDU/CD   \n",
              " 2                         Res. N° 102-2017-SUNEDU/CD   \n",
              " 3                         Res. N° 030-2016-SUNEDU/CD   \n",
              " 4                         Res. N° 027-2016-SUNEDU/CD   \n",
              " ..                                               ...   \n",
              " 87                                               NaN   \n",
              " 88                                               NaN   \n",
              " 89                                               NaN   \n",
              " 90                                               NaN   \n",
              " 91                                               NaN   \n",
              " \n",
              "    FECHA DE PUB. DIARIO EL PERUANO CONDICIÓN JURÍDICA  \n",
              " 0                       06/07/2016         Asociativa  \n",
              " 1                       27/07/2016         Asociativa  \n",
              " 2                       31/12/2017         Asociativa  \n",
              " 3                       27/07/2016         Asociativa  \n",
              " 4                       12/07/2016         Asociativa  \n",
              " ..                             ...                ...  \n",
              " 87                             NaN         Societaria  \n",
              " 88                             NaN         Societaria  \n",
              " 89                             NaN         Asociativa  \n",
              " 90                             NaN         Asociativa  \n",
              " 91                             NaN         Asociativa  \n",
              " \n",
              " [92 rows x 9 columns],\n",
              "     (*)Universidades que cambiaron de denominación  \\\n",
              " 0                                                1   \n",
              " 1                                                2   \n",
              " 2                                                3   \n",
              " 3                                                4   \n",
              " 4                                                5   \n",
              " 5                                                6   \n",
              " 6                                                7   \n",
              " 7                                                8   \n",
              " 8                                                9   \n",
              " 9                                               10   \n",
              " 10                                              11   \n",
              " 11                                              12   \n",
              " 12                                              13   \n",
              " \n",
              "      (*)Universidades que cambiaron de denominación.1  \n",
              " 0   Denominación anterior: Universidad Privada de ...  \n",
              " 1   Denominación anterior: Universidad Privada de ...  \n",
              " 2   Denominación anterior: Universidad Particular ...  \n",
              " 3   Denominación anterior: Universidad Privada los...  \n",
              " 4   Denominación anterior: Universidad Privada \"Ab...  \n",
              " 5   Denominación anterior: Universidad Privada \"Sa...  \n",
              " 6   Denominación anterior: Universidad Continental...  \n",
              " 7   Denominación anterior: Universidad Católica de...  \n",
              " 8   Denominación anterior: Universidad Ada A. Byro...  \n",
              " 9   Denominación anterior: Universidad Católica de...  \n",
              " 10  Denominación anterior: Universidad de Negocios...  \n",
              " 11  La Quinta disposición complementaria final de ...  \n",
              " 12  Denominación anterior: Universidad Privada de ...  ]"
            ]
          },
          "metadata": {},
          "execution_count": 35
        }
      ]
    },
    {
      "cell_type": "code",
      "source": [
        "# Usamos '0' para ver la primera pestaña de la tabla, \"Universidades Públicas\"\n",
        "df[0]"
      ],
      "metadata": {
        "id": "am0FgP0K6ouL",
        "outputId": "5b632a61-3844-43a7-dfbf-15cc604278b5",
        "colab": {
          "base_uri": "https://localhost:8080/",
          "height": 1000
        }
      },
      "execution_count": 36,
      "outputs": [
        {
          "output_type": "execute_result",
          "data": {
            "text/plain": [
              "    N°                                        UNIVERSIDAD   DEPARTAMENTO  \\\n",
              "0    1           Universidad Nacional Mayor de San Marcos           Lima   \n",
              "1    2  Universidad Nacional de San Cristóbal de Huamanga       Ayacucho   \n",
              "2    3  Universidad Nacional de San Antonio Abad del C...          Cusco   \n",
              "3    4                   Universidad Nacional de Trujillo    La Libertad   \n",
              "4    5    Universidad Nacional de San Agustín de Arequipa       Arequipa   \n",
              "5    6                 Universidad Nacional de Ingeniería           Lima   \n",
              "6    7             Universidad Nacional Agraria La Molina           Lima   \n",
              "7    8              Universidad Nacional San Luis Gonzaga            Ica   \n",
              "8    9           Universidad Nacional del Centro del Perú          Junín   \n",
              "9   10        Universidad Nacional de la Amazonía Peruana         Loreto   \n",
              "10  11                 Universidad Nacional del Altiplano           Puno   \n",
              "11  12                      Universidad Nacional de Piura          Piura   \n",
              "12  13                  Universidad Nacional de Cajamarca      Cajamarca   \n",
              "13  14           Universidad Nacional Federico Villarreal           Lima   \n",
              "14  15           Universidad Nacional Agraria de la Selva        Huánuco   \n",
              "15  16  Universidad Nacional Hermilio Valdizán de Huánuco        Huánuco   \n",
              "16  17  Universidad Nacional de Educación Enrique Guzm...           Lima   \n",
              "17  18        Universidad Nacional Daniel Alcides Carrión          Pasco   \n",
              "18  19                    Universidad Nacional del Callao         Callao   \n",
              "19  20  Universidad Nacional José Faustino Sánchez Car...           Lima   \n",
              "20  21              Universidad Nacional Pedro Ruiz Gallo     Lambayeque   \n",
              "21  22        Universidad Nacional Jorge Basadre Grohmann          Tacna   \n",
              "22  23    Universidad Nacional Santiago Antúnez de Mayolo         Ancash   \n",
              "23  24                 Universidad Nacional de San Martín     San Martín   \n",
              "24  25                    Universidad Nacional de Ucayali        Ucayali   \n",
              "25  26                     Universidad Nacional de Tumbes         Tumbes   \n",
              "26  27                     Universidad Nacional del Santa         Ancash   \n",
              "27  28               Universidad Nacional de Huancavelica   Huancavelica   \n",
              "28  29    Universidad Nacional Amazónica de Madre de Dios  Madre De Dios   \n",
              "29  30  Universidad Nacional Toribio Rodríguez de Mend...       Amazonas   \n",
              "30  31  Universidad Nacional Micaela Bastidas de Apurímac       Apurímac   \n",
              "31  32  Universidad Nacional Intercultural de la Amazonía        Ucayali   \n",
              "32  33  Universidad Nacional Tecnológica de Lima Sur (*1)           Lima   \n",
              "33  34           Universidad Nacional José María Arguedas       Apurímac   \n",
              "34  35                   Universidad Nacional de Moquegua       Moquegua   \n",
              "35  36                    Universidad Nacional de Juliaca           Puno   \n",
              "36  37                       Universidad Nacional de Jaén      Cajamarca   \n",
              "37  38                   Universidad Nacional de Frontera          Piura   \n",
              "38  39             Universidad Nacional Autónoma de Chota      Cajamarca   \n",
              "39  40                   Universidad Nacional de Barranca           Lima   \n",
              "40  41                     Universidad Nacional de Cañete           Lima   \n",
              "41  42  Universidad Nacional Intercultural Fabiola Sal...       Amazonas   \n",
              "42  43  Universidad Nacional Intercultural de la Selva...          Junín   \n",
              "43  44  Universidad Nacional Intercultural de Quillabamba          Cusco   \n",
              "44  45     Universidad Nacional Autónoma de Alto Amazonas         Loreto   \n",
              "45  46  Universidad Nacional Autónoma Altoandina de Tarma          Junín   \n",
              "46  47            Universidad Nacional Autónoma de Huanta       Ayacucho   \n",
              "47  48       Universidad Nacional Tecnológica de Lima Sur           Lima   \n",
              "48  49  Universidad Nacional Autónoma de Tayacaja Dani...   Huancavelica   \n",
              "49  50                  Universidad Nacional Ciro Alegría    La Libertad   \n",
              "\n",
              "           PROVINCIA DISPOSITIVO LEGAL DE CREACIÓN FECHA DE CREACIÓN  \\\n",
              "0               Lima      Real Cédula de Fundación        12/05/1551   \n",
              "1           Huamanga                  Ley N° 12828        03/07/1677   \n",
              "2              Cusco      Real Cédula de Fundación        01/06/1692   \n",
              "3           Trujillo            Decreto Directoral        10/05/1824   \n",
              "4           Arequipa           Acta de Instalación        11/11/1828   \n",
              "5               Lima                  Ley N° 12379        19/07/1955   \n",
              "6               Lima                  Ley N° 13417        08/04/1960   \n",
              "7                Ica                  Ley N° 12495        20/12/1955   \n",
              "8           Huancayo                  Ley N° 13827        02/01/1962   \n",
              "9             Maynas                  Ley N° 13498        14/01/1961   \n",
              "10              Puno                  Ley N° 13516        10/02/1961   \n",
              "11             Piura                  Ley N° 13531        03/03/1961   \n",
              "12         Cajamarca                  Ley N° 14015        13/02/1962   \n",
              "13              Lima                  Ley N° 14692        30/10/1963   \n",
              "14     Leoncio Prado                  Ley N° 14912        20/02/1964   \n",
              "15           Huánuco                  Ley N° 14915        20/02/1964   \n",
              "16              Lima                  Ley N° 15519        07/04/1965   \n",
              "17             Pasco                  Ley N° 15527        23/04/1965   \n",
              "18            Callao                  Ley N° 16225        02/09/1966   \n",
              "19            Huaura          Decreto Ley N° 17358        31/12/1968   \n",
              "20        Lambayeque          Decreto Ley N° 18179        17/03/1970   \n",
              "21             Tacna          Decreto Ley N° 18942        26/08/1971   \n",
              "22            Huaraz          Decreto Ley N° 21856        24/05/1977   \n",
              "23        San Martín          Decreto Ley N° 22803        18/12/1979   \n",
              "24  Coronel Portillo          Decreto Ley N° 22804        18/12/1979   \n",
              "25            Tumbes                  Ley N° 23881        23/06/1984   \n",
              "26             Santa                  Ley N° 24035        20/12/1984   \n",
              "27      Huancavelica                  Ley N° 25265        20/06/1990   \n",
              "28         Tambopata                  Ley N° 27297        06/07/2000   \n",
              "29       Chachapoyas                  Ley N° 27347        19/09/2000   \n",
              "30           Abancay                  Ley N° 27348        27/09/2000   \n",
              "31  Coronel Portillo                  Ley N° 27250        05/01/2000   \n",
              "32              Lima                  Ley N° 27413        01/02/2001   \n",
              "33       Andahuaylas                  Ley N° 28372        01/11/2004   \n",
              "34    Mariscal Nieto                  Ley N° 28520        24/05/2005   \n",
              "35         San Román                  Ley N° 29074        25/07/2007   \n",
              "36              Jaén                  Ley N° 29304        20/12/2008   \n",
              "37           Sullana                  Ley N° 29568        06/08/2010   \n",
              "38             Chota                  Ley N° 29531        12/05/2010   \n",
              "39          Barranca                  Ley N° 29553        07/07/2010   \n",
              "40            Cañete                  Ley N° 29488        23/12/2009   \n",
              "41             Bagua                  Ley N° 29614        18/11/2010   \n",
              "42       Chanchamayo                  Ley N° 29616        19/11/2010   \n",
              "43     La Convención                  Ley N° 29620        01/12/2010   \n",
              "44     Alto Amazonas                  Ley N° 29649        11/01/2011   \n",
              "45             Tarma                  Ley N° 29652        14/01/2011   \n",
              "46            Huanta                  Ley N° 29658        28/01/2011   \n",
              "47              Lima                  Ley N° 29659        28/01/2011   \n",
              "48          Tayacaja                  Ley N° 29716        23/06/2011   \n",
              "49   Sanchez Carrión                  Ley N° 29756        17/07/2011   \n",
              "\n",
              "   DISPOSITIVO LEGAL DE LICENCIAMIENTO FECHA DE PUB. DIARIO EL PERUANO  \n",
              "0           Res. N° 036-2018-SUNEDU/CD                      04/04/2018  \n",
              "1           Res. N° 050-2018-SUNEDU/CD                      01/06/2018  \n",
              "2           Res. N° 059-2019-SUNEDU/CD                      04/05/2019  \n",
              "3           Res. N° 127-2018-SUNEDU/CD                      20/09/2018  \n",
              "4           Res. N° 098-2018-SUNEDU/CD                      27/08/2018  \n",
              "5           Res. N° 073-2017-SUNEDU/CD                      28/11/2017  \n",
              "6           Res. N° 011-2017-SUNEDU/CD                      20/03/2017  \n",
              "7           Res. N° 002-2022-SUNEDU/CD                      15/01/2022  \n",
              "8           Res. N° 022-2019-SUNEDU/CD                      01/03/2019  \n",
              "9           Res. N° 012-2019-SUNEDU/CD                      01/02/2019  \n",
              "10          Res. N° 101-2017-SUNEDU/CD                      30/12/2017  \n",
              "11          Res. N° 058-2019-SUNEDU/CD                      07/05/2019  \n",
              "12          Res. N° 080-2018-SUNEDU/CD                      17/07/2018  \n",
              "13          Res. N° 035-2020-SUNEDU/CD                      11/03/2020  \n",
              "14          Res. N° 114-2019-SUNEDU/CD                      29/08/2019  \n",
              "15          Res. N° 099-2019-SUNEDU/CD                      26/07/2019  \n",
              "16          Res. N° 165-2019-SUNEDU/CD                      13/12/2019  \n",
              "17          Res. N° 111-2019-SUNEDU/CD                      22/08/2019  \n",
              "18          Res. N° 171-2019-SUNEDU/CD                      24/12/2019  \n",
              "19          Res. N° 012-2020-SUNEDU/CD                      28/01/2020  \n",
              "20          Res. N° 015-2023-SUNEDU/CD                      09/06/2023  \n",
              "21          Res. N° 056-2018-SUNEDU/CD                      13/06/2018  \n",
              "22          Res. N° 173-2018-SUNEDU/CD                      01/01/2018  \n",
              "23          Res. N° 055-2019-SUNEDU/CD                      01/05/2019  \n",
              "24          Res. N° 149-2018-SUNEDU/CD                      15/11/2018  \n",
              "25          Res. N° 155-2019-SUNEDU/CD                      03/12/2019  \n",
              "26          Res. N° 028-2019-SUNEDU/CD                      12/03/2019  \n",
              "27          Res. N° 086-2019-SUNEDU/CD                      03/07/2019  \n",
              "28          Res. N° 132-2019-SUNEDU/CD                      12/10/2019  \n",
              "29          Res. N° 033-2017-SUNEDU/CD                      17/09/2017  \n",
              "30          Res. N° 021-2020-SUNEDU/CD                      05/02/2020  \n",
              "31          Res. N° 131-2018-SUNEDU/CD                      27/09/2018  \n",
              "32          Res. N° 059-2018-SUNEDU/CD                      21/06/2018  \n",
              "33          Res. N° 035-2017-SUNEDU/CD                      02/10/2017  \n",
              "34          Res. N° 103-2017-SUNEDU/CD                      06/01/2018  \n",
              "35          Res. N° 097-2018-SUNEDU/CD                      26/08/2018  \n",
              "36          Res. N° 002-2018-SUNEDU/CD                      14/01/2018  \n",
              "37          Res. N° 086-2019-SUNEDU/CD                      06/04/2019  \n",
              "38          Res. N° 160-2018-SUNEDU/CD                      08/12/2018  \n",
              "39          Res. N° 047-2018-SUNEDU/CD                      24/05/2018  \n",
              "40          Res. N° 116-2018-SUNEDU/CD                      12/09/2018  \n",
              "41          Res. N° 095-2018-SUNEDU/CD                      14,/08/018  \n",
              "42          Res. N° 033-2018-SUNEDU/CD                      23/03/2018  \n",
              "43          Res. N° 085-2019-SUNEDU/CD                      02/07/2019  \n",
              "44          Res. N° 062-2018-SUNEDU/CD                      29/06/2018  \n",
              "45          Res. N° 142-2018-SUNEDU/CD                      19/10/2018  \n",
              "46          Res. N° 014-2017-SUNEDU/CD                      19/04/2017  \n",
              "47          Res. N° 059-2018-SUNEDU/CD                      21/06/2018  \n",
              "48          Res. N° 016-2019-SUNEDU/CD                      15/02/2019  \n",
              "49          Res. N° 029-2023-SUNEDU/CD                      15/02/2019  "
            ],
            "text/html": [
              "\n",
              "  <div id=\"df-963e3685-c1d2-4607-a670-54f91d856569\" class=\"colab-df-container\">\n",
              "    <div>\n",
              "<style scoped>\n",
              "    .dataframe tbody tr th:only-of-type {\n",
              "        vertical-align: middle;\n",
              "    }\n",
              "\n",
              "    .dataframe tbody tr th {\n",
              "        vertical-align: top;\n",
              "    }\n",
              "\n",
              "    .dataframe thead th {\n",
              "        text-align: right;\n",
              "    }\n",
              "</style>\n",
              "<table border=\"1\" class=\"dataframe\">\n",
              "  <thead>\n",
              "    <tr style=\"text-align: right;\">\n",
              "      <th></th>\n",
              "      <th>N°</th>\n",
              "      <th>UNIVERSIDAD</th>\n",
              "      <th>DEPARTAMENTO</th>\n",
              "      <th>PROVINCIA</th>\n",
              "      <th>DISPOSITIVO LEGAL DE CREACIÓN</th>\n",
              "      <th>FECHA DE CREACIÓN</th>\n",
              "      <th>DISPOSITIVO LEGAL DE LICENCIAMIENTO</th>\n",
              "      <th>FECHA DE PUB. DIARIO EL PERUANO</th>\n",
              "    </tr>\n",
              "  </thead>\n",
              "  <tbody>\n",
              "    <tr>\n",
              "      <th>0</th>\n",
              "      <td>1</td>\n",
              "      <td>Universidad Nacional Mayor de San Marcos</td>\n",
              "      <td>Lima</td>\n",
              "      <td>Lima</td>\n",
              "      <td>Real Cédula de Fundación</td>\n",
              "      <td>12/05/1551</td>\n",
              "      <td>Res. N° 036-2018-SUNEDU/CD</td>\n",
              "      <td>04/04/2018</td>\n",
              "    </tr>\n",
              "    <tr>\n",
              "      <th>1</th>\n",
              "      <td>2</td>\n",
              "      <td>Universidad Nacional de San Cristóbal de Huamanga</td>\n",
              "      <td>Ayacucho</td>\n",
              "      <td>Huamanga</td>\n",
              "      <td>Ley N° 12828</td>\n",
              "      <td>03/07/1677</td>\n",
              "      <td>Res. N° 050-2018-SUNEDU/CD</td>\n",
              "      <td>01/06/2018</td>\n",
              "    </tr>\n",
              "    <tr>\n",
              "      <th>2</th>\n",
              "      <td>3</td>\n",
              "      <td>Universidad Nacional de San Antonio Abad del C...</td>\n",
              "      <td>Cusco</td>\n",
              "      <td>Cusco</td>\n",
              "      <td>Real Cédula de Fundación</td>\n",
              "      <td>01/06/1692</td>\n",
              "      <td>Res. N° 059-2019-SUNEDU/CD</td>\n",
              "      <td>04/05/2019</td>\n",
              "    </tr>\n",
              "    <tr>\n",
              "      <th>3</th>\n",
              "      <td>4</td>\n",
              "      <td>Universidad Nacional de Trujillo</td>\n",
              "      <td>La Libertad</td>\n",
              "      <td>Trujillo</td>\n",
              "      <td>Decreto Directoral</td>\n",
              "      <td>10/05/1824</td>\n",
              "      <td>Res. N° 127-2018-SUNEDU/CD</td>\n",
              "      <td>20/09/2018</td>\n",
              "    </tr>\n",
              "    <tr>\n",
              "      <th>4</th>\n",
              "      <td>5</td>\n",
              "      <td>Universidad Nacional de San Agustín de Arequipa</td>\n",
              "      <td>Arequipa</td>\n",
              "      <td>Arequipa</td>\n",
              "      <td>Acta de Instalación</td>\n",
              "      <td>11/11/1828</td>\n",
              "      <td>Res. N° 098-2018-SUNEDU/CD</td>\n",
              "      <td>27/08/2018</td>\n",
              "    </tr>\n",
              "    <tr>\n",
              "      <th>5</th>\n",
              "      <td>6</td>\n",
              "      <td>Universidad Nacional de Ingeniería</td>\n",
              "      <td>Lima</td>\n",
              "      <td>Lima</td>\n",
              "      <td>Ley N° 12379</td>\n",
              "      <td>19/07/1955</td>\n",
              "      <td>Res. N° 073-2017-SUNEDU/CD</td>\n",
              "      <td>28/11/2017</td>\n",
              "    </tr>\n",
              "    <tr>\n",
              "      <th>6</th>\n",
              "      <td>7</td>\n",
              "      <td>Universidad Nacional Agraria La Molina</td>\n",
              "      <td>Lima</td>\n",
              "      <td>Lima</td>\n",
              "      <td>Ley N° 13417</td>\n",
              "      <td>08/04/1960</td>\n",
              "      <td>Res. N° 011-2017-SUNEDU/CD</td>\n",
              "      <td>20/03/2017</td>\n",
              "    </tr>\n",
              "    <tr>\n",
              "      <th>7</th>\n",
              "      <td>8</td>\n",
              "      <td>Universidad Nacional San Luis Gonzaga</td>\n",
              "      <td>Ica</td>\n",
              "      <td>Ica</td>\n",
              "      <td>Ley N° 12495</td>\n",
              "      <td>20/12/1955</td>\n",
              "      <td>Res. N° 002-2022-SUNEDU/CD</td>\n",
              "      <td>15/01/2022</td>\n",
              "    </tr>\n",
              "    <tr>\n",
              "      <th>8</th>\n",
              "      <td>9</td>\n",
              "      <td>Universidad Nacional del Centro del Perú</td>\n",
              "      <td>Junín</td>\n",
              "      <td>Huancayo</td>\n",
              "      <td>Ley N° 13827</td>\n",
              "      <td>02/01/1962</td>\n",
              "      <td>Res. N° 022-2019-SUNEDU/CD</td>\n",
              "      <td>01/03/2019</td>\n",
              "    </tr>\n",
              "    <tr>\n",
              "      <th>9</th>\n",
              "      <td>10</td>\n",
              "      <td>Universidad Nacional de la Amazonía Peruana</td>\n",
              "      <td>Loreto</td>\n",
              "      <td>Maynas</td>\n",
              "      <td>Ley N° 13498</td>\n",
              "      <td>14/01/1961</td>\n",
              "      <td>Res. N° 012-2019-SUNEDU/CD</td>\n",
              "      <td>01/02/2019</td>\n",
              "    </tr>\n",
              "    <tr>\n",
              "      <th>10</th>\n",
              "      <td>11</td>\n",
              "      <td>Universidad Nacional del Altiplano</td>\n",
              "      <td>Puno</td>\n",
              "      <td>Puno</td>\n",
              "      <td>Ley N° 13516</td>\n",
              "      <td>10/02/1961</td>\n",
              "      <td>Res. N° 101-2017-SUNEDU/CD</td>\n",
              "      <td>30/12/2017</td>\n",
              "    </tr>\n",
              "    <tr>\n",
              "      <th>11</th>\n",
              "      <td>12</td>\n",
              "      <td>Universidad Nacional de Piura</td>\n",
              "      <td>Piura</td>\n",
              "      <td>Piura</td>\n",
              "      <td>Ley N° 13531</td>\n",
              "      <td>03/03/1961</td>\n",
              "      <td>Res. N° 058-2019-SUNEDU/CD</td>\n",
              "      <td>07/05/2019</td>\n",
              "    </tr>\n",
              "    <tr>\n",
              "      <th>12</th>\n",
              "      <td>13</td>\n",
              "      <td>Universidad Nacional de Cajamarca</td>\n",
              "      <td>Cajamarca</td>\n",
              "      <td>Cajamarca</td>\n",
              "      <td>Ley N° 14015</td>\n",
              "      <td>13/02/1962</td>\n",
              "      <td>Res. N° 080-2018-SUNEDU/CD</td>\n",
              "      <td>17/07/2018</td>\n",
              "    </tr>\n",
              "    <tr>\n",
              "      <th>13</th>\n",
              "      <td>14</td>\n",
              "      <td>Universidad Nacional Federico Villarreal</td>\n",
              "      <td>Lima</td>\n",
              "      <td>Lima</td>\n",
              "      <td>Ley N° 14692</td>\n",
              "      <td>30/10/1963</td>\n",
              "      <td>Res. N° 035-2020-SUNEDU/CD</td>\n",
              "      <td>11/03/2020</td>\n",
              "    </tr>\n",
              "    <tr>\n",
              "      <th>14</th>\n",
              "      <td>15</td>\n",
              "      <td>Universidad Nacional Agraria de la Selva</td>\n",
              "      <td>Huánuco</td>\n",
              "      <td>Leoncio Prado</td>\n",
              "      <td>Ley N° 14912</td>\n",
              "      <td>20/02/1964</td>\n",
              "      <td>Res. N° 114-2019-SUNEDU/CD</td>\n",
              "      <td>29/08/2019</td>\n",
              "    </tr>\n",
              "    <tr>\n",
              "      <th>15</th>\n",
              "      <td>16</td>\n",
              "      <td>Universidad Nacional Hermilio Valdizán de Huánuco</td>\n",
              "      <td>Huánuco</td>\n",
              "      <td>Huánuco</td>\n",
              "      <td>Ley N° 14915</td>\n",
              "      <td>20/02/1964</td>\n",
              "      <td>Res. N° 099-2019-SUNEDU/CD</td>\n",
              "      <td>26/07/2019</td>\n",
              "    </tr>\n",
              "    <tr>\n",
              "      <th>16</th>\n",
              "      <td>17</td>\n",
              "      <td>Universidad Nacional de Educación Enrique Guzm...</td>\n",
              "      <td>Lima</td>\n",
              "      <td>Lima</td>\n",
              "      <td>Ley N° 15519</td>\n",
              "      <td>07/04/1965</td>\n",
              "      <td>Res. N° 165-2019-SUNEDU/CD</td>\n",
              "      <td>13/12/2019</td>\n",
              "    </tr>\n",
              "    <tr>\n",
              "      <th>17</th>\n",
              "      <td>18</td>\n",
              "      <td>Universidad Nacional Daniel Alcides Carrión</td>\n",
              "      <td>Pasco</td>\n",
              "      <td>Pasco</td>\n",
              "      <td>Ley N° 15527</td>\n",
              "      <td>23/04/1965</td>\n",
              "      <td>Res. N° 111-2019-SUNEDU/CD</td>\n",
              "      <td>22/08/2019</td>\n",
              "    </tr>\n",
              "    <tr>\n",
              "      <th>18</th>\n",
              "      <td>19</td>\n",
              "      <td>Universidad Nacional del Callao</td>\n",
              "      <td>Callao</td>\n",
              "      <td>Callao</td>\n",
              "      <td>Ley N° 16225</td>\n",
              "      <td>02/09/1966</td>\n",
              "      <td>Res. N° 171-2019-SUNEDU/CD</td>\n",
              "      <td>24/12/2019</td>\n",
              "    </tr>\n",
              "    <tr>\n",
              "      <th>19</th>\n",
              "      <td>20</td>\n",
              "      <td>Universidad Nacional José Faustino Sánchez Car...</td>\n",
              "      <td>Lima</td>\n",
              "      <td>Huaura</td>\n",
              "      <td>Decreto Ley N° 17358</td>\n",
              "      <td>31/12/1968</td>\n",
              "      <td>Res. N° 012-2020-SUNEDU/CD</td>\n",
              "      <td>28/01/2020</td>\n",
              "    </tr>\n",
              "    <tr>\n",
              "      <th>20</th>\n",
              "      <td>21</td>\n",
              "      <td>Universidad Nacional Pedro Ruiz Gallo</td>\n",
              "      <td>Lambayeque</td>\n",
              "      <td>Lambayeque</td>\n",
              "      <td>Decreto Ley N° 18179</td>\n",
              "      <td>17/03/1970</td>\n",
              "      <td>Res. N° 015-2023-SUNEDU/CD</td>\n",
              "      <td>09/06/2023</td>\n",
              "    </tr>\n",
              "    <tr>\n",
              "      <th>21</th>\n",
              "      <td>22</td>\n",
              "      <td>Universidad Nacional Jorge Basadre Grohmann</td>\n",
              "      <td>Tacna</td>\n",
              "      <td>Tacna</td>\n",
              "      <td>Decreto Ley N° 18942</td>\n",
              "      <td>26/08/1971</td>\n",
              "      <td>Res. N° 056-2018-SUNEDU/CD</td>\n",
              "      <td>13/06/2018</td>\n",
              "    </tr>\n",
              "    <tr>\n",
              "      <th>22</th>\n",
              "      <td>23</td>\n",
              "      <td>Universidad Nacional Santiago Antúnez de Mayolo</td>\n",
              "      <td>Ancash</td>\n",
              "      <td>Huaraz</td>\n",
              "      <td>Decreto Ley N° 21856</td>\n",
              "      <td>24/05/1977</td>\n",
              "      <td>Res. N° 173-2018-SUNEDU/CD</td>\n",
              "      <td>01/01/2018</td>\n",
              "    </tr>\n",
              "    <tr>\n",
              "      <th>23</th>\n",
              "      <td>24</td>\n",
              "      <td>Universidad Nacional de San Martín</td>\n",
              "      <td>San Martín</td>\n",
              "      <td>San Martín</td>\n",
              "      <td>Decreto Ley N° 22803</td>\n",
              "      <td>18/12/1979</td>\n",
              "      <td>Res. N° 055-2019-SUNEDU/CD</td>\n",
              "      <td>01/05/2019</td>\n",
              "    </tr>\n",
              "    <tr>\n",
              "      <th>24</th>\n",
              "      <td>25</td>\n",
              "      <td>Universidad Nacional de Ucayali</td>\n",
              "      <td>Ucayali</td>\n",
              "      <td>Coronel Portillo</td>\n",
              "      <td>Decreto Ley N° 22804</td>\n",
              "      <td>18/12/1979</td>\n",
              "      <td>Res. N° 149-2018-SUNEDU/CD</td>\n",
              "      <td>15/11/2018</td>\n",
              "    </tr>\n",
              "    <tr>\n",
              "      <th>25</th>\n",
              "      <td>26</td>\n",
              "      <td>Universidad Nacional de Tumbes</td>\n",
              "      <td>Tumbes</td>\n",
              "      <td>Tumbes</td>\n",
              "      <td>Ley N° 23881</td>\n",
              "      <td>23/06/1984</td>\n",
              "      <td>Res. N° 155-2019-SUNEDU/CD</td>\n",
              "      <td>03/12/2019</td>\n",
              "    </tr>\n",
              "    <tr>\n",
              "      <th>26</th>\n",
              "      <td>27</td>\n",
              "      <td>Universidad Nacional del Santa</td>\n",
              "      <td>Ancash</td>\n",
              "      <td>Santa</td>\n",
              "      <td>Ley N° 24035</td>\n",
              "      <td>20/12/1984</td>\n",
              "      <td>Res. N° 028-2019-SUNEDU/CD</td>\n",
              "      <td>12/03/2019</td>\n",
              "    </tr>\n",
              "    <tr>\n",
              "      <th>27</th>\n",
              "      <td>28</td>\n",
              "      <td>Universidad Nacional de Huancavelica</td>\n",
              "      <td>Huancavelica</td>\n",
              "      <td>Huancavelica</td>\n",
              "      <td>Ley N° 25265</td>\n",
              "      <td>20/06/1990</td>\n",
              "      <td>Res. N° 086-2019-SUNEDU/CD</td>\n",
              "      <td>03/07/2019</td>\n",
              "    </tr>\n",
              "    <tr>\n",
              "      <th>28</th>\n",
              "      <td>29</td>\n",
              "      <td>Universidad Nacional Amazónica de Madre de Dios</td>\n",
              "      <td>Madre De Dios</td>\n",
              "      <td>Tambopata</td>\n",
              "      <td>Ley N° 27297</td>\n",
              "      <td>06/07/2000</td>\n",
              "      <td>Res. N° 132-2019-SUNEDU/CD</td>\n",
              "      <td>12/10/2019</td>\n",
              "    </tr>\n",
              "    <tr>\n",
              "      <th>29</th>\n",
              "      <td>30</td>\n",
              "      <td>Universidad Nacional Toribio Rodríguez de Mend...</td>\n",
              "      <td>Amazonas</td>\n",
              "      <td>Chachapoyas</td>\n",
              "      <td>Ley N° 27347</td>\n",
              "      <td>19/09/2000</td>\n",
              "      <td>Res. N° 033-2017-SUNEDU/CD</td>\n",
              "      <td>17/09/2017</td>\n",
              "    </tr>\n",
              "    <tr>\n",
              "      <th>30</th>\n",
              "      <td>31</td>\n",
              "      <td>Universidad Nacional Micaela Bastidas de Apurímac</td>\n",
              "      <td>Apurímac</td>\n",
              "      <td>Abancay</td>\n",
              "      <td>Ley N° 27348</td>\n",
              "      <td>27/09/2000</td>\n",
              "      <td>Res. N° 021-2020-SUNEDU/CD</td>\n",
              "      <td>05/02/2020</td>\n",
              "    </tr>\n",
              "    <tr>\n",
              "      <th>31</th>\n",
              "      <td>32</td>\n",
              "      <td>Universidad Nacional Intercultural de la Amazonía</td>\n",
              "      <td>Ucayali</td>\n",
              "      <td>Coronel Portillo</td>\n",
              "      <td>Ley N° 27250</td>\n",
              "      <td>05/01/2000</td>\n",
              "      <td>Res. N° 131-2018-SUNEDU/CD</td>\n",
              "      <td>27/09/2018</td>\n",
              "    </tr>\n",
              "    <tr>\n",
              "      <th>32</th>\n",
              "      <td>33</td>\n",
              "      <td>Universidad Nacional Tecnológica de Lima Sur (*1)</td>\n",
              "      <td>Lima</td>\n",
              "      <td>Lima</td>\n",
              "      <td>Ley N° 27413</td>\n",
              "      <td>01/02/2001</td>\n",
              "      <td>Res. N° 059-2018-SUNEDU/CD</td>\n",
              "      <td>21/06/2018</td>\n",
              "    </tr>\n",
              "    <tr>\n",
              "      <th>33</th>\n",
              "      <td>34</td>\n",
              "      <td>Universidad Nacional José María Arguedas</td>\n",
              "      <td>Apurímac</td>\n",
              "      <td>Andahuaylas</td>\n",
              "      <td>Ley N° 28372</td>\n",
              "      <td>01/11/2004</td>\n",
              "      <td>Res. N° 035-2017-SUNEDU/CD</td>\n",
              "      <td>02/10/2017</td>\n",
              "    </tr>\n",
              "    <tr>\n",
              "      <th>34</th>\n",
              "      <td>35</td>\n",
              "      <td>Universidad Nacional de Moquegua</td>\n",
              "      <td>Moquegua</td>\n",
              "      <td>Mariscal Nieto</td>\n",
              "      <td>Ley N° 28520</td>\n",
              "      <td>24/05/2005</td>\n",
              "      <td>Res. N° 103-2017-SUNEDU/CD</td>\n",
              "      <td>06/01/2018</td>\n",
              "    </tr>\n",
              "    <tr>\n",
              "      <th>35</th>\n",
              "      <td>36</td>\n",
              "      <td>Universidad Nacional de Juliaca</td>\n",
              "      <td>Puno</td>\n",
              "      <td>San Román</td>\n",
              "      <td>Ley N° 29074</td>\n",
              "      <td>25/07/2007</td>\n",
              "      <td>Res. N° 097-2018-SUNEDU/CD</td>\n",
              "      <td>26/08/2018</td>\n",
              "    </tr>\n",
              "    <tr>\n",
              "      <th>36</th>\n",
              "      <td>37</td>\n",
              "      <td>Universidad Nacional de Jaén</td>\n",
              "      <td>Cajamarca</td>\n",
              "      <td>Jaén</td>\n",
              "      <td>Ley N° 29304</td>\n",
              "      <td>20/12/2008</td>\n",
              "      <td>Res. N° 002-2018-SUNEDU/CD</td>\n",
              "      <td>14/01/2018</td>\n",
              "    </tr>\n",
              "    <tr>\n",
              "      <th>37</th>\n",
              "      <td>38</td>\n",
              "      <td>Universidad Nacional de Frontera</td>\n",
              "      <td>Piura</td>\n",
              "      <td>Sullana</td>\n",
              "      <td>Ley N° 29568</td>\n",
              "      <td>06/08/2010</td>\n",
              "      <td>Res. N° 086-2019-SUNEDU/CD</td>\n",
              "      <td>06/04/2019</td>\n",
              "    </tr>\n",
              "    <tr>\n",
              "      <th>38</th>\n",
              "      <td>39</td>\n",
              "      <td>Universidad Nacional Autónoma de Chota</td>\n",
              "      <td>Cajamarca</td>\n",
              "      <td>Chota</td>\n",
              "      <td>Ley N° 29531</td>\n",
              "      <td>12/05/2010</td>\n",
              "      <td>Res. N° 160-2018-SUNEDU/CD</td>\n",
              "      <td>08/12/2018</td>\n",
              "    </tr>\n",
              "    <tr>\n",
              "      <th>39</th>\n",
              "      <td>40</td>\n",
              "      <td>Universidad Nacional de Barranca</td>\n",
              "      <td>Lima</td>\n",
              "      <td>Barranca</td>\n",
              "      <td>Ley N° 29553</td>\n",
              "      <td>07/07/2010</td>\n",
              "      <td>Res. N° 047-2018-SUNEDU/CD</td>\n",
              "      <td>24/05/2018</td>\n",
              "    </tr>\n",
              "    <tr>\n",
              "      <th>40</th>\n",
              "      <td>41</td>\n",
              "      <td>Universidad Nacional de Cañete</td>\n",
              "      <td>Lima</td>\n",
              "      <td>Cañete</td>\n",
              "      <td>Ley N° 29488</td>\n",
              "      <td>23/12/2009</td>\n",
              "      <td>Res. N° 116-2018-SUNEDU/CD</td>\n",
              "      <td>12/09/2018</td>\n",
              "    </tr>\n",
              "    <tr>\n",
              "      <th>41</th>\n",
              "      <td>42</td>\n",
              "      <td>Universidad Nacional Intercultural Fabiola Sal...</td>\n",
              "      <td>Amazonas</td>\n",
              "      <td>Bagua</td>\n",
              "      <td>Ley N° 29614</td>\n",
              "      <td>18/11/2010</td>\n",
              "      <td>Res. N° 095-2018-SUNEDU/CD</td>\n",
              "      <td>14,/08/018</td>\n",
              "    </tr>\n",
              "    <tr>\n",
              "      <th>42</th>\n",
              "      <td>43</td>\n",
              "      <td>Universidad Nacional Intercultural de la Selva...</td>\n",
              "      <td>Junín</td>\n",
              "      <td>Chanchamayo</td>\n",
              "      <td>Ley N° 29616</td>\n",
              "      <td>19/11/2010</td>\n",
              "      <td>Res. N° 033-2018-SUNEDU/CD</td>\n",
              "      <td>23/03/2018</td>\n",
              "    </tr>\n",
              "    <tr>\n",
              "      <th>43</th>\n",
              "      <td>44</td>\n",
              "      <td>Universidad Nacional Intercultural de Quillabamba</td>\n",
              "      <td>Cusco</td>\n",
              "      <td>La Convención</td>\n",
              "      <td>Ley N° 29620</td>\n",
              "      <td>01/12/2010</td>\n",
              "      <td>Res. N° 085-2019-SUNEDU/CD</td>\n",
              "      <td>02/07/2019</td>\n",
              "    </tr>\n",
              "    <tr>\n",
              "      <th>44</th>\n",
              "      <td>45</td>\n",
              "      <td>Universidad Nacional Autónoma de Alto Amazonas</td>\n",
              "      <td>Loreto</td>\n",
              "      <td>Alto Amazonas</td>\n",
              "      <td>Ley N° 29649</td>\n",
              "      <td>11/01/2011</td>\n",
              "      <td>Res. N° 062-2018-SUNEDU/CD</td>\n",
              "      <td>29/06/2018</td>\n",
              "    </tr>\n",
              "    <tr>\n",
              "      <th>45</th>\n",
              "      <td>46</td>\n",
              "      <td>Universidad Nacional Autónoma Altoandina de Tarma</td>\n",
              "      <td>Junín</td>\n",
              "      <td>Tarma</td>\n",
              "      <td>Ley N° 29652</td>\n",
              "      <td>14/01/2011</td>\n",
              "      <td>Res. N° 142-2018-SUNEDU/CD</td>\n",
              "      <td>19/10/2018</td>\n",
              "    </tr>\n",
              "    <tr>\n",
              "      <th>46</th>\n",
              "      <td>47</td>\n",
              "      <td>Universidad Nacional Autónoma de Huanta</td>\n",
              "      <td>Ayacucho</td>\n",
              "      <td>Huanta</td>\n",
              "      <td>Ley N° 29658</td>\n",
              "      <td>28/01/2011</td>\n",
              "      <td>Res. N° 014-2017-SUNEDU/CD</td>\n",
              "      <td>19/04/2017</td>\n",
              "    </tr>\n",
              "    <tr>\n",
              "      <th>47</th>\n",
              "      <td>48</td>\n",
              "      <td>Universidad Nacional Tecnológica de Lima Sur</td>\n",
              "      <td>Lima</td>\n",
              "      <td>Lima</td>\n",
              "      <td>Ley N° 29659</td>\n",
              "      <td>28/01/2011</td>\n",
              "      <td>Res. N° 059-2018-SUNEDU/CD</td>\n",
              "      <td>21/06/2018</td>\n",
              "    </tr>\n",
              "    <tr>\n",
              "      <th>48</th>\n",
              "      <td>49</td>\n",
              "      <td>Universidad Nacional Autónoma de Tayacaja Dani...</td>\n",
              "      <td>Huancavelica</td>\n",
              "      <td>Tayacaja</td>\n",
              "      <td>Ley N° 29716</td>\n",
              "      <td>23/06/2011</td>\n",
              "      <td>Res. N° 016-2019-SUNEDU/CD</td>\n",
              "      <td>15/02/2019</td>\n",
              "    </tr>\n",
              "    <tr>\n",
              "      <th>49</th>\n",
              "      <td>50</td>\n",
              "      <td>Universidad Nacional Ciro Alegría</td>\n",
              "      <td>La Libertad</td>\n",
              "      <td>Sanchez Carrión</td>\n",
              "      <td>Ley N° 29756</td>\n",
              "      <td>17/07/2011</td>\n",
              "      <td>Res. N° 029-2023-SUNEDU/CD</td>\n",
              "      <td>15/02/2019</td>\n",
              "    </tr>\n",
              "  </tbody>\n",
              "</table>\n",
              "</div>\n",
              "    <div class=\"colab-df-buttons\">\n",
              "\n",
              "  <div class=\"colab-df-container\">\n",
              "    <button class=\"colab-df-convert\" onclick=\"convertToInteractive('df-963e3685-c1d2-4607-a670-54f91d856569')\"\n",
              "            title=\"Convert this dataframe to an interactive table.\"\n",
              "            style=\"display:none;\">\n",
              "\n",
              "  <svg xmlns=\"http://www.w3.org/2000/svg\" height=\"24px\" viewBox=\"0 -960 960 960\">\n",
              "    <path d=\"M120-120v-720h720v720H120Zm60-500h600v-160H180v160Zm220 220h160v-160H400v160Zm0 220h160v-160H400v160ZM180-400h160v-160H180v160Zm440 0h160v-160H620v160ZM180-180h160v-160H180v160Zm440 0h160v-160H620v160Z\"/>\n",
              "  </svg>\n",
              "    </button>\n",
              "\n",
              "  <style>\n",
              "    .colab-df-container {\n",
              "      display:flex;\n",
              "      gap: 12px;\n",
              "    }\n",
              "\n",
              "    .colab-df-convert {\n",
              "      background-color: #E8F0FE;\n",
              "      border: none;\n",
              "      border-radius: 50%;\n",
              "      cursor: pointer;\n",
              "      display: none;\n",
              "      fill: #1967D2;\n",
              "      height: 32px;\n",
              "      padding: 0 0 0 0;\n",
              "      width: 32px;\n",
              "    }\n",
              "\n",
              "    .colab-df-convert:hover {\n",
              "      background-color: #E2EBFA;\n",
              "      box-shadow: 0px 1px 2px rgba(60, 64, 67, 0.3), 0px 1px 3px 1px rgba(60, 64, 67, 0.15);\n",
              "      fill: #174EA6;\n",
              "    }\n",
              "\n",
              "    .colab-df-buttons div {\n",
              "      margin-bottom: 4px;\n",
              "    }\n",
              "\n",
              "    [theme=dark] .colab-df-convert {\n",
              "      background-color: #3B4455;\n",
              "      fill: #D2E3FC;\n",
              "    }\n",
              "\n",
              "    [theme=dark] .colab-df-convert:hover {\n",
              "      background-color: #434B5C;\n",
              "      box-shadow: 0px 1px 3px 1px rgba(0, 0, 0, 0.15);\n",
              "      filter: drop-shadow(0px 1px 2px rgba(0, 0, 0, 0.3));\n",
              "      fill: #FFFFFF;\n",
              "    }\n",
              "  </style>\n",
              "\n",
              "    <script>\n",
              "      const buttonEl =\n",
              "        document.querySelector('#df-963e3685-c1d2-4607-a670-54f91d856569 button.colab-df-convert');\n",
              "      buttonEl.style.display =\n",
              "        google.colab.kernel.accessAllowed ? 'block' : 'none';\n",
              "\n",
              "      async function convertToInteractive(key) {\n",
              "        const element = document.querySelector('#df-963e3685-c1d2-4607-a670-54f91d856569');\n",
              "        const dataTable =\n",
              "          await google.colab.kernel.invokeFunction('convertToInteractive',\n",
              "                                                    [key], {});\n",
              "        if (!dataTable) return;\n",
              "\n",
              "        const docLinkHtml = 'Like what you see? Visit the ' +\n",
              "          '<a target=\"_blank\" href=https://colab.research.google.com/notebooks/data_table.ipynb>data table notebook</a>'\n",
              "          + ' to learn more about interactive tables.';\n",
              "        element.innerHTML = '';\n",
              "        dataTable['output_type'] = 'display_data';\n",
              "        await google.colab.output.renderOutput(dataTable, element);\n",
              "        const docLink = document.createElement('div');\n",
              "        docLink.innerHTML = docLinkHtml;\n",
              "        element.appendChild(docLink);\n",
              "      }\n",
              "    </script>\n",
              "  </div>\n",
              "\n",
              "\n",
              "<div id=\"df-e35a8969-056e-4839-99bc-ba04991439e1\">\n",
              "  <button class=\"colab-df-quickchart\" onclick=\"quickchart('df-e35a8969-056e-4839-99bc-ba04991439e1')\"\n",
              "            title=\"Suggest charts\"\n",
              "            style=\"display:none;\">\n",
              "\n",
              "<svg xmlns=\"http://www.w3.org/2000/svg\" height=\"24px\"viewBox=\"0 0 24 24\"\n",
              "     width=\"24px\">\n",
              "    <g>\n",
              "        <path d=\"M19 3H5c-1.1 0-2 .9-2 2v14c0 1.1.9 2 2 2h14c1.1 0 2-.9 2-2V5c0-1.1-.9-2-2-2zM9 17H7v-7h2v7zm4 0h-2V7h2v10zm4 0h-2v-4h2v4z\"/>\n",
              "    </g>\n",
              "</svg>\n",
              "  </button>\n",
              "\n",
              "<style>\n",
              "  .colab-df-quickchart {\n",
              "      --bg-color: #E8F0FE;\n",
              "      --fill-color: #1967D2;\n",
              "      --hover-bg-color: #E2EBFA;\n",
              "      --hover-fill-color: #174EA6;\n",
              "      --disabled-fill-color: #AAA;\n",
              "      --disabled-bg-color: #DDD;\n",
              "  }\n",
              "\n",
              "  [theme=dark] .colab-df-quickchart {\n",
              "      --bg-color: #3B4455;\n",
              "      --fill-color: #D2E3FC;\n",
              "      --hover-bg-color: #434B5C;\n",
              "      --hover-fill-color: #FFFFFF;\n",
              "      --disabled-bg-color: #3B4455;\n",
              "      --disabled-fill-color: #666;\n",
              "  }\n",
              "\n",
              "  .colab-df-quickchart {\n",
              "    background-color: var(--bg-color);\n",
              "    border: none;\n",
              "    border-radius: 50%;\n",
              "    cursor: pointer;\n",
              "    display: none;\n",
              "    fill: var(--fill-color);\n",
              "    height: 32px;\n",
              "    padding: 0;\n",
              "    width: 32px;\n",
              "  }\n",
              "\n",
              "  .colab-df-quickchart:hover {\n",
              "    background-color: var(--hover-bg-color);\n",
              "    box-shadow: 0 1px 2px rgba(60, 64, 67, 0.3), 0 1px 3px 1px rgba(60, 64, 67, 0.15);\n",
              "    fill: var(--button-hover-fill-color);\n",
              "  }\n",
              "\n",
              "  .colab-df-quickchart-complete:disabled,\n",
              "  .colab-df-quickchart-complete:disabled:hover {\n",
              "    background-color: var(--disabled-bg-color);\n",
              "    fill: var(--disabled-fill-color);\n",
              "    box-shadow: none;\n",
              "  }\n",
              "\n",
              "  .colab-df-spinner {\n",
              "    border: 2px solid var(--fill-color);\n",
              "    border-color: transparent;\n",
              "    border-bottom-color: var(--fill-color);\n",
              "    animation:\n",
              "      spin 1s steps(1) infinite;\n",
              "  }\n",
              "\n",
              "  @keyframes spin {\n",
              "    0% {\n",
              "      border-color: transparent;\n",
              "      border-bottom-color: var(--fill-color);\n",
              "      border-left-color: var(--fill-color);\n",
              "    }\n",
              "    20% {\n",
              "      border-color: transparent;\n",
              "      border-left-color: var(--fill-color);\n",
              "      border-top-color: var(--fill-color);\n",
              "    }\n",
              "    30% {\n",
              "      border-color: transparent;\n",
              "      border-left-color: var(--fill-color);\n",
              "      border-top-color: var(--fill-color);\n",
              "      border-right-color: var(--fill-color);\n",
              "    }\n",
              "    40% {\n",
              "      border-color: transparent;\n",
              "      border-right-color: var(--fill-color);\n",
              "      border-top-color: var(--fill-color);\n",
              "    }\n",
              "    60% {\n",
              "      border-color: transparent;\n",
              "      border-right-color: var(--fill-color);\n",
              "    }\n",
              "    80% {\n",
              "      border-color: transparent;\n",
              "      border-right-color: var(--fill-color);\n",
              "      border-bottom-color: var(--fill-color);\n",
              "    }\n",
              "    90% {\n",
              "      border-color: transparent;\n",
              "      border-bottom-color: var(--fill-color);\n",
              "    }\n",
              "  }\n",
              "</style>\n",
              "\n",
              "  <script>\n",
              "    async function quickchart(key) {\n",
              "      const quickchartButtonEl =\n",
              "        document.querySelector('#' + key + ' button');\n",
              "      quickchartButtonEl.disabled = true;  // To prevent multiple clicks.\n",
              "      quickchartButtonEl.classList.add('colab-df-spinner');\n",
              "      try {\n",
              "        const charts = await google.colab.kernel.invokeFunction(\n",
              "            'suggestCharts', [key], {});\n",
              "      } catch (error) {\n",
              "        console.error('Error during call to suggestCharts:', error);\n",
              "      }\n",
              "      quickchartButtonEl.classList.remove('colab-df-spinner');\n",
              "      quickchartButtonEl.classList.add('colab-df-quickchart-complete');\n",
              "    }\n",
              "    (() => {\n",
              "      let quickchartButtonEl =\n",
              "        document.querySelector('#df-e35a8969-056e-4839-99bc-ba04991439e1 button');\n",
              "      quickchartButtonEl.style.display =\n",
              "        google.colab.kernel.accessAllowed ? 'block' : 'none';\n",
              "    })();\n",
              "  </script>\n",
              "</div>\n",
              "\n",
              "    </div>\n",
              "  </div>\n"
            ],
            "application/vnd.google.colaboratory.intrinsic+json": {
              "type": "dataframe",
              "summary": "{\n  \"name\": \"df[0]\",\n  \"rows\": 50,\n  \"fields\": [\n    {\n      \"column\": \"N\\u00b0\",\n      \"properties\": {\n        \"dtype\": \"number\",\n        \"std\": 14,\n        \"min\": 1,\n        \"max\": 50,\n        \"num_unique_values\": 50,\n        \"samples\": [\n          14,\n          40,\n          31\n        ],\n        \"semantic_type\": \"\",\n        \"description\": \"\"\n      }\n    },\n    {\n      \"column\": \"UNIVERSIDAD\",\n      \"properties\": {\n        \"dtype\": \"string\",\n        \"num_unique_values\": 50,\n        \"samples\": [\n          \"Universidad Nacional Federico Villarreal\",\n          \"Universidad Nacional de Barranca\",\n          \"Universidad Nacional Micaela Bastidas de Apur\\u00edmac\"\n        ],\n        \"semantic_type\": \"\",\n        \"description\": \"\"\n      }\n    },\n    {\n      \"column\": \"DEPARTAMENTO\",\n      \"properties\": {\n        \"dtype\": \"string\",\n        \"num_unique_values\": 25,\n        \"samples\": [\n          \"Puno\",\n          \"Ancash\",\n          \"Lima\"\n        ],\n        \"semantic_type\": \"\",\n        \"description\": \"\"\n      }\n    },\n    {\n      \"column\": \"PROVINCIA\",\n      \"properties\": {\n        \"dtype\": \"string\",\n        \"num_unique_values\": 43,\n        \"samples\": [\n          \"La Convenci\\u00f3n\",\n          \"Tambopata\",\n          \"Chachapoyas\"\n        ],\n        \"semantic_type\": \"\",\n        \"description\": \"\"\n      }\n    },\n    {\n      \"column\": \"DISPOSITIVO LEGAL DE CREACI\\u00d3N\",\n      \"properties\": {\n        \"dtype\": \"string\",\n        \"num_unique_values\": 49,\n        \"samples\": [\n          \"Ley N\\u00b0 14912\",\n          \"Ley N\\u00b0 29658\",\n          \"Ley N\\u00b0 29716\"\n        ],\n        \"semantic_type\": \"\",\n        \"description\": \"\"\n      }\n    },\n    {\n      \"column\": \"FECHA DE CREACI\\u00d3N\",\n      \"properties\": {\n        \"dtype\": \"string\",\n        \"num_unique_values\": 47,\n        \"samples\": [\n          \"19/09/2000\",\n          \"18/11/2010\",\n          \"06/07/2000\"\n        ],\n        \"semantic_type\": \"\",\n        \"description\": \"\"\n      }\n    },\n    {\n      \"column\": \"DISPOSITIVO LEGAL DE LICENCIAMIENTO\",\n      \"properties\": {\n        \"dtype\": \"string\",\n        \"num_unique_values\": 48,\n        \"samples\": [\n          \"Res. N\\u00b0 086-2019-SUNEDU/CD\",\n          \"Res. N\\u00b0 095-2018-SUNEDU/CD\",\n          \"Res. N\\u00b0 028-2019-SUNEDU/CD\"\n        ],\n        \"semantic_type\": \"\",\n        \"description\": \"\"\n      }\n    },\n    {\n      \"column\": \"FECHA DE PUB. DIARIO EL PERUANO\",\n      \"properties\": {\n        \"dtype\": \"string\",\n        \"num_unique_values\": 48,\n        \"samples\": [\n          \"03/07/2019\",\n          \"12/09/2018\",\n          \"12/03/2019\"\n        ],\n        \"semantic_type\": \"\",\n        \"description\": \"\"\n      }\n    }\n  ]\n}"
            }
          },
          "metadata": {},
          "execution_count": 36
        }
      ]
    },
    {
      "cell_type": "code",
      "source": [
        "# Para ver las primeras 5 entradas\n",
        "df [0].head() # Se puede colocar números para que entregue el número de entradas"
      ],
      "metadata": {
        "id": "BeN8YptU-DHy",
        "outputId": "176e93ac-0bac-46b8-827a-cea791ac17e1",
        "colab": {
          "base_uri": "https://localhost:8080/",
          "height": 310
        }
      },
      "execution_count": 37,
      "outputs": [
        {
          "output_type": "execute_result",
          "data": {
            "text/plain": [
              "   N°                                        UNIVERSIDAD DEPARTAMENTO  \\\n",
              "0   1           Universidad Nacional Mayor de San Marcos         Lima   \n",
              "1   2  Universidad Nacional de San Cristóbal de Huamanga     Ayacucho   \n",
              "2   3  Universidad Nacional de San Antonio Abad del C...        Cusco   \n",
              "3   4                   Universidad Nacional de Trujillo  La Libertad   \n",
              "4   5    Universidad Nacional de San Agustín de Arequipa     Arequipa   \n",
              "\n",
              "  PROVINCIA DISPOSITIVO LEGAL DE CREACIÓN FECHA DE CREACIÓN  \\\n",
              "0      Lima      Real Cédula de Fundación        12/05/1551   \n",
              "1  Huamanga                  Ley N° 12828        03/07/1677   \n",
              "2     Cusco      Real Cédula de Fundación        01/06/1692   \n",
              "3  Trujillo            Decreto Directoral        10/05/1824   \n",
              "4  Arequipa           Acta de Instalación        11/11/1828   \n",
              "\n",
              "  DISPOSITIVO LEGAL DE LICENCIAMIENTO FECHA DE PUB. DIARIO EL PERUANO  \n",
              "0          Res. N° 036-2018-SUNEDU/CD                      04/04/2018  \n",
              "1          Res. N° 050-2018-SUNEDU/CD                      01/06/2018  \n",
              "2          Res. N° 059-2019-SUNEDU/CD                      04/05/2019  \n",
              "3          Res. N° 127-2018-SUNEDU/CD                      20/09/2018  \n",
              "4          Res. N° 098-2018-SUNEDU/CD                      27/08/2018  "
            ],
            "text/html": [
              "\n",
              "  <div id=\"df-1cc451fd-a22b-44c9-824a-c2824ab320b5\" class=\"colab-df-container\">\n",
              "    <div>\n",
              "<style scoped>\n",
              "    .dataframe tbody tr th:only-of-type {\n",
              "        vertical-align: middle;\n",
              "    }\n",
              "\n",
              "    .dataframe tbody tr th {\n",
              "        vertical-align: top;\n",
              "    }\n",
              "\n",
              "    .dataframe thead th {\n",
              "        text-align: right;\n",
              "    }\n",
              "</style>\n",
              "<table border=\"1\" class=\"dataframe\">\n",
              "  <thead>\n",
              "    <tr style=\"text-align: right;\">\n",
              "      <th></th>\n",
              "      <th>N°</th>\n",
              "      <th>UNIVERSIDAD</th>\n",
              "      <th>DEPARTAMENTO</th>\n",
              "      <th>PROVINCIA</th>\n",
              "      <th>DISPOSITIVO LEGAL DE CREACIÓN</th>\n",
              "      <th>FECHA DE CREACIÓN</th>\n",
              "      <th>DISPOSITIVO LEGAL DE LICENCIAMIENTO</th>\n",
              "      <th>FECHA DE PUB. DIARIO EL PERUANO</th>\n",
              "    </tr>\n",
              "  </thead>\n",
              "  <tbody>\n",
              "    <tr>\n",
              "      <th>0</th>\n",
              "      <td>1</td>\n",
              "      <td>Universidad Nacional Mayor de San Marcos</td>\n",
              "      <td>Lima</td>\n",
              "      <td>Lima</td>\n",
              "      <td>Real Cédula de Fundación</td>\n",
              "      <td>12/05/1551</td>\n",
              "      <td>Res. N° 036-2018-SUNEDU/CD</td>\n",
              "      <td>04/04/2018</td>\n",
              "    </tr>\n",
              "    <tr>\n",
              "      <th>1</th>\n",
              "      <td>2</td>\n",
              "      <td>Universidad Nacional de San Cristóbal de Huamanga</td>\n",
              "      <td>Ayacucho</td>\n",
              "      <td>Huamanga</td>\n",
              "      <td>Ley N° 12828</td>\n",
              "      <td>03/07/1677</td>\n",
              "      <td>Res. N° 050-2018-SUNEDU/CD</td>\n",
              "      <td>01/06/2018</td>\n",
              "    </tr>\n",
              "    <tr>\n",
              "      <th>2</th>\n",
              "      <td>3</td>\n",
              "      <td>Universidad Nacional de San Antonio Abad del C...</td>\n",
              "      <td>Cusco</td>\n",
              "      <td>Cusco</td>\n",
              "      <td>Real Cédula de Fundación</td>\n",
              "      <td>01/06/1692</td>\n",
              "      <td>Res. N° 059-2019-SUNEDU/CD</td>\n",
              "      <td>04/05/2019</td>\n",
              "    </tr>\n",
              "    <tr>\n",
              "      <th>3</th>\n",
              "      <td>4</td>\n",
              "      <td>Universidad Nacional de Trujillo</td>\n",
              "      <td>La Libertad</td>\n",
              "      <td>Trujillo</td>\n",
              "      <td>Decreto Directoral</td>\n",
              "      <td>10/05/1824</td>\n",
              "      <td>Res. N° 127-2018-SUNEDU/CD</td>\n",
              "      <td>20/09/2018</td>\n",
              "    </tr>\n",
              "    <tr>\n",
              "      <th>4</th>\n",
              "      <td>5</td>\n",
              "      <td>Universidad Nacional de San Agustín de Arequipa</td>\n",
              "      <td>Arequipa</td>\n",
              "      <td>Arequipa</td>\n",
              "      <td>Acta de Instalación</td>\n",
              "      <td>11/11/1828</td>\n",
              "      <td>Res. N° 098-2018-SUNEDU/CD</td>\n",
              "      <td>27/08/2018</td>\n",
              "    </tr>\n",
              "  </tbody>\n",
              "</table>\n",
              "</div>\n",
              "    <div class=\"colab-df-buttons\">\n",
              "\n",
              "  <div class=\"colab-df-container\">\n",
              "    <button class=\"colab-df-convert\" onclick=\"convertToInteractive('df-1cc451fd-a22b-44c9-824a-c2824ab320b5')\"\n",
              "            title=\"Convert this dataframe to an interactive table.\"\n",
              "            style=\"display:none;\">\n",
              "\n",
              "  <svg xmlns=\"http://www.w3.org/2000/svg\" height=\"24px\" viewBox=\"0 -960 960 960\">\n",
              "    <path d=\"M120-120v-720h720v720H120Zm60-500h600v-160H180v160Zm220 220h160v-160H400v160Zm0 220h160v-160H400v160ZM180-400h160v-160H180v160Zm440 0h160v-160H620v160ZM180-180h160v-160H180v160Zm440 0h160v-160H620v160Z\"/>\n",
              "  </svg>\n",
              "    </button>\n",
              "\n",
              "  <style>\n",
              "    .colab-df-container {\n",
              "      display:flex;\n",
              "      gap: 12px;\n",
              "    }\n",
              "\n",
              "    .colab-df-convert {\n",
              "      background-color: #E8F0FE;\n",
              "      border: none;\n",
              "      border-radius: 50%;\n",
              "      cursor: pointer;\n",
              "      display: none;\n",
              "      fill: #1967D2;\n",
              "      height: 32px;\n",
              "      padding: 0 0 0 0;\n",
              "      width: 32px;\n",
              "    }\n",
              "\n",
              "    .colab-df-convert:hover {\n",
              "      background-color: #E2EBFA;\n",
              "      box-shadow: 0px 1px 2px rgba(60, 64, 67, 0.3), 0px 1px 3px 1px rgba(60, 64, 67, 0.15);\n",
              "      fill: #174EA6;\n",
              "    }\n",
              "\n",
              "    .colab-df-buttons div {\n",
              "      margin-bottom: 4px;\n",
              "    }\n",
              "\n",
              "    [theme=dark] .colab-df-convert {\n",
              "      background-color: #3B4455;\n",
              "      fill: #D2E3FC;\n",
              "    }\n",
              "\n",
              "    [theme=dark] .colab-df-convert:hover {\n",
              "      background-color: #434B5C;\n",
              "      box-shadow: 0px 1px 3px 1px rgba(0, 0, 0, 0.15);\n",
              "      filter: drop-shadow(0px 1px 2px rgba(0, 0, 0, 0.3));\n",
              "      fill: #FFFFFF;\n",
              "    }\n",
              "  </style>\n",
              "\n",
              "    <script>\n",
              "      const buttonEl =\n",
              "        document.querySelector('#df-1cc451fd-a22b-44c9-824a-c2824ab320b5 button.colab-df-convert');\n",
              "      buttonEl.style.display =\n",
              "        google.colab.kernel.accessAllowed ? 'block' : 'none';\n",
              "\n",
              "      async function convertToInteractive(key) {\n",
              "        const element = document.querySelector('#df-1cc451fd-a22b-44c9-824a-c2824ab320b5');\n",
              "        const dataTable =\n",
              "          await google.colab.kernel.invokeFunction('convertToInteractive',\n",
              "                                                    [key], {});\n",
              "        if (!dataTable) return;\n",
              "\n",
              "        const docLinkHtml = 'Like what you see? Visit the ' +\n",
              "          '<a target=\"_blank\" href=https://colab.research.google.com/notebooks/data_table.ipynb>data table notebook</a>'\n",
              "          + ' to learn more about interactive tables.';\n",
              "        element.innerHTML = '';\n",
              "        dataTable['output_type'] = 'display_data';\n",
              "        await google.colab.output.renderOutput(dataTable, element);\n",
              "        const docLink = document.createElement('div');\n",
              "        docLink.innerHTML = docLinkHtml;\n",
              "        element.appendChild(docLink);\n",
              "      }\n",
              "    </script>\n",
              "  </div>\n",
              "\n",
              "\n",
              "<div id=\"df-6fb0dddc-d215-4948-91ab-ec1baf2e11bb\">\n",
              "  <button class=\"colab-df-quickchart\" onclick=\"quickchart('df-6fb0dddc-d215-4948-91ab-ec1baf2e11bb')\"\n",
              "            title=\"Suggest charts\"\n",
              "            style=\"display:none;\">\n",
              "\n",
              "<svg xmlns=\"http://www.w3.org/2000/svg\" height=\"24px\"viewBox=\"0 0 24 24\"\n",
              "     width=\"24px\">\n",
              "    <g>\n",
              "        <path d=\"M19 3H5c-1.1 0-2 .9-2 2v14c0 1.1.9 2 2 2h14c1.1 0 2-.9 2-2V5c0-1.1-.9-2-2-2zM9 17H7v-7h2v7zm4 0h-2V7h2v10zm4 0h-2v-4h2v4z\"/>\n",
              "    </g>\n",
              "</svg>\n",
              "  </button>\n",
              "\n",
              "<style>\n",
              "  .colab-df-quickchart {\n",
              "      --bg-color: #E8F0FE;\n",
              "      --fill-color: #1967D2;\n",
              "      --hover-bg-color: #E2EBFA;\n",
              "      --hover-fill-color: #174EA6;\n",
              "      --disabled-fill-color: #AAA;\n",
              "      --disabled-bg-color: #DDD;\n",
              "  }\n",
              "\n",
              "  [theme=dark] .colab-df-quickchart {\n",
              "      --bg-color: #3B4455;\n",
              "      --fill-color: #D2E3FC;\n",
              "      --hover-bg-color: #434B5C;\n",
              "      --hover-fill-color: #FFFFFF;\n",
              "      --disabled-bg-color: #3B4455;\n",
              "      --disabled-fill-color: #666;\n",
              "  }\n",
              "\n",
              "  .colab-df-quickchart {\n",
              "    background-color: var(--bg-color);\n",
              "    border: none;\n",
              "    border-radius: 50%;\n",
              "    cursor: pointer;\n",
              "    display: none;\n",
              "    fill: var(--fill-color);\n",
              "    height: 32px;\n",
              "    padding: 0;\n",
              "    width: 32px;\n",
              "  }\n",
              "\n",
              "  .colab-df-quickchart:hover {\n",
              "    background-color: var(--hover-bg-color);\n",
              "    box-shadow: 0 1px 2px rgba(60, 64, 67, 0.3), 0 1px 3px 1px rgba(60, 64, 67, 0.15);\n",
              "    fill: var(--button-hover-fill-color);\n",
              "  }\n",
              "\n",
              "  .colab-df-quickchart-complete:disabled,\n",
              "  .colab-df-quickchart-complete:disabled:hover {\n",
              "    background-color: var(--disabled-bg-color);\n",
              "    fill: var(--disabled-fill-color);\n",
              "    box-shadow: none;\n",
              "  }\n",
              "\n",
              "  .colab-df-spinner {\n",
              "    border: 2px solid var(--fill-color);\n",
              "    border-color: transparent;\n",
              "    border-bottom-color: var(--fill-color);\n",
              "    animation:\n",
              "      spin 1s steps(1) infinite;\n",
              "  }\n",
              "\n",
              "  @keyframes spin {\n",
              "    0% {\n",
              "      border-color: transparent;\n",
              "      border-bottom-color: var(--fill-color);\n",
              "      border-left-color: var(--fill-color);\n",
              "    }\n",
              "    20% {\n",
              "      border-color: transparent;\n",
              "      border-left-color: var(--fill-color);\n",
              "      border-top-color: var(--fill-color);\n",
              "    }\n",
              "    30% {\n",
              "      border-color: transparent;\n",
              "      border-left-color: var(--fill-color);\n",
              "      border-top-color: var(--fill-color);\n",
              "      border-right-color: var(--fill-color);\n",
              "    }\n",
              "    40% {\n",
              "      border-color: transparent;\n",
              "      border-right-color: var(--fill-color);\n",
              "      border-top-color: var(--fill-color);\n",
              "    }\n",
              "    60% {\n",
              "      border-color: transparent;\n",
              "      border-right-color: var(--fill-color);\n",
              "    }\n",
              "    80% {\n",
              "      border-color: transparent;\n",
              "      border-right-color: var(--fill-color);\n",
              "      border-bottom-color: var(--fill-color);\n",
              "    }\n",
              "    90% {\n",
              "      border-color: transparent;\n",
              "      border-bottom-color: var(--fill-color);\n",
              "    }\n",
              "  }\n",
              "</style>\n",
              "\n",
              "  <script>\n",
              "    async function quickchart(key) {\n",
              "      const quickchartButtonEl =\n",
              "        document.querySelector('#' + key + ' button');\n",
              "      quickchartButtonEl.disabled = true;  // To prevent multiple clicks.\n",
              "      quickchartButtonEl.classList.add('colab-df-spinner');\n",
              "      try {\n",
              "        const charts = await google.colab.kernel.invokeFunction(\n",
              "            'suggestCharts', [key], {});\n",
              "      } catch (error) {\n",
              "        console.error('Error during call to suggestCharts:', error);\n",
              "      }\n",
              "      quickchartButtonEl.classList.remove('colab-df-spinner');\n",
              "      quickchartButtonEl.classList.add('colab-df-quickchart-complete');\n",
              "    }\n",
              "    (() => {\n",
              "      let quickchartButtonEl =\n",
              "        document.querySelector('#df-6fb0dddc-d215-4948-91ab-ec1baf2e11bb button');\n",
              "      quickchartButtonEl.style.display =\n",
              "        google.colab.kernel.accessAllowed ? 'block' : 'none';\n",
              "    })();\n",
              "  </script>\n",
              "</div>\n",
              "\n",
              "    </div>\n",
              "  </div>\n"
            ],
            "application/vnd.google.colaboratory.intrinsic+json": {
              "type": "dataframe",
              "summary": "{\n  \"name\": \"df [0]\",\n  \"rows\": 5,\n  \"fields\": [\n    {\n      \"column\": \"N\\u00b0\",\n      \"properties\": {\n        \"dtype\": \"number\",\n        \"std\": 1,\n        \"min\": 1,\n        \"max\": 5,\n        \"num_unique_values\": 5,\n        \"samples\": [\n          2,\n          5,\n          3\n        ],\n        \"semantic_type\": \"\",\n        \"description\": \"\"\n      }\n    },\n    {\n      \"column\": \"UNIVERSIDAD\",\n      \"properties\": {\n        \"dtype\": \"string\",\n        \"num_unique_values\": 5,\n        \"samples\": [\n          \"Universidad Nacional de San Crist\\u00f3bal de Huamanga\",\n          \"Universidad Nacional de San Agust\\u00edn de Arequipa\",\n          \"Universidad Nacional de San Antonio Abad del Cusco\"\n        ],\n        \"semantic_type\": \"\",\n        \"description\": \"\"\n      }\n    },\n    {\n      \"column\": \"DEPARTAMENTO\",\n      \"properties\": {\n        \"dtype\": \"string\",\n        \"num_unique_values\": 5,\n        \"samples\": [\n          \"Ayacucho\",\n          \"Arequipa\",\n          \"Cusco\"\n        ],\n        \"semantic_type\": \"\",\n        \"description\": \"\"\n      }\n    },\n    {\n      \"column\": \"PROVINCIA\",\n      \"properties\": {\n        \"dtype\": \"string\",\n        \"num_unique_values\": 5,\n        \"samples\": [\n          \"Huamanga\",\n          \"Arequipa\",\n          \"Cusco\"\n        ],\n        \"semantic_type\": \"\",\n        \"description\": \"\"\n      }\n    },\n    {\n      \"column\": \"DISPOSITIVO LEGAL DE CREACI\\u00d3N\",\n      \"properties\": {\n        \"dtype\": \"string\",\n        \"num_unique_values\": 4,\n        \"samples\": [\n          \"Ley N\\u00b0 12828\",\n          \"Acta de Instalaci\\u00f3n\",\n          \"Real C\\u00e9dula de Fundaci\\u00f3n\"\n        ],\n        \"semantic_type\": \"\",\n        \"description\": \"\"\n      }\n    },\n    {\n      \"column\": \"FECHA DE CREACI\\u00d3N\",\n      \"properties\": {\n        \"dtype\": \"string\",\n        \"num_unique_values\": 5,\n        \"samples\": [\n          \"03/07/1677\",\n          \"11/11/1828\",\n          \"01/06/1692\"\n        ],\n        \"semantic_type\": \"\",\n        \"description\": \"\"\n      }\n    },\n    {\n      \"column\": \"DISPOSITIVO LEGAL DE LICENCIAMIENTO\",\n      \"properties\": {\n        \"dtype\": \"string\",\n        \"num_unique_values\": 5,\n        \"samples\": [\n          \"Res. N\\u00b0 050-2018-SUNEDU/CD\",\n          \"Res. N\\u00b0 098-2018-SUNEDU/CD\",\n          \"Res. N\\u00b0 059-2019-SUNEDU/CD\"\n        ],\n        \"semantic_type\": \"\",\n        \"description\": \"\"\n      }\n    },\n    {\n      \"column\": \"FECHA DE PUB. DIARIO EL PERUANO\",\n      \"properties\": {\n        \"dtype\": \"string\",\n        \"num_unique_values\": 5,\n        \"samples\": [\n          \"01/06/2018\",\n          \"27/08/2018\",\n          \"04/05/2019\"\n        ],\n        \"semantic_type\": \"\",\n        \"description\": \"\"\n      }\n    }\n  ]\n}"
            }
          },
          "metadata": {},
          "execution_count": 37
        }
      ]
    },
    {
      "cell_type": "code",
      "source": [
        "# Se puede colocar números para que entregue el número de entradas\n",
        "df [0].head(7)"
      ],
      "metadata": {
        "id": "wgIic1pFG_BK",
        "outputId": "fe5fcd9b-79bd-47f1-909c-fec110d9be4b",
        "colab": {
          "base_uri": "https://localhost:8080/",
          "height": 373
        }
      },
      "execution_count": 40,
      "outputs": [
        {
          "output_type": "execute_result",
          "data": {
            "text/plain": [
              "   N°                                        UNIVERSIDAD DEPARTAMENTO  \\\n",
              "0   1           Universidad Nacional Mayor de San Marcos         Lima   \n",
              "1   2  Universidad Nacional de San Cristóbal de Huamanga     Ayacucho   \n",
              "2   3  Universidad Nacional de San Antonio Abad del C...        Cusco   \n",
              "3   4                   Universidad Nacional de Trujillo  La Libertad   \n",
              "4   5    Universidad Nacional de San Agustín de Arequipa     Arequipa   \n",
              "5   6                 Universidad Nacional de Ingeniería         Lima   \n",
              "6   7             Universidad Nacional Agraria La Molina         Lima   \n",
              "\n",
              "  PROVINCIA DISPOSITIVO LEGAL DE CREACIÓN FECHA DE CREACIÓN  \\\n",
              "0      Lima      Real Cédula de Fundación        12/05/1551   \n",
              "1  Huamanga                  Ley N° 12828        03/07/1677   \n",
              "2     Cusco      Real Cédula de Fundación        01/06/1692   \n",
              "3  Trujillo            Decreto Directoral        10/05/1824   \n",
              "4  Arequipa           Acta de Instalación        11/11/1828   \n",
              "5      Lima                  Ley N° 12379        19/07/1955   \n",
              "6      Lima                  Ley N° 13417        08/04/1960   \n",
              "\n",
              "  DISPOSITIVO LEGAL DE LICENCIAMIENTO FECHA DE PUB. DIARIO EL PERUANO  \n",
              "0          Res. N° 036-2018-SUNEDU/CD                      04/04/2018  \n",
              "1          Res. N° 050-2018-SUNEDU/CD                      01/06/2018  \n",
              "2          Res. N° 059-2019-SUNEDU/CD                      04/05/2019  \n",
              "3          Res. N° 127-2018-SUNEDU/CD                      20/09/2018  \n",
              "4          Res. N° 098-2018-SUNEDU/CD                      27/08/2018  \n",
              "5          Res. N° 073-2017-SUNEDU/CD                      28/11/2017  \n",
              "6          Res. N° 011-2017-SUNEDU/CD                      20/03/2017  "
            ],
            "text/html": [
              "\n",
              "  <div id=\"df-928f5695-b44d-45b9-be5e-207c3f3c1081\" class=\"colab-df-container\">\n",
              "    <div>\n",
              "<style scoped>\n",
              "    .dataframe tbody tr th:only-of-type {\n",
              "        vertical-align: middle;\n",
              "    }\n",
              "\n",
              "    .dataframe tbody tr th {\n",
              "        vertical-align: top;\n",
              "    }\n",
              "\n",
              "    .dataframe thead th {\n",
              "        text-align: right;\n",
              "    }\n",
              "</style>\n",
              "<table border=\"1\" class=\"dataframe\">\n",
              "  <thead>\n",
              "    <tr style=\"text-align: right;\">\n",
              "      <th></th>\n",
              "      <th>N°</th>\n",
              "      <th>UNIVERSIDAD</th>\n",
              "      <th>DEPARTAMENTO</th>\n",
              "      <th>PROVINCIA</th>\n",
              "      <th>DISPOSITIVO LEGAL DE CREACIÓN</th>\n",
              "      <th>FECHA DE CREACIÓN</th>\n",
              "      <th>DISPOSITIVO LEGAL DE LICENCIAMIENTO</th>\n",
              "      <th>FECHA DE PUB. DIARIO EL PERUANO</th>\n",
              "    </tr>\n",
              "  </thead>\n",
              "  <tbody>\n",
              "    <tr>\n",
              "      <th>0</th>\n",
              "      <td>1</td>\n",
              "      <td>Universidad Nacional Mayor de San Marcos</td>\n",
              "      <td>Lima</td>\n",
              "      <td>Lima</td>\n",
              "      <td>Real Cédula de Fundación</td>\n",
              "      <td>12/05/1551</td>\n",
              "      <td>Res. N° 036-2018-SUNEDU/CD</td>\n",
              "      <td>04/04/2018</td>\n",
              "    </tr>\n",
              "    <tr>\n",
              "      <th>1</th>\n",
              "      <td>2</td>\n",
              "      <td>Universidad Nacional de San Cristóbal de Huamanga</td>\n",
              "      <td>Ayacucho</td>\n",
              "      <td>Huamanga</td>\n",
              "      <td>Ley N° 12828</td>\n",
              "      <td>03/07/1677</td>\n",
              "      <td>Res. N° 050-2018-SUNEDU/CD</td>\n",
              "      <td>01/06/2018</td>\n",
              "    </tr>\n",
              "    <tr>\n",
              "      <th>2</th>\n",
              "      <td>3</td>\n",
              "      <td>Universidad Nacional de San Antonio Abad del C...</td>\n",
              "      <td>Cusco</td>\n",
              "      <td>Cusco</td>\n",
              "      <td>Real Cédula de Fundación</td>\n",
              "      <td>01/06/1692</td>\n",
              "      <td>Res. N° 059-2019-SUNEDU/CD</td>\n",
              "      <td>04/05/2019</td>\n",
              "    </tr>\n",
              "    <tr>\n",
              "      <th>3</th>\n",
              "      <td>4</td>\n",
              "      <td>Universidad Nacional de Trujillo</td>\n",
              "      <td>La Libertad</td>\n",
              "      <td>Trujillo</td>\n",
              "      <td>Decreto Directoral</td>\n",
              "      <td>10/05/1824</td>\n",
              "      <td>Res. N° 127-2018-SUNEDU/CD</td>\n",
              "      <td>20/09/2018</td>\n",
              "    </tr>\n",
              "    <tr>\n",
              "      <th>4</th>\n",
              "      <td>5</td>\n",
              "      <td>Universidad Nacional de San Agustín de Arequipa</td>\n",
              "      <td>Arequipa</td>\n",
              "      <td>Arequipa</td>\n",
              "      <td>Acta de Instalación</td>\n",
              "      <td>11/11/1828</td>\n",
              "      <td>Res. N° 098-2018-SUNEDU/CD</td>\n",
              "      <td>27/08/2018</td>\n",
              "    </tr>\n",
              "    <tr>\n",
              "      <th>5</th>\n",
              "      <td>6</td>\n",
              "      <td>Universidad Nacional de Ingeniería</td>\n",
              "      <td>Lima</td>\n",
              "      <td>Lima</td>\n",
              "      <td>Ley N° 12379</td>\n",
              "      <td>19/07/1955</td>\n",
              "      <td>Res. N° 073-2017-SUNEDU/CD</td>\n",
              "      <td>28/11/2017</td>\n",
              "    </tr>\n",
              "    <tr>\n",
              "      <th>6</th>\n",
              "      <td>7</td>\n",
              "      <td>Universidad Nacional Agraria La Molina</td>\n",
              "      <td>Lima</td>\n",
              "      <td>Lima</td>\n",
              "      <td>Ley N° 13417</td>\n",
              "      <td>08/04/1960</td>\n",
              "      <td>Res. N° 011-2017-SUNEDU/CD</td>\n",
              "      <td>20/03/2017</td>\n",
              "    </tr>\n",
              "  </tbody>\n",
              "</table>\n",
              "</div>\n",
              "    <div class=\"colab-df-buttons\">\n",
              "\n",
              "  <div class=\"colab-df-container\">\n",
              "    <button class=\"colab-df-convert\" onclick=\"convertToInteractive('df-928f5695-b44d-45b9-be5e-207c3f3c1081')\"\n",
              "            title=\"Convert this dataframe to an interactive table.\"\n",
              "            style=\"display:none;\">\n",
              "\n",
              "  <svg xmlns=\"http://www.w3.org/2000/svg\" height=\"24px\" viewBox=\"0 -960 960 960\">\n",
              "    <path d=\"M120-120v-720h720v720H120Zm60-500h600v-160H180v160Zm220 220h160v-160H400v160Zm0 220h160v-160H400v160ZM180-400h160v-160H180v160Zm440 0h160v-160H620v160ZM180-180h160v-160H180v160Zm440 0h160v-160H620v160Z\"/>\n",
              "  </svg>\n",
              "    </button>\n",
              "\n",
              "  <style>\n",
              "    .colab-df-container {\n",
              "      display:flex;\n",
              "      gap: 12px;\n",
              "    }\n",
              "\n",
              "    .colab-df-convert {\n",
              "      background-color: #E8F0FE;\n",
              "      border: none;\n",
              "      border-radius: 50%;\n",
              "      cursor: pointer;\n",
              "      display: none;\n",
              "      fill: #1967D2;\n",
              "      height: 32px;\n",
              "      padding: 0 0 0 0;\n",
              "      width: 32px;\n",
              "    }\n",
              "\n",
              "    .colab-df-convert:hover {\n",
              "      background-color: #E2EBFA;\n",
              "      box-shadow: 0px 1px 2px rgba(60, 64, 67, 0.3), 0px 1px 3px 1px rgba(60, 64, 67, 0.15);\n",
              "      fill: #174EA6;\n",
              "    }\n",
              "\n",
              "    .colab-df-buttons div {\n",
              "      margin-bottom: 4px;\n",
              "    }\n",
              "\n",
              "    [theme=dark] .colab-df-convert {\n",
              "      background-color: #3B4455;\n",
              "      fill: #D2E3FC;\n",
              "    }\n",
              "\n",
              "    [theme=dark] .colab-df-convert:hover {\n",
              "      background-color: #434B5C;\n",
              "      box-shadow: 0px 1px 3px 1px rgba(0, 0, 0, 0.15);\n",
              "      filter: drop-shadow(0px 1px 2px rgba(0, 0, 0, 0.3));\n",
              "      fill: #FFFFFF;\n",
              "    }\n",
              "  </style>\n",
              "\n",
              "    <script>\n",
              "      const buttonEl =\n",
              "        document.querySelector('#df-928f5695-b44d-45b9-be5e-207c3f3c1081 button.colab-df-convert');\n",
              "      buttonEl.style.display =\n",
              "        google.colab.kernel.accessAllowed ? 'block' : 'none';\n",
              "\n",
              "      async function convertToInteractive(key) {\n",
              "        const element = document.querySelector('#df-928f5695-b44d-45b9-be5e-207c3f3c1081');\n",
              "        const dataTable =\n",
              "          await google.colab.kernel.invokeFunction('convertToInteractive',\n",
              "                                                    [key], {});\n",
              "        if (!dataTable) return;\n",
              "\n",
              "        const docLinkHtml = 'Like what you see? Visit the ' +\n",
              "          '<a target=\"_blank\" href=https://colab.research.google.com/notebooks/data_table.ipynb>data table notebook</a>'\n",
              "          + ' to learn more about interactive tables.';\n",
              "        element.innerHTML = '';\n",
              "        dataTable['output_type'] = 'display_data';\n",
              "        await google.colab.output.renderOutput(dataTable, element);\n",
              "        const docLink = document.createElement('div');\n",
              "        docLink.innerHTML = docLinkHtml;\n",
              "        element.appendChild(docLink);\n",
              "      }\n",
              "    </script>\n",
              "  </div>\n",
              "\n",
              "\n",
              "<div id=\"df-15919cd7-e43f-40d7-8792-586eb9e0ccc2\">\n",
              "  <button class=\"colab-df-quickchart\" onclick=\"quickchart('df-15919cd7-e43f-40d7-8792-586eb9e0ccc2')\"\n",
              "            title=\"Suggest charts\"\n",
              "            style=\"display:none;\">\n",
              "\n",
              "<svg xmlns=\"http://www.w3.org/2000/svg\" height=\"24px\"viewBox=\"0 0 24 24\"\n",
              "     width=\"24px\">\n",
              "    <g>\n",
              "        <path d=\"M19 3H5c-1.1 0-2 .9-2 2v14c0 1.1.9 2 2 2h14c1.1 0 2-.9 2-2V5c0-1.1-.9-2-2-2zM9 17H7v-7h2v7zm4 0h-2V7h2v10zm4 0h-2v-4h2v4z\"/>\n",
              "    </g>\n",
              "</svg>\n",
              "  </button>\n",
              "\n",
              "<style>\n",
              "  .colab-df-quickchart {\n",
              "      --bg-color: #E8F0FE;\n",
              "      --fill-color: #1967D2;\n",
              "      --hover-bg-color: #E2EBFA;\n",
              "      --hover-fill-color: #174EA6;\n",
              "      --disabled-fill-color: #AAA;\n",
              "      --disabled-bg-color: #DDD;\n",
              "  }\n",
              "\n",
              "  [theme=dark] .colab-df-quickchart {\n",
              "      --bg-color: #3B4455;\n",
              "      --fill-color: #D2E3FC;\n",
              "      --hover-bg-color: #434B5C;\n",
              "      --hover-fill-color: #FFFFFF;\n",
              "      --disabled-bg-color: #3B4455;\n",
              "      --disabled-fill-color: #666;\n",
              "  }\n",
              "\n",
              "  .colab-df-quickchart {\n",
              "    background-color: var(--bg-color);\n",
              "    border: none;\n",
              "    border-radius: 50%;\n",
              "    cursor: pointer;\n",
              "    display: none;\n",
              "    fill: var(--fill-color);\n",
              "    height: 32px;\n",
              "    padding: 0;\n",
              "    width: 32px;\n",
              "  }\n",
              "\n",
              "  .colab-df-quickchart:hover {\n",
              "    background-color: var(--hover-bg-color);\n",
              "    box-shadow: 0 1px 2px rgba(60, 64, 67, 0.3), 0 1px 3px 1px rgba(60, 64, 67, 0.15);\n",
              "    fill: var(--button-hover-fill-color);\n",
              "  }\n",
              "\n",
              "  .colab-df-quickchart-complete:disabled,\n",
              "  .colab-df-quickchart-complete:disabled:hover {\n",
              "    background-color: var(--disabled-bg-color);\n",
              "    fill: var(--disabled-fill-color);\n",
              "    box-shadow: none;\n",
              "  }\n",
              "\n",
              "  .colab-df-spinner {\n",
              "    border: 2px solid var(--fill-color);\n",
              "    border-color: transparent;\n",
              "    border-bottom-color: var(--fill-color);\n",
              "    animation:\n",
              "      spin 1s steps(1) infinite;\n",
              "  }\n",
              "\n",
              "  @keyframes spin {\n",
              "    0% {\n",
              "      border-color: transparent;\n",
              "      border-bottom-color: var(--fill-color);\n",
              "      border-left-color: var(--fill-color);\n",
              "    }\n",
              "    20% {\n",
              "      border-color: transparent;\n",
              "      border-left-color: var(--fill-color);\n",
              "      border-top-color: var(--fill-color);\n",
              "    }\n",
              "    30% {\n",
              "      border-color: transparent;\n",
              "      border-left-color: var(--fill-color);\n",
              "      border-top-color: var(--fill-color);\n",
              "      border-right-color: var(--fill-color);\n",
              "    }\n",
              "    40% {\n",
              "      border-color: transparent;\n",
              "      border-right-color: var(--fill-color);\n",
              "      border-top-color: var(--fill-color);\n",
              "    }\n",
              "    60% {\n",
              "      border-color: transparent;\n",
              "      border-right-color: var(--fill-color);\n",
              "    }\n",
              "    80% {\n",
              "      border-color: transparent;\n",
              "      border-right-color: var(--fill-color);\n",
              "      border-bottom-color: var(--fill-color);\n",
              "    }\n",
              "    90% {\n",
              "      border-color: transparent;\n",
              "      border-bottom-color: var(--fill-color);\n",
              "    }\n",
              "  }\n",
              "</style>\n",
              "\n",
              "  <script>\n",
              "    async function quickchart(key) {\n",
              "      const quickchartButtonEl =\n",
              "        document.querySelector('#' + key + ' button');\n",
              "      quickchartButtonEl.disabled = true;  // To prevent multiple clicks.\n",
              "      quickchartButtonEl.classList.add('colab-df-spinner');\n",
              "      try {\n",
              "        const charts = await google.colab.kernel.invokeFunction(\n",
              "            'suggestCharts', [key], {});\n",
              "      } catch (error) {\n",
              "        console.error('Error during call to suggestCharts:', error);\n",
              "      }\n",
              "      quickchartButtonEl.classList.remove('colab-df-spinner');\n",
              "      quickchartButtonEl.classList.add('colab-df-quickchart-complete');\n",
              "    }\n",
              "    (() => {\n",
              "      let quickchartButtonEl =\n",
              "        document.querySelector('#df-15919cd7-e43f-40d7-8792-586eb9e0ccc2 button');\n",
              "      quickchartButtonEl.style.display =\n",
              "        google.colab.kernel.accessAllowed ? 'block' : 'none';\n",
              "    })();\n",
              "  </script>\n",
              "</div>\n",
              "\n",
              "    </div>\n",
              "  </div>\n"
            ],
            "application/vnd.google.colaboratory.intrinsic+json": {
              "type": "dataframe",
              "summary": "{\n  \"name\": \"df [0]\",\n  \"rows\": 7,\n  \"fields\": [\n    {\n      \"column\": \"N\\u00b0\",\n      \"properties\": {\n        \"dtype\": \"number\",\n        \"std\": 2,\n        \"min\": 1,\n        \"max\": 7,\n        \"num_unique_values\": 7,\n        \"samples\": [\n          1,\n          2,\n          6\n        ],\n        \"semantic_type\": \"\",\n        \"description\": \"\"\n      }\n    },\n    {\n      \"column\": \"UNIVERSIDAD\",\n      \"properties\": {\n        \"dtype\": \"string\",\n        \"num_unique_values\": 7,\n        \"samples\": [\n          \"Universidad Nacional Mayor de San Marcos\",\n          \"Universidad Nacional de San Crist\\u00f3bal de Huamanga\",\n          \"Universidad Nacional de Ingenier\\u00eda\"\n        ],\n        \"semantic_type\": \"\",\n        \"description\": \"\"\n      }\n    },\n    {\n      \"column\": \"DEPARTAMENTO\",\n      \"properties\": {\n        \"dtype\": \"string\",\n        \"num_unique_values\": 5,\n        \"samples\": [\n          \"Ayacucho\",\n          \"Arequipa\",\n          \"Cusco\"\n        ],\n        \"semantic_type\": \"\",\n        \"description\": \"\"\n      }\n    },\n    {\n      \"column\": \"PROVINCIA\",\n      \"properties\": {\n        \"dtype\": \"string\",\n        \"num_unique_values\": 5,\n        \"samples\": [\n          \"Huamanga\",\n          \"Arequipa\",\n          \"Cusco\"\n        ],\n        \"semantic_type\": \"\",\n        \"description\": \"\"\n      }\n    },\n    {\n      \"column\": \"DISPOSITIVO LEGAL DE CREACI\\u00d3N\",\n      \"properties\": {\n        \"dtype\": \"string\",\n        \"num_unique_values\": 6,\n        \"samples\": [\n          \"Real C\\u00e9dula de Fundaci\\u00f3n\",\n          \"Ley N\\u00b0 12828\",\n          \"Ley N\\u00b0 13417\"\n        ],\n        \"semantic_type\": \"\",\n        \"description\": \"\"\n      }\n    },\n    {\n      \"column\": \"FECHA DE CREACI\\u00d3N\",\n      \"properties\": {\n        \"dtype\": \"string\",\n        \"num_unique_values\": 7,\n        \"samples\": [\n          \"12/05/1551\",\n          \"03/07/1677\",\n          \"19/07/1955\"\n        ],\n        \"semantic_type\": \"\",\n        \"description\": \"\"\n      }\n    },\n    {\n      \"column\": \"DISPOSITIVO LEGAL DE LICENCIAMIENTO\",\n      \"properties\": {\n        \"dtype\": \"string\",\n        \"num_unique_values\": 7,\n        \"samples\": [\n          \"Res. N\\u00b0 036-2018-SUNEDU/CD\",\n          \"Res. N\\u00b0 050-2018-SUNEDU/CD\",\n          \"Res. N\\u00b0 073-2017-SUNEDU/CD\"\n        ],\n        \"semantic_type\": \"\",\n        \"description\": \"\"\n      }\n    },\n    {\n      \"column\": \"FECHA DE PUB. DIARIO EL PERUANO\",\n      \"properties\": {\n        \"dtype\": \"string\",\n        \"num_unique_values\": 7,\n        \"samples\": [\n          \"04/04/2018\",\n          \"01/06/2018\",\n          \"28/11/2017\"\n        ],\n        \"semantic_type\": \"\",\n        \"description\": \"\"\n      }\n    }\n  ]\n}"
            }
          },
          "metadata": {},
          "execution_count": 40
        }
      ]
    },
    {
      "cell_type": "code",
      "source": [
        "# Conociendo las dimensiones de la tabla \"Universidades Públicas\"\n",
        "df[0].shape"
      ],
      "metadata": {
        "id": "HFkFi23JHNm_",
        "outputId": "86b35c1d-03e7-4bfb-bdbc-6ce4e2a0ea51",
        "colab": {
          "base_uri": "https://localhost:8080/"
        }
      },
      "execution_count": 41,
      "outputs": [
        {
          "output_type": "execute_result",
          "data": {
            "text/plain": [
              "(50, 8)"
            ]
          },
          "metadata": {},
          "execution_count": 41
        }
      ]
    },
    {
      "cell_type": "code",
      "source": [
        "# Se puede consultar por columnas y para no estar escribiendo continamente 'df[0]' lo llevamos a una variable: 'Públicas'\n",
        "Públicas = df[0]"
      ],
      "metadata": {
        "id": "9OXAe_d1H4O7"
      },
      "execution_count": 46,
      "outputs": []
    },
    {
      "cell_type": "code",
      "source": [
        "# Llmando nuevamente, pero en este caso, solamente 'Públicas'\n",
        "Públicas"
      ],
      "metadata": {
        "collapsed": true,
        "id": "_h43CAyRIwq9",
        "outputId": "0929e798-c8d9-490c-bb76-f10e7e3f8a33",
        "colab": {
          "base_uri": "https://localhost:8080/",
          "height": 1000
        }
      },
      "execution_count": 47,
      "outputs": [
        {
          "output_type": "execute_result",
          "data": {
            "text/plain": [
              "    N°                                        UNIVERSIDAD   DEPARTAMENTO  \\\n",
              "0    1           Universidad Nacional Mayor de San Marcos           Lima   \n",
              "1    2  Universidad Nacional de San Cristóbal de Huamanga       Ayacucho   \n",
              "2    3  Universidad Nacional de San Antonio Abad del C...          Cusco   \n",
              "3    4                   Universidad Nacional de Trujillo    La Libertad   \n",
              "4    5    Universidad Nacional de San Agustín de Arequipa       Arequipa   \n",
              "5    6                 Universidad Nacional de Ingeniería           Lima   \n",
              "6    7             Universidad Nacional Agraria La Molina           Lima   \n",
              "7    8              Universidad Nacional San Luis Gonzaga            Ica   \n",
              "8    9           Universidad Nacional del Centro del Perú          Junín   \n",
              "9   10        Universidad Nacional de la Amazonía Peruana         Loreto   \n",
              "10  11                 Universidad Nacional del Altiplano           Puno   \n",
              "11  12                      Universidad Nacional de Piura          Piura   \n",
              "12  13                  Universidad Nacional de Cajamarca      Cajamarca   \n",
              "13  14           Universidad Nacional Federico Villarreal           Lima   \n",
              "14  15           Universidad Nacional Agraria de la Selva        Huánuco   \n",
              "15  16  Universidad Nacional Hermilio Valdizán de Huánuco        Huánuco   \n",
              "16  17  Universidad Nacional de Educación Enrique Guzm...           Lima   \n",
              "17  18        Universidad Nacional Daniel Alcides Carrión          Pasco   \n",
              "18  19                    Universidad Nacional del Callao         Callao   \n",
              "19  20  Universidad Nacional José Faustino Sánchez Car...           Lima   \n",
              "20  21              Universidad Nacional Pedro Ruiz Gallo     Lambayeque   \n",
              "21  22        Universidad Nacional Jorge Basadre Grohmann          Tacna   \n",
              "22  23    Universidad Nacional Santiago Antúnez de Mayolo         Ancash   \n",
              "23  24                 Universidad Nacional de San Martín     San Martín   \n",
              "24  25                    Universidad Nacional de Ucayali        Ucayali   \n",
              "25  26                     Universidad Nacional de Tumbes         Tumbes   \n",
              "26  27                     Universidad Nacional del Santa         Ancash   \n",
              "27  28               Universidad Nacional de Huancavelica   Huancavelica   \n",
              "28  29    Universidad Nacional Amazónica de Madre de Dios  Madre De Dios   \n",
              "29  30  Universidad Nacional Toribio Rodríguez de Mend...       Amazonas   \n",
              "30  31  Universidad Nacional Micaela Bastidas de Apurímac       Apurímac   \n",
              "31  32  Universidad Nacional Intercultural de la Amazonía        Ucayali   \n",
              "32  33  Universidad Nacional Tecnológica de Lima Sur (*1)           Lima   \n",
              "33  34           Universidad Nacional José María Arguedas       Apurímac   \n",
              "34  35                   Universidad Nacional de Moquegua       Moquegua   \n",
              "35  36                    Universidad Nacional de Juliaca           Puno   \n",
              "36  37                       Universidad Nacional de Jaén      Cajamarca   \n",
              "37  38                   Universidad Nacional de Frontera          Piura   \n",
              "38  39             Universidad Nacional Autónoma de Chota      Cajamarca   \n",
              "39  40                   Universidad Nacional de Barranca           Lima   \n",
              "40  41                     Universidad Nacional de Cañete           Lima   \n",
              "41  42  Universidad Nacional Intercultural Fabiola Sal...       Amazonas   \n",
              "42  43  Universidad Nacional Intercultural de la Selva...          Junín   \n",
              "43  44  Universidad Nacional Intercultural de Quillabamba          Cusco   \n",
              "44  45     Universidad Nacional Autónoma de Alto Amazonas         Loreto   \n",
              "45  46  Universidad Nacional Autónoma Altoandina de Tarma          Junín   \n",
              "46  47            Universidad Nacional Autónoma de Huanta       Ayacucho   \n",
              "47  48       Universidad Nacional Tecnológica de Lima Sur           Lima   \n",
              "48  49  Universidad Nacional Autónoma de Tayacaja Dani...   Huancavelica   \n",
              "49  50                  Universidad Nacional Ciro Alegría    La Libertad   \n",
              "\n",
              "           PROVINCIA DISPOSITIVO LEGAL DE CREACIÓN FECHA DE CREACIÓN  \\\n",
              "0               Lima      Real Cédula de Fundación        12/05/1551   \n",
              "1           Huamanga                  Ley N° 12828        03/07/1677   \n",
              "2              Cusco      Real Cédula de Fundación        01/06/1692   \n",
              "3           Trujillo            Decreto Directoral        10/05/1824   \n",
              "4           Arequipa           Acta de Instalación        11/11/1828   \n",
              "5               Lima                  Ley N° 12379        19/07/1955   \n",
              "6               Lima                  Ley N° 13417        08/04/1960   \n",
              "7                Ica                  Ley N° 12495        20/12/1955   \n",
              "8           Huancayo                  Ley N° 13827        02/01/1962   \n",
              "9             Maynas                  Ley N° 13498        14/01/1961   \n",
              "10              Puno                  Ley N° 13516        10/02/1961   \n",
              "11             Piura                  Ley N° 13531        03/03/1961   \n",
              "12         Cajamarca                  Ley N° 14015        13/02/1962   \n",
              "13              Lima                  Ley N° 14692        30/10/1963   \n",
              "14     Leoncio Prado                  Ley N° 14912        20/02/1964   \n",
              "15           Huánuco                  Ley N° 14915        20/02/1964   \n",
              "16              Lima                  Ley N° 15519        07/04/1965   \n",
              "17             Pasco                  Ley N° 15527        23/04/1965   \n",
              "18            Callao                  Ley N° 16225        02/09/1966   \n",
              "19            Huaura          Decreto Ley N° 17358        31/12/1968   \n",
              "20        Lambayeque          Decreto Ley N° 18179        17/03/1970   \n",
              "21             Tacna          Decreto Ley N° 18942        26/08/1971   \n",
              "22            Huaraz          Decreto Ley N° 21856        24/05/1977   \n",
              "23        San Martín          Decreto Ley N° 22803        18/12/1979   \n",
              "24  Coronel Portillo          Decreto Ley N° 22804        18/12/1979   \n",
              "25            Tumbes                  Ley N° 23881        23/06/1984   \n",
              "26             Santa                  Ley N° 24035        20/12/1984   \n",
              "27      Huancavelica                  Ley N° 25265        20/06/1990   \n",
              "28         Tambopata                  Ley N° 27297        06/07/2000   \n",
              "29       Chachapoyas                  Ley N° 27347        19/09/2000   \n",
              "30           Abancay                  Ley N° 27348        27/09/2000   \n",
              "31  Coronel Portillo                  Ley N° 27250        05/01/2000   \n",
              "32              Lima                  Ley N° 27413        01/02/2001   \n",
              "33       Andahuaylas                  Ley N° 28372        01/11/2004   \n",
              "34    Mariscal Nieto                  Ley N° 28520        24/05/2005   \n",
              "35         San Román                  Ley N° 29074        25/07/2007   \n",
              "36              Jaén                  Ley N° 29304        20/12/2008   \n",
              "37           Sullana                  Ley N° 29568        06/08/2010   \n",
              "38             Chota                  Ley N° 29531        12/05/2010   \n",
              "39          Barranca                  Ley N° 29553        07/07/2010   \n",
              "40            Cañete                  Ley N° 29488        23/12/2009   \n",
              "41             Bagua                  Ley N° 29614        18/11/2010   \n",
              "42       Chanchamayo                  Ley N° 29616        19/11/2010   \n",
              "43     La Convención                  Ley N° 29620        01/12/2010   \n",
              "44     Alto Amazonas                  Ley N° 29649        11/01/2011   \n",
              "45             Tarma                  Ley N° 29652        14/01/2011   \n",
              "46            Huanta                  Ley N° 29658        28/01/2011   \n",
              "47              Lima                  Ley N° 29659        28/01/2011   \n",
              "48          Tayacaja                  Ley N° 29716        23/06/2011   \n",
              "49   Sanchez Carrión                  Ley N° 29756        17/07/2011   \n",
              "\n",
              "   DISPOSITIVO LEGAL DE LICENCIAMIENTO FECHA DE PUB. DIARIO EL PERUANO  \n",
              "0           Res. N° 036-2018-SUNEDU/CD                      04/04/2018  \n",
              "1           Res. N° 050-2018-SUNEDU/CD                      01/06/2018  \n",
              "2           Res. N° 059-2019-SUNEDU/CD                      04/05/2019  \n",
              "3           Res. N° 127-2018-SUNEDU/CD                      20/09/2018  \n",
              "4           Res. N° 098-2018-SUNEDU/CD                      27/08/2018  \n",
              "5           Res. N° 073-2017-SUNEDU/CD                      28/11/2017  \n",
              "6           Res. N° 011-2017-SUNEDU/CD                      20/03/2017  \n",
              "7           Res. N° 002-2022-SUNEDU/CD                      15/01/2022  \n",
              "8           Res. N° 022-2019-SUNEDU/CD                      01/03/2019  \n",
              "9           Res. N° 012-2019-SUNEDU/CD                      01/02/2019  \n",
              "10          Res. N° 101-2017-SUNEDU/CD                      30/12/2017  \n",
              "11          Res. N° 058-2019-SUNEDU/CD                      07/05/2019  \n",
              "12          Res. N° 080-2018-SUNEDU/CD                      17/07/2018  \n",
              "13          Res. N° 035-2020-SUNEDU/CD                      11/03/2020  \n",
              "14          Res. N° 114-2019-SUNEDU/CD                      29/08/2019  \n",
              "15          Res. N° 099-2019-SUNEDU/CD                      26/07/2019  \n",
              "16          Res. N° 165-2019-SUNEDU/CD                      13/12/2019  \n",
              "17          Res. N° 111-2019-SUNEDU/CD                      22/08/2019  \n",
              "18          Res. N° 171-2019-SUNEDU/CD                      24/12/2019  \n",
              "19          Res. N° 012-2020-SUNEDU/CD                      28/01/2020  \n",
              "20          Res. N° 015-2023-SUNEDU/CD                      09/06/2023  \n",
              "21          Res. N° 056-2018-SUNEDU/CD                      13/06/2018  \n",
              "22          Res. N° 173-2018-SUNEDU/CD                      01/01/2018  \n",
              "23          Res. N° 055-2019-SUNEDU/CD                      01/05/2019  \n",
              "24          Res. N° 149-2018-SUNEDU/CD                      15/11/2018  \n",
              "25          Res. N° 155-2019-SUNEDU/CD                      03/12/2019  \n",
              "26          Res. N° 028-2019-SUNEDU/CD                      12/03/2019  \n",
              "27          Res. N° 086-2019-SUNEDU/CD                      03/07/2019  \n",
              "28          Res. N° 132-2019-SUNEDU/CD                      12/10/2019  \n",
              "29          Res. N° 033-2017-SUNEDU/CD                      17/09/2017  \n",
              "30          Res. N° 021-2020-SUNEDU/CD                      05/02/2020  \n",
              "31          Res. N° 131-2018-SUNEDU/CD                      27/09/2018  \n",
              "32          Res. N° 059-2018-SUNEDU/CD                      21/06/2018  \n",
              "33          Res. N° 035-2017-SUNEDU/CD                      02/10/2017  \n",
              "34          Res. N° 103-2017-SUNEDU/CD                      06/01/2018  \n",
              "35          Res. N° 097-2018-SUNEDU/CD                      26/08/2018  \n",
              "36          Res. N° 002-2018-SUNEDU/CD                      14/01/2018  \n",
              "37          Res. N° 086-2019-SUNEDU/CD                      06/04/2019  \n",
              "38          Res. N° 160-2018-SUNEDU/CD                      08/12/2018  \n",
              "39          Res. N° 047-2018-SUNEDU/CD                      24/05/2018  \n",
              "40          Res. N° 116-2018-SUNEDU/CD                      12/09/2018  \n",
              "41          Res. N° 095-2018-SUNEDU/CD                      14,/08/018  \n",
              "42          Res. N° 033-2018-SUNEDU/CD                      23/03/2018  \n",
              "43          Res. N° 085-2019-SUNEDU/CD                      02/07/2019  \n",
              "44          Res. N° 062-2018-SUNEDU/CD                      29/06/2018  \n",
              "45          Res. N° 142-2018-SUNEDU/CD                      19/10/2018  \n",
              "46          Res. N° 014-2017-SUNEDU/CD                      19/04/2017  \n",
              "47          Res. N° 059-2018-SUNEDU/CD                      21/06/2018  \n",
              "48          Res. N° 016-2019-SUNEDU/CD                      15/02/2019  \n",
              "49          Res. N° 029-2023-SUNEDU/CD                      15/02/2019  "
            ],
            "text/html": [
              "\n",
              "  <div id=\"df-1e375f7f-4ff0-4aac-88b7-dbe2a6fc5c30\" class=\"colab-df-container\">\n",
              "    <div>\n",
              "<style scoped>\n",
              "    .dataframe tbody tr th:only-of-type {\n",
              "        vertical-align: middle;\n",
              "    }\n",
              "\n",
              "    .dataframe tbody tr th {\n",
              "        vertical-align: top;\n",
              "    }\n",
              "\n",
              "    .dataframe thead th {\n",
              "        text-align: right;\n",
              "    }\n",
              "</style>\n",
              "<table border=\"1\" class=\"dataframe\">\n",
              "  <thead>\n",
              "    <tr style=\"text-align: right;\">\n",
              "      <th></th>\n",
              "      <th>N°</th>\n",
              "      <th>UNIVERSIDAD</th>\n",
              "      <th>DEPARTAMENTO</th>\n",
              "      <th>PROVINCIA</th>\n",
              "      <th>DISPOSITIVO LEGAL DE CREACIÓN</th>\n",
              "      <th>FECHA DE CREACIÓN</th>\n",
              "      <th>DISPOSITIVO LEGAL DE LICENCIAMIENTO</th>\n",
              "      <th>FECHA DE PUB. DIARIO EL PERUANO</th>\n",
              "    </tr>\n",
              "  </thead>\n",
              "  <tbody>\n",
              "    <tr>\n",
              "      <th>0</th>\n",
              "      <td>1</td>\n",
              "      <td>Universidad Nacional Mayor de San Marcos</td>\n",
              "      <td>Lima</td>\n",
              "      <td>Lima</td>\n",
              "      <td>Real Cédula de Fundación</td>\n",
              "      <td>12/05/1551</td>\n",
              "      <td>Res. N° 036-2018-SUNEDU/CD</td>\n",
              "      <td>04/04/2018</td>\n",
              "    </tr>\n",
              "    <tr>\n",
              "      <th>1</th>\n",
              "      <td>2</td>\n",
              "      <td>Universidad Nacional de San Cristóbal de Huamanga</td>\n",
              "      <td>Ayacucho</td>\n",
              "      <td>Huamanga</td>\n",
              "      <td>Ley N° 12828</td>\n",
              "      <td>03/07/1677</td>\n",
              "      <td>Res. N° 050-2018-SUNEDU/CD</td>\n",
              "      <td>01/06/2018</td>\n",
              "    </tr>\n",
              "    <tr>\n",
              "      <th>2</th>\n",
              "      <td>3</td>\n",
              "      <td>Universidad Nacional de San Antonio Abad del C...</td>\n",
              "      <td>Cusco</td>\n",
              "      <td>Cusco</td>\n",
              "      <td>Real Cédula de Fundación</td>\n",
              "      <td>01/06/1692</td>\n",
              "      <td>Res. N° 059-2019-SUNEDU/CD</td>\n",
              "      <td>04/05/2019</td>\n",
              "    </tr>\n",
              "    <tr>\n",
              "      <th>3</th>\n",
              "      <td>4</td>\n",
              "      <td>Universidad Nacional de Trujillo</td>\n",
              "      <td>La Libertad</td>\n",
              "      <td>Trujillo</td>\n",
              "      <td>Decreto Directoral</td>\n",
              "      <td>10/05/1824</td>\n",
              "      <td>Res. N° 127-2018-SUNEDU/CD</td>\n",
              "      <td>20/09/2018</td>\n",
              "    </tr>\n",
              "    <tr>\n",
              "      <th>4</th>\n",
              "      <td>5</td>\n",
              "      <td>Universidad Nacional de San Agustín de Arequipa</td>\n",
              "      <td>Arequipa</td>\n",
              "      <td>Arequipa</td>\n",
              "      <td>Acta de Instalación</td>\n",
              "      <td>11/11/1828</td>\n",
              "      <td>Res. N° 098-2018-SUNEDU/CD</td>\n",
              "      <td>27/08/2018</td>\n",
              "    </tr>\n",
              "    <tr>\n",
              "      <th>5</th>\n",
              "      <td>6</td>\n",
              "      <td>Universidad Nacional de Ingeniería</td>\n",
              "      <td>Lima</td>\n",
              "      <td>Lima</td>\n",
              "      <td>Ley N° 12379</td>\n",
              "      <td>19/07/1955</td>\n",
              "      <td>Res. N° 073-2017-SUNEDU/CD</td>\n",
              "      <td>28/11/2017</td>\n",
              "    </tr>\n",
              "    <tr>\n",
              "      <th>6</th>\n",
              "      <td>7</td>\n",
              "      <td>Universidad Nacional Agraria La Molina</td>\n",
              "      <td>Lima</td>\n",
              "      <td>Lima</td>\n",
              "      <td>Ley N° 13417</td>\n",
              "      <td>08/04/1960</td>\n",
              "      <td>Res. N° 011-2017-SUNEDU/CD</td>\n",
              "      <td>20/03/2017</td>\n",
              "    </tr>\n",
              "    <tr>\n",
              "      <th>7</th>\n",
              "      <td>8</td>\n",
              "      <td>Universidad Nacional San Luis Gonzaga</td>\n",
              "      <td>Ica</td>\n",
              "      <td>Ica</td>\n",
              "      <td>Ley N° 12495</td>\n",
              "      <td>20/12/1955</td>\n",
              "      <td>Res. N° 002-2022-SUNEDU/CD</td>\n",
              "      <td>15/01/2022</td>\n",
              "    </tr>\n",
              "    <tr>\n",
              "      <th>8</th>\n",
              "      <td>9</td>\n",
              "      <td>Universidad Nacional del Centro del Perú</td>\n",
              "      <td>Junín</td>\n",
              "      <td>Huancayo</td>\n",
              "      <td>Ley N° 13827</td>\n",
              "      <td>02/01/1962</td>\n",
              "      <td>Res. N° 022-2019-SUNEDU/CD</td>\n",
              "      <td>01/03/2019</td>\n",
              "    </tr>\n",
              "    <tr>\n",
              "      <th>9</th>\n",
              "      <td>10</td>\n",
              "      <td>Universidad Nacional de la Amazonía Peruana</td>\n",
              "      <td>Loreto</td>\n",
              "      <td>Maynas</td>\n",
              "      <td>Ley N° 13498</td>\n",
              "      <td>14/01/1961</td>\n",
              "      <td>Res. N° 012-2019-SUNEDU/CD</td>\n",
              "      <td>01/02/2019</td>\n",
              "    </tr>\n",
              "    <tr>\n",
              "      <th>10</th>\n",
              "      <td>11</td>\n",
              "      <td>Universidad Nacional del Altiplano</td>\n",
              "      <td>Puno</td>\n",
              "      <td>Puno</td>\n",
              "      <td>Ley N° 13516</td>\n",
              "      <td>10/02/1961</td>\n",
              "      <td>Res. N° 101-2017-SUNEDU/CD</td>\n",
              "      <td>30/12/2017</td>\n",
              "    </tr>\n",
              "    <tr>\n",
              "      <th>11</th>\n",
              "      <td>12</td>\n",
              "      <td>Universidad Nacional de Piura</td>\n",
              "      <td>Piura</td>\n",
              "      <td>Piura</td>\n",
              "      <td>Ley N° 13531</td>\n",
              "      <td>03/03/1961</td>\n",
              "      <td>Res. N° 058-2019-SUNEDU/CD</td>\n",
              "      <td>07/05/2019</td>\n",
              "    </tr>\n",
              "    <tr>\n",
              "      <th>12</th>\n",
              "      <td>13</td>\n",
              "      <td>Universidad Nacional de Cajamarca</td>\n",
              "      <td>Cajamarca</td>\n",
              "      <td>Cajamarca</td>\n",
              "      <td>Ley N° 14015</td>\n",
              "      <td>13/02/1962</td>\n",
              "      <td>Res. N° 080-2018-SUNEDU/CD</td>\n",
              "      <td>17/07/2018</td>\n",
              "    </tr>\n",
              "    <tr>\n",
              "      <th>13</th>\n",
              "      <td>14</td>\n",
              "      <td>Universidad Nacional Federico Villarreal</td>\n",
              "      <td>Lima</td>\n",
              "      <td>Lima</td>\n",
              "      <td>Ley N° 14692</td>\n",
              "      <td>30/10/1963</td>\n",
              "      <td>Res. N° 035-2020-SUNEDU/CD</td>\n",
              "      <td>11/03/2020</td>\n",
              "    </tr>\n",
              "    <tr>\n",
              "      <th>14</th>\n",
              "      <td>15</td>\n",
              "      <td>Universidad Nacional Agraria de la Selva</td>\n",
              "      <td>Huánuco</td>\n",
              "      <td>Leoncio Prado</td>\n",
              "      <td>Ley N° 14912</td>\n",
              "      <td>20/02/1964</td>\n",
              "      <td>Res. N° 114-2019-SUNEDU/CD</td>\n",
              "      <td>29/08/2019</td>\n",
              "    </tr>\n",
              "    <tr>\n",
              "      <th>15</th>\n",
              "      <td>16</td>\n",
              "      <td>Universidad Nacional Hermilio Valdizán de Huánuco</td>\n",
              "      <td>Huánuco</td>\n",
              "      <td>Huánuco</td>\n",
              "      <td>Ley N° 14915</td>\n",
              "      <td>20/02/1964</td>\n",
              "      <td>Res. N° 099-2019-SUNEDU/CD</td>\n",
              "      <td>26/07/2019</td>\n",
              "    </tr>\n",
              "    <tr>\n",
              "      <th>16</th>\n",
              "      <td>17</td>\n",
              "      <td>Universidad Nacional de Educación Enrique Guzm...</td>\n",
              "      <td>Lima</td>\n",
              "      <td>Lima</td>\n",
              "      <td>Ley N° 15519</td>\n",
              "      <td>07/04/1965</td>\n",
              "      <td>Res. N° 165-2019-SUNEDU/CD</td>\n",
              "      <td>13/12/2019</td>\n",
              "    </tr>\n",
              "    <tr>\n",
              "      <th>17</th>\n",
              "      <td>18</td>\n",
              "      <td>Universidad Nacional Daniel Alcides Carrión</td>\n",
              "      <td>Pasco</td>\n",
              "      <td>Pasco</td>\n",
              "      <td>Ley N° 15527</td>\n",
              "      <td>23/04/1965</td>\n",
              "      <td>Res. N° 111-2019-SUNEDU/CD</td>\n",
              "      <td>22/08/2019</td>\n",
              "    </tr>\n",
              "    <tr>\n",
              "      <th>18</th>\n",
              "      <td>19</td>\n",
              "      <td>Universidad Nacional del Callao</td>\n",
              "      <td>Callao</td>\n",
              "      <td>Callao</td>\n",
              "      <td>Ley N° 16225</td>\n",
              "      <td>02/09/1966</td>\n",
              "      <td>Res. N° 171-2019-SUNEDU/CD</td>\n",
              "      <td>24/12/2019</td>\n",
              "    </tr>\n",
              "    <tr>\n",
              "      <th>19</th>\n",
              "      <td>20</td>\n",
              "      <td>Universidad Nacional José Faustino Sánchez Car...</td>\n",
              "      <td>Lima</td>\n",
              "      <td>Huaura</td>\n",
              "      <td>Decreto Ley N° 17358</td>\n",
              "      <td>31/12/1968</td>\n",
              "      <td>Res. N° 012-2020-SUNEDU/CD</td>\n",
              "      <td>28/01/2020</td>\n",
              "    </tr>\n",
              "    <tr>\n",
              "      <th>20</th>\n",
              "      <td>21</td>\n",
              "      <td>Universidad Nacional Pedro Ruiz Gallo</td>\n",
              "      <td>Lambayeque</td>\n",
              "      <td>Lambayeque</td>\n",
              "      <td>Decreto Ley N° 18179</td>\n",
              "      <td>17/03/1970</td>\n",
              "      <td>Res. N° 015-2023-SUNEDU/CD</td>\n",
              "      <td>09/06/2023</td>\n",
              "    </tr>\n",
              "    <tr>\n",
              "      <th>21</th>\n",
              "      <td>22</td>\n",
              "      <td>Universidad Nacional Jorge Basadre Grohmann</td>\n",
              "      <td>Tacna</td>\n",
              "      <td>Tacna</td>\n",
              "      <td>Decreto Ley N° 18942</td>\n",
              "      <td>26/08/1971</td>\n",
              "      <td>Res. N° 056-2018-SUNEDU/CD</td>\n",
              "      <td>13/06/2018</td>\n",
              "    </tr>\n",
              "    <tr>\n",
              "      <th>22</th>\n",
              "      <td>23</td>\n",
              "      <td>Universidad Nacional Santiago Antúnez de Mayolo</td>\n",
              "      <td>Ancash</td>\n",
              "      <td>Huaraz</td>\n",
              "      <td>Decreto Ley N° 21856</td>\n",
              "      <td>24/05/1977</td>\n",
              "      <td>Res. N° 173-2018-SUNEDU/CD</td>\n",
              "      <td>01/01/2018</td>\n",
              "    </tr>\n",
              "    <tr>\n",
              "      <th>23</th>\n",
              "      <td>24</td>\n",
              "      <td>Universidad Nacional de San Martín</td>\n",
              "      <td>San Martín</td>\n",
              "      <td>San Martín</td>\n",
              "      <td>Decreto Ley N° 22803</td>\n",
              "      <td>18/12/1979</td>\n",
              "      <td>Res. N° 055-2019-SUNEDU/CD</td>\n",
              "      <td>01/05/2019</td>\n",
              "    </tr>\n",
              "    <tr>\n",
              "      <th>24</th>\n",
              "      <td>25</td>\n",
              "      <td>Universidad Nacional de Ucayali</td>\n",
              "      <td>Ucayali</td>\n",
              "      <td>Coronel Portillo</td>\n",
              "      <td>Decreto Ley N° 22804</td>\n",
              "      <td>18/12/1979</td>\n",
              "      <td>Res. N° 149-2018-SUNEDU/CD</td>\n",
              "      <td>15/11/2018</td>\n",
              "    </tr>\n",
              "    <tr>\n",
              "      <th>25</th>\n",
              "      <td>26</td>\n",
              "      <td>Universidad Nacional de Tumbes</td>\n",
              "      <td>Tumbes</td>\n",
              "      <td>Tumbes</td>\n",
              "      <td>Ley N° 23881</td>\n",
              "      <td>23/06/1984</td>\n",
              "      <td>Res. N° 155-2019-SUNEDU/CD</td>\n",
              "      <td>03/12/2019</td>\n",
              "    </tr>\n",
              "    <tr>\n",
              "      <th>26</th>\n",
              "      <td>27</td>\n",
              "      <td>Universidad Nacional del Santa</td>\n",
              "      <td>Ancash</td>\n",
              "      <td>Santa</td>\n",
              "      <td>Ley N° 24035</td>\n",
              "      <td>20/12/1984</td>\n",
              "      <td>Res. N° 028-2019-SUNEDU/CD</td>\n",
              "      <td>12/03/2019</td>\n",
              "    </tr>\n",
              "    <tr>\n",
              "      <th>27</th>\n",
              "      <td>28</td>\n",
              "      <td>Universidad Nacional de Huancavelica</td>\n",
              "      <td>Huancavelica</td>\n",
              "      <td>Huancavelica</td>\n",
              "      <td>Ley N° 25265</td>\n",
              "      <td>20/06/1990</td>\n",
              "      <td>Res. N° 086-2019-SUNEDU/CD</td>\n",
              "      <td>03/07/2019</td>\n",
              "    </tr>\n",
              "    <tr>\n",
              "      <th>28</th>\n",
              "      <td>29</td>\n",
              "      <td>Universidad Nacional Amazónica de Madre de Dios</td>\n",
              "      <td>Madre De Dios</td>\n",
              "      <td>Tambopata</td>\n",
              "      <td>Ley N° 27297</td>\n",
              "      <td>06/07/2000</td>\n",
              "      <td>Res. N° 132-2019-SUNEDU/CD</td>\n",
              "      <td>12/10/2019</td>\n",
              "    </tr>\n",
              "    <tr>\n",
              "      <th>29</th>\n",
              "      <td>30</td>\n",
              "      <td>Universidad Nacional Toribio Rodríguez de Mend...</td>\n",
              "      <td>Amazonas</td>\n",
              "      <td>Chachapoyas</td>\n",
              "      <td>Ley N° 27347</td>\n",
              "      <td>19/09/2000</td>\n",
              "      <td>Res. N° 033-2017-SUNEDU/CD</td>\n",
              "      <td>17/09/2017</td>\n",
              "    </tr>\n",
              "    <tr>\n",
              "      <th>30</th>\n",
              "      <td>31</td>\n",
              "      <td>Universidad Nacional Micaela Bastidas de Apurímac</td>\n",
              "      <td>Apurímac</td>\n",
              "      <td>Abancay</td>\n",
              "      <td>Ley N° 27348</td>\n",
              "      <td>27/09/2000</td>\n",
              "      <td>Res. N° 021-2020-SUNEDU/CD</td>\n",
              "      <td>05/02/2020</td>\n",
              "    </tr>\n",
              "    <tr>\n",
              "      <th>31</th>\n",
              "      <td>32</td>\n",
              "      <td>Universidad Nacional Intercultural de la Amazonía</td>\n",
              "      <td>Ucayali</td>\n",
              "      <td>Coronel Portillo</td>\n",
              "      <td>Ley N° 27250</td>\n",
              "      <td>05/01/2000</td>\n",
              "      <td>Res. N° 131-2018-SUNEDU/CD</td>\n",
              "      <td>27/09/2018</td>\n",
              "    </tr>\n",
              "    <tr>\n",
              "      <th>32</th>\n",
              "      <td>33</td>\n",
              "      <td>Universidad Nacional Tecnológica de Lima Sur (*1)</td>\n",
              "      <td>Lima</td>\n",
              "      <td>Lima</td>\n",
              "      <td>Ley N° 27413</td>\n",
              "      <td>01/02/2001</td>\n",
              "      <td>Res. N° 059-2018-SUNEDU/CD</td>\n",
              "      <td>21/06/2018</td>\n",
              "    </tr>\n",
              "    <tr>\n",
              "      <th>33</th>\n",
              "      <td>34</td>\n",
              "      <td>Universidad Nacional José María Arguedas</td>\n",
              "      <td>Apurímac</td>\n",
              "      <td>Andahuaylas</td>\n",
              "      <td>Ley N° 28372</td>\n",
              "      <td>01/11/2004</td>\n",
              "      <td>Res. N° 035-2017-SUNEDU/CD</td>\n",
              "      <td>02/10/2017</td>\n",
              "    </tr>\n",
              "    <tr>\n",
              "      <th>34</th>\n",
              "      <td>35</td>\n",
              "      <td>Universidad Nacional de Moquegua</td>\n",
              "      <td>Moquegua</td>\n",
              "      <td>Mariscal Nieto</td>\n",
              "      <td>Ley N° 28520</td>\n",
              "      <td>24/05/2005</td>\n",
              "      <td>Res. N° 103-2017-SUNEDU/CD</td>\n",
              "      <td>06/01/2018</td>\n",
              "    </tr>\n",
              "    <tr>\n",
              "      <th>35</th>\n",
              "      <td>36</td>\n",
              "      <td>Universidad Nacional de Juliaca</td>\n",
              "      <td>Puno</td>\n",
              "      <td>San Román</td>\n",
              "      <td>Ley N° 29074</td>\n",
              "      <td>25/07/2007</td>\n",
              "      <td>Res. N° 097-2018-SUNEDU/CD</td>\n",
              "      <td>26/08/2018</td>\n",
              "    </tr>\n",
              "    <tr>\n",
              "      <th>36</th>\n",
              "      <td>37</td>\n",
              "      <td>Universidad Nacional de Jaén</td>\n",
              "      <td>Cajamarca</td>\n",
              "      <td>Jaén</td>\n",
              "      <td>Ley N° 29304</td>\n",
              "      <td>20/12/2008</td>\n",
              "      <td>Res. N° 002-2018-SUNEDU/CD</td>\n",
              "      <td>14/01/2018</td>\n",
              "    </tr>\n",
              "    <tr>\n",
              "      <th>37</th>\n",
              "      <td>38</td>\n",
              "      <td>Universidad Nacional de Frontera</td>\n",
              "      <td>Piura</td>\n",
              "      <td>Sullana</td>\n",
              "      <td>Ley N° 29568</td>\n",
              "      <td>06/08/2010</td>\n",
              "      <td>Res. N° 086-2019-SUNEDU/CD</td>\n",
              "      <td>06/04/2019</td>\n",
              "    </tr>\n",
              "    <tr>\n",
              "      <th>38</th>\n",
              "      <td>39</td>\n",
              "      <td>Universidad Nacional Autónoma de Chota</td>\n",
              "      <td>Cajamarca</td>\n",
              "      <td>Chota</td>\n",
              "      <td>Ley N° 29531</td>\n",
              "      <td>12/05/2010</td>\n",
              "      <td>Res. N° 160-2018-SUNEDU/CD</td>\n",
              "      <td>08/12/2018</td>\n",
              "    </tr>\n",
              "    <tr>\n",
              "      <th>39</th>\n",
              "      <td>40</td>\n",
              "      <td>Universidad Nacional de Barranca</td>\n",
              "      <td>Lima</td>\n",
              "      <td>Barranca</td>\n",
              "      <td>Ley N° 29553</td>\n",
              "      <td>07/07/2010</td>\n",
              "      <td>Res. N° 047-2018-SUNEDU/CD</td>\n",
              "      <td>24/05/2018</td>\n",
              "    </tr>\n",
              "    <tr>\n",
              "      <th>40</th>\n",
              "      <td>41</td>\n",
              "      <td>Universidad Nacional de Cañete</td>\n",
              "      <td>Lima</td>\n",
              "      <td>Cañete</td>\n",
              "      <td>Ley N° 29488</td>\n",
              "      <td>23/12/2009</td>\n",
              "      <td>Res. N° 116-2018-SUNEDU/CD</td>\n",
              "      <td>12/09/2018</td>\n",
              "    </tr>\n",
              "    <tr>\n",
              "      <th>41</th>\n",
              "      <td>42</td>\n",
              "      <td>Universidad Nacional Intercultural Fabiola Sal...</td>\n",
              "      <td>Amazonas</td>\n",
              "      <td>Bagua</td>\n",
              "      <td>Ley N° 29614</td>\n",
              "      <td>18/11/2010</td>\n",
              "      <td>Res. N° 095-2018-SUNEDU/CD</td>\n",
              "      <td>14,/08/018</td>\n",
              "    </tr>\n",
              "    <tr>\n",
              "      <th>42</th>\n",
              "      <td>43</td>\n",
              "      <td>Universidad Nacional Intercultural de la Selva...</td>\n",
              "      <td>Junín</td>\n",
              "      <td>Chanchamayo</td>\n",
              "      <td>Ley N° 29616</td>\n",
              "      <td>19/11/2010</td>\n",
              "      <td>Res. N° 033-2018-SUNEDU/CD</td>\n",
              "      <td>23/03/2018</td>\n",
              "    </tr>\n",
              "    <tr>\n",
              "      <th>43</th>\n",
              "      <td>44</td>\n",
              "      <td>Universidad Nacional Intercultural de Quillabamba</td>\n",
              "      <td>Cusco</td>\n",
              "      <td>La Convención</td>\n",
              "      <td>Ley N° 29620</td>\n",
              "      <td>01/12/2010</td>\n",
              "      <td>Res. N° 085-2019-SUNEDU/CD</td>\n",
              "      <td>02/07/2019</td>\n",
              "    </tr>\n",
              "    <tr>\n",
              "      <th>44</th>\n",
              "      <td>45</td>\n",
              "      <td>Universidad Nacional Autónoma de Alto Amazonas</td>\n",
              "      <td>Loreto</td>\n",
              "      <td>Alto Amazonas</td>\n",
              "      <td>Ley N° 29649</td>\n",
              "      <td>11/01/2011</td>\n",
              "      <td>Res. N° 062-2018-SUNEDU/CD</td>\n",
              "      <td>29/06/2018</td>\n",
              "    </tr>\n",
              "    <tr>\n",
              "      <th>45</th>\n",
              "      <td>46</td>\n",
              "      <td>Universidad Nacional Autónoma Altoandina de Tarma</td>\n",
              "      <td>Junín</td>\n",
              "      <td>Tarma</td>\n",
              "      <td>Ley N° 29652</td>\n",
              "      <td>14/01/2011</td>\n",
              "      <td>Res. N° 142-2018-SUNEDU/CD</td>\n",
              "      <td>19/10/2018</td>\n",
              "    </tr>\n",
              "    <tr>\n",
              "      <th>46</th>\n",
              "      <td>47</td>\n",
              "      <td>Universidad Nacional Autónoma de Huanta</td>\n",
              "      <td>Ayacucho</td>\n",
              "      <td>Huanta</td>\n",
              "      <td>Ley N° 29658</td>\n",
              "      <td>28/01/2011</td>\n",
              "      <td>Res. N° 014-2017-SUNEDU/CD</td>\n",
              "      <td>19/04/2017</td>\n",
              "    </tr>\n",
              "    <tr>\n",
              "      <th>47</th>\n",
              "      <td>48</td>\n",
              "      <td>Universidad Nacional Tecnológica de Lima Sur</td>\n",
              "      <td>Lima</td>\n",
              "      <td>Lima</td>\n",
              "      <td>Ley N° 29659</td>\n",
              "      <td>28/01/2011</td>\n",
              "      <td>Res. N° 059-2018-SUNEDU/CD</td>\n",
              "      <td>21/06/2018</td>\n",
              "    </tr>\n",
              "    <tr>\n",
              "      <th>48</th>\n",
              "      <td>49</td>\n",
              "      <td>Universidad Nacional Autónoma de Tayacaja Dani...</td>\n",
              "      <td>Huancavelica</td>\n",
              "      <td>Tayacaja</td>\n",
              "      <td>Ley N° 29716</td>\n",
              "      <td>23/06/2011</td>\n",
              "      <td>Res. N° 016-2019-SUNEDU/CD</td>\n",
              "      <td>15/02/2019</td>\n",
              "    </tr>\n",
              "    <tr>\n",
              "      <th>49</th>\n",
              "      <td>50</td>\n",
              "      <td>Universidad Nacional Ciro Alegría</td>\n",
              "      <td>La Libertad</td>\n",
              "      <td>Sanchez Carrión</td>\n",
              "      <td>Ley N° 29756</td>\n",
              "      <td>17/07/2011</td>\n",
              "      <td>Res. N° 029-2023-SUNEDU/CD</td>\n",
              "      <td>15/02/2019</td>\n",
              "    </tr>\n",
              "  </tbody>\n",
              "</table>\n",
              "</div>\n",
              "    <div class=\"colab-df-buttons\">\n",
              "\n",
              "  <div class=\"colab-df-container\">\n",
              "    <button class=\"colab-df-convert\" onclick=\"convertToInteractive('df-1e375f7f-4ff0-4aac-88b7-dbe2a6fc5c30')\"\n",
              "            title=\"Convert this dataframe to an interactive table.\"\n",
              "            style=\"display:none;\">\n",
              "\n",
              "  <svg xmlns=\"http://www.w3.org/2000/svg\" height=\"24px\" viewBox=\"0 -960 960 960\">\n",
              "    <path d=\"M120-120v-720h720v720H120Zm60-500h600v-160H180v160Zm220 220h160v-160H400v160Zm0 220h160v-160H400v160ZM180-400h160v-160H180v160Zm440 0h160v-160H620v160ZM180-180h160v-160H180v160Zm440 0h160v-160H620v160Z\"/>\n",
              "  </svg>\n",
              "    </button>\n",
              "\n",
              "  <style>\n",
              "    .colab-df-container {\n",
              "      display:flex;\n",
              "      gap: 12px;\n",
              "    }\n",
              "\n",
              "    .colab-df-convert {\n",
              "      background-color: #E8F0FE;\n",
              "      border: none;\n",
              "      border-radius: 50%;\n",
              "      cursor: pointer;\n",
              "      display: none;\n",
              "      fill: #1967D2;\n",
              "      height: 32px;\n",
              "      padding: 0 0 0 0;\n",
              "      width: 32px;\n",
              "    }\n",
              "\n",
              "    .colab-df-convert:hover {\n",
              "      background-color: #E2EBFA;\n",
              "      box-shadow: 0px 1px 2px rgba(60, 64, 67, 0.3), 0px 1px 3px 1px rgba(60, 64, 67, 0.15);\n",
              "      fill: #174EA6;\n",
              "    }\n",
              "\n",
              "    .colab-df-buttons div {\n",
              "      margin-bottom: 4px;\n",
              "    }\n",
              "\n",
              "    [theme=dark] .colab-df-convert {\n",
              "      background-color: #3B4455;\n",
              "      fill: #D2E3FC;\n",
              "    }\n",
              "\n",
              "    [theme=dark] .colab-df-convert:hover {\n",
              "      background-color: #434B5C;\n",
              "      box-shadow: 0px 1px 3px 1px rgba(0, 0, 0, 0.15);\n",
              "      filter: drop-shadow(0px 1px 2px rgba(0, 0, 0, 0.3));\n",
              "      fill: #FFFFFF;\n",
              "    }\n",
              "  </style>\n",
              "\n",
              "    <script>\n",
              "      const buttonEl =\n",
              "        document.querySelector('#df-1e375f7f-4ff0-4aac-88b7-dbe2a6fc5c30 button.colab-df-convert');\n",
              "      buttonEl.style.display =\n",
              "        google.colab.kernel.accessAllowed ? 'block' : 'none';\n",
              "\n",
              "      async function convertToInteractive(key) {\n",
              "        const element = document.querySelector('#df-1e375f7f-4ff0-4aac-88b7-dbe2a6fc5c30');\n",
              "        const dataTable =\n",
              "          await google.colab.kernel.invokeFunction('convertToInteractive',\n",
              "                                                    [key], {});\n",
              "        if (!dataTable) return;\n",
              "\n",
              "        const docLinkHtml = 'Like what you see? Visit the ' +\n",
              "          '<a target=\"_blank\" href=https://colab.research.google.com/notebooks/data_table.ipynb>data table notebook</a>'\n",
              "          + ' to learn more about interactive tables.';\n",
              "        element.innerHTML = '';\n",
              "        dataTable['output_type'] = 'display_data';\n",
              "        await google.colab.output.renderOutput(dataTable, element);\n",
              "        const docLink = document.createElement('div');\n",
              "        docLink.innerHTML = docLinkHtml;\n",
              "        element.appendChild(docLink);\n",
              "      }\n",
              "    </script>\n",
              "  </div>\n",
              "\n",
              "\n",
              "<div id=\"df-5e61b600-7fef-4111-953b-0ac51a516158\">\n",
              "  <button class=\"colab-df-quickchart\" onclick=\"quickchart('df-5e61b600-7fef-4111-953b-0ac51a516158')\"\n",
              "            title=\"Suggest charts\"\n",
              "            style=\"display:none;\">\n",
              "\n",
              "<svg xmlns=\"http://www.w3.org/2000/svg\" height=\"24px\"viewBox=\"0 0 24 24\"\n",
              "     width=\"24px\">\n",
              "    <g>\n",
              "        <path d=\"M19 3H5c-1.1 0-2 .9-2 2v14c0 1.1.9 2 2 2h14c1.1 0 2-.9 2-2V5c0-1.1-.9-2-2-2zM9 17H7v-7h2v7zm4 0h-2V7h2v10zm4 0h-2v-4h2v4z\"/>\n",
              "    </g>\n",
              "</svg>\n",
              "  </button>\n",
              "\n",
              "<style>\n",
              "  .colab-df-quickchart {\n",
              "      --bg-color: #E8F0FE;\n",
              "      --fill-color: #1967D2;\n",
              "      --hover-bg-color: #E2EBFA;\n",
              "      --hover-fill-color: #174EA6;\n",
              "      --disabled-fill-color: #AAA;\n",
              "      --disabled-bg-color: #DDD;\n",
              "  }\n",
              "\n",
              "  [theme=dark] .colab-df-quickchart {\n",
              "      --bg-color: #3B4455;\n",
              "      --fill-color: #D2E3FC;\n",
              "      --hover-bg-color: #434B5C;\n",
              "      --hover-fill-color: #FFFFFF;\n",
              "      --disabled-bg-color: #3B4455;\n",
              "      --disabled-fill-color: #666;\n",
              "  }\n",
              "\n",
              "  .colab-df-quickchart {\n",
              "    background-color: var(--bg-color);\n",
              "    border: none;\n",
              "    border-radius: 50%;\n",
              "    cursor: pointer;\n",
              "    display: none;\n",
              "    fill: var(--fill-color);\n",
              "    height: 32px;\n",
              "    padding: 0;\n",
              "    width: 32px;\n",
              "  }\n",
              "\n",
              "  .colab-df-quickchart:hover {\n",
              "    background-color: var(--hover-bg-color);\n",
              "    box-shadow: 0 1px 2px rgba(60, 64, 67, 0.3), 0 1px 3px 1px rgba(60, 64, 67, 0.15);\n",
              "    fill: var(--button-hover-fill-color);\n",
              "  }\n",
              "\n",
              "  .colab-df-quickchart-complete:disabled,\n",
              "  .colab-df-quickchart-complete:disabled:hover {\n",
              "    background-color: var(--disabled-bg-color);\n",
              "    fill: var(--disabled-fill-color);\n",
              "    box-shadow: none;\n",
              "  }\n",
              "\n",
              "  .colab-df-spinner {\n",
              "    border: 2px solid var(--fill-color);\n",
              "    border-color: transparent;\n",
              "    border-bottom-color: var(--fill-color);\n",
              "    animation:\n",
              "      spin 1s steps(1) infinite;\n",
              "  }\n",
              "\n",
              "  @keyframes spin {\n",
              "    0% {\n",
              "      border-color: transparent;\n",
              "      border-bottom-color: var(--fill-color);\n",
              "      border-left-color: var(--fill-color);\n",
              "    }\n",
              "    20% {\n",
              "      border-color: transparent;\n",
              "      border-left-color: var(--fill-color);\n",
              "      border-top-color: var(--fill-color);\n",
              "    }\n",
              "    30% {\n",
              "      border-color: transparent;\n",
              "      border-left-color: var(--fill-color);\n",
              "      border-top-color: var(--fill-color);\n",
              "      border-right-color: var(--fill-color);\n",
              "    }\n",
              "    40% {\n",
              "      border-color: transparent;\n",
              "      border-right-color: var(--fill-color);\n",
              "      border-top-color: var(--fill-color);\n",
              "    }\n",
              "    60% {\n",
              "      border-color: transparent;\n",
              "      border-right-color: var(--fill-color);\n",
              "    }\n",
              "    80% {\n",
              "      border-color: transparent;\n",
              "      border-right-color: var(--fill-color);\n",
              "      border-bottom-color: var(--fill-color);\n",
              "    }\n",
              "    90% {\n",
              "      border-color: transparent;\n",
              "      border-bottom-color: var(--fill-color);\n",
              "    }\n",
              "  }\n",
              "</style>\n",
              "\n",
              "  <script>\n",
              "    async function quickchart(key) {\n",
              "      const quickchartButtonEl =\n",
              "        document.querySelector('#' + key + ' button');\n",
              "      quickchartButtonEl.disabled = true;  // To prevent multiple clicks.\n",
              "      quickchartButtonEl.classList.add('colab-df-spinner');\n",
              "      try {\n",
              "        const charts = await google.colab.kernel.invokeFunction(\n",
              "            'suggestCharts', [key], {});\n",
              "      } catch (error) {\n",
              "        console.error('Error during call to suggestCharts:', error);\n",
              "      }\n",
              "      quickchartButtonEl.classList.remove('colab-df-spinner');\n",
              "      quickchartButtonEl.classList.add('colab-df-quickchart-complete');\n",
              "    }\n",
              "    (() => {\n",
              "      let quickchartButtonEl =\n",
              "        document.querySelector('#df-5e61b600-7fef-4111-953b-0ac51a516158 button');\n",
              "      quickchartButtonEl.style.display =\n",
              "        google.colab.kernel.accessAllowed ? 'block' : 'none';\n",
              "    })();\n",
              "  </script>\n",
              "</div>\n",
              "\n",
              "  <div id=\"id_c8908f01-ca68-4926-a65c-96f9db8bce17\">\n",
              "    <style>\n",
              "      .colab-df-generate {\n",
              "        background-color: #E8F0FE;\n",
              "        border: none;\n",
              "        border-radius: 50%;\n",
              "        cursor: pointer;\n",
              "        display: none;\n",
              "        fill: #1967D2;\n",
              "        height: 32px;\n",
              "        padding: 0 0 0 0;\n",
              "        width: 32px;\n",
              "      }\n",
              "\n",
              "      .colab-df-generate:hover {\n",
              "        background-color: #E2EBFA;\n",
              "        box-shadow: 0px 1px 2px rgba(60, 64, 67, 0.3), 0px 1px 3px 1px rgba(60, 64, 67, 0.15);\n",
              "        fill: #174EA6;\n",
              "      }\n",
              "\n",
              "      [theme=dark] .colab-df-generate {\n",
              "        background-color: #3B4455;\n",
              "        fill: #D2E3FC;\n",
              "      }\n",
              "\n",
              "      [theme=dark] .colab-df-generate:hover {\n",
              "        background-color: #434B5C;\n",
              "        box-shadow: 0px 1px 3px 1px rgba(0, 0, 0, 0.15);\n",
              "        filter: drop-shadow(0px 1px 2px rgba(0, 0, 0, 0.3));\n",
              "        fill: #FFFFFF;\n",
              "      }\n",
              "    </style>\n",
              "    <button class=\"colab-df-generate\" onclick=\"generateWithVariable('Públicas')\"\n",
              "            title=\"Generate code using this dataframe.\"\n",
              "            style=\"display:none;\">\n",
              "\n",
              "  <svg xmlns=\"http://www.w3.org/2000/svg\" height=\"24px\"viewBox=\"0 0 24 24\"\n",
              "       width=\"24px\">\n",
              "    <path d=\"M7,19H8.4L18.45,9,17,7.55,7,17.6ZM5,21V16.75L18.45,3.32a2,2,0,0,1,2.83,0l1.4,1.43a1.91,1.91,0,0,1,.58,1.4,1.91,1.91,0,0,1-.58,1.4L9.25,21ZM18.45,9,17,7.55Zm-12,3A5.31,5.31,0,0,0,4.9,8.1,5.31,5.31,0,0,0,1,6.5,5.31,5.31,0,0,0,4.9,4.9,5.31,5.31,0,0,0,6.5,1,5.31,5.31,0,0,0,8.1,4.9,5.31,5.31,0,0,0,12,6.5,5.46,5.46,0,0,0,6.5,12Z\"/>\n",
              "  </svg>\n",
              "    </button>\n",
              "    <script>\n",
              "      (() => {\n",
              "      const buttonEl =\n",
              "        document.querySelector('#id_c8908f01-ca68-4926-a65c-96f9db8bce17 button.colab-df-generate');\n",
              "      buttonEl.style.display =\n",
              "        google.colab.kernel.accessAllowed ? 'block' : 'none';\n",
              "\n",
              "      buttonEl.onclick = () => {\n",
              "        google.colab.notebook.generateWithVariable('Públicas');\n",
              "      }\n",
              "      })();\n",
              "    </script>\n",
              "  </div>\n",
              "\n",
              "    </div>\n",
              "  </div>\n"
            ],
            "application/vnd.google.colaboratory.intrinsic+json": {
              "type": "dataframe",
              "variable_name": "Públicas",
              "summary": "{\n  \"name\": \"P\\u00fablicas\",\n  \"rows\": 50,\n  \"fields\": [\n    {\n      \"column\": \"N\\u00b0\",\n      \"properties\": {\n        \"dtype\": \"number\",\n        \"std\": 14,\n        \"min\": 1,\n        \"max\": 50,\n        \"num_unique_values\": 50,\n        \"samples\": [\n          14,\n          40,\n          31\n        ],\n        \"semantic_type\": \"\",\n        \"description\": \"\"\n      }\n    },\n    {\n      \"column\": \"UNIVERSIDAD\",\n      \"properties\": {\n        \"dtype\": \"string\",\n        \"num_unique_values\": 50,\n        \"samples\": [\n          \"Universidad Nacional Federico Villarreal\",\n          \"Universidad Nacional de Barranca\",\n          \"Universidad Nacional Micaela Bastidas de Apur\\u00edmac\"\n        ],\n        \"semantic_type\": \"\",\n        \"description\": \"\"\n      }\n    },\n    {\n      \"column\": \"DEPARTAMENTO\",\n      \"properties\": {\n        \"dtype\": \"string\",\n        \"num_unique_values\": 25,\n        \"samples\": [\n          \"Puno\",\n          \"Ancash\",\n          \"Lima\"\n        ],\n        \"semantic_type\": \"\",\n        \"description\": \"\"\n      }\n    },\n    {\n      \"column\": \"PROVINCIA\",\n      \"properties\": {\n        \"dtype\": \"string\",\n        \"num_unique_values\": 43,\n        \"samples\": [\n          \"La Convenci\\u00f3n\",\n          \"Tambopata\",\n          \"Chachapoyas\"\n        ],\n        \"semantic_type\": \"\",\n        \"description\": \"\"\n      }\n    },\n    {\n      \"column\": \"DISPOSITIVO LEGAL DE CREACI\\u00d3N\",\n      \"properties\": {\n        \"dtype\": \"string\",\n        \"num_unique_values\": 49,\n        \"samples\": [\n          \"Ley N\\u00b0 14912\",\n          \"Ley N\\u00b0 29658\",\n          \"Ley N\\u00b0 29716\"\n        ],\n        \"semantic_type\": \"\",\n        \"description\": \"\"\n      }\n    },\n    {\n      \"column\": \"FECHA DE CREACI\\u00d3N\",\n      \"properties\": {\n        \"dtype\": \"string\",\n        \"num_unique_values\": 47,\n        \"samples\": [\n          \"19/09/2000\",\n          \"18/11/2010\",\n          \"06/07/2000\"\n        ],\n        \"semantic_type\": \"\",\n        \"description\": \"\"\n      }\n    },\n    {\n      \"column\": \"DISPOSITIVO LEGAL DE LICENCIAMIENTO\",\n      \"properties\": {\n        \"dtype\": \"string\",\n        \"num_unique_values\": 48,\n        \"samples\": [\n          \"Res. N\\u00b0 086-2019-SUNEDU/CD\",\n          \"Res. N\\u00b0 095-2018-SUNEDU/CD\",\n          \"Res. N\\u00b0 028-2019-SUNEDU/CD\"\n        ],\n        \"semantic_type\": \"\",\n        \"description\": \"\"\n      }\n    },\n    {\n      \"column\": \"FECHA DE PUB. DIARIO EL PERUANO\",\n      \"properties\": {\n        \"dtype\": \"string\",\n        \"num_unique_values\": 48,\n        \"samples\": [\n          \"03/07/2019\",\n          \"12/09/2018\",\n          \"12/03/2019\"\n        ],\n        \"semantic_type\": \"\",\n        \"description\": \"\"\n      }\n    }\n  ]\n}"
            }
          },
          "metadata": {},
          "execution_count": 47
        }
      ]
    },
    {
      "cell_type": "code",
      "source": [
        "# Conociendo las dimensiones de la tabla, usando la variable\n",
        "Públicas.shape"
      ],
      "metadata": {
        "id": "Cyh2xbfbJMI5",
        "outputId": "8079e2b1-1ea5-4844-86a4-6e788f9793db",
        "colab": {
          "base_uri": "https://localhost:8080/"
        }
      },
      "execution_count": 48,
      "outputs": [
        {
          "output_type": "execute_result",
          "data": {
            "text/plain": [
              "(50, 8)"
            ]
          },
          "metadata": {},
          "execution_count": 48
        }
      ]
    },
    {
      "cell_type": "code",
      "source": [
        "# Como se llevó 'df[0]' a una variable 'Públicas', entonces se puede pedir por columnas. i. e. 'UNIVERSIDAD'\n",
        "Públicas['UNIVERSIDAD']"
      ],
      "metadata": {
        "id": "fWTszXHUIwjG",
        "outputId": "353a4e13-0d79-4ecd-dc2f-def0d70e6682",
        "colab": {
          "base_uri": "https://localhost:8080/",
          "height": 1000
        }
      },
      "execution_count": 51,
      "outputs": [
        {
          "output_type": "execute_result",
          "data": {
            "text/plain": [
              "0              Universidad Nacional Mayor de San Marcos\n",
              "1     Universidad Nacional de San Cristóbal de Huamanga\n",
              "2     Universidad Nacional de San Antonio Abad del C...\n",
              "3                      Universidad Nacional de Trujillo\n",
              "4       Universidad Nacional de San Agustín de Arequipa\n",
              "5                    Universidad Nacional de Ingeniería\n",
              "6                Universidad Nacional Agraria La Molina\n",
              "7                 Universidad Nacional San Luis Gonzaga\n",
              "8              Universidad Nacional del Centro del Perú\n",
              "9           Universidad Nacional de la Amazonía Peruana\n",
              "10                   Universidad Nacional del Altiplano\n",
              "11                        Universidad Nacional de Piura\n",
              "12                    Universidad Nacional de Cajamarca\n",
              "13             Universidad Nacional Federico Villarreal\n",
              "14             Universidad Nacional Agraria de la Selva\n",
              "15    Universidad Nacional Hermilio Valdizán de Huánuco\n",
              "16    Universidad Nacional de Educación Enrique Guzm...\n",
              "17          Universidad Nacional Daniel Alcides Carrión\n",
              "18                      Universidad Nacional del Callao\n",
              "19    Universidad Nacional José Faustino Sánchez Car...\n",
              "20                Universidad Nacional Pedro Ruiz Gallo\n",
              "21          Universidad Nacional Jorge Basadre Grohmann\n",
              "22      Universidad Nacional Santiago Antúnez de Mayolo\n",
              "23                   Universidad Nacional de San Martín\n",
              "24                      Universidad Nacional de Ucayali\n",
              "25                       Universidad Nacional de Tumbes\n",
              "26                       Universidad Nacional del Santa\n",
              "27                 Universidad Nacional de Huancavelica\n",
              "28      Universidad Nacional Amazónica de Madre de Dios\n",
              "29    Universidad Nacional Toribio Rodríguez de Mend...\n",
              "30    Universidad Nacional Micaela Bastidas de Apurímac\n",
              "31    Universidad Nacional Intercultural de la Amazonía\n",
              "32    Universidad Nacional Tecnológica de Lima Sur (*1)\n",
              "33             Universidad Nacional José María Arguedas\n",
              "34                     Universidad Nacional de Moquegua\n",
              "35                      Universidad Nacional de Juliaca\n",
              "36                         Universidad Nacional de Jaén\n",
              "37                     Universidad Nacional de Frontera\n",
              "38               Universidad Nacional Autónoma de Chota\n",
              "39                     Universidad Nacional de Barranca\n",
              "40                       Universidad Nacional de Cañete\n",
              "41    Universidad Nacional Intercultural Fabiola Sal...\n",
              "42    Universidad Nacional Intercultural de la Selva...\n",
              "43    Universidad Nacional Intercultural de Quillabamba\n",
              "44       Universidad Nacional Autónoma de Alto Amazonas\n",
              "45    Universidad Nacional Autónoma Altoandina de Tarma\n",
              "46              Universidad Nacional Autónoma de Huanta\n",
              "47         Universidad Nacional Tecnológica de Lima Sur\n",
              "48    Universidad Nacional Autónoma de Tayacaja Dani...\n",
              "49                    Universidad Nacional Ciro Alegría\n",
              "Name: UNIVERSIDAD, dtype: object"
            ],
            "text/html": [
              "<div>\n",
              "<style scoped>\n",
              "    .dataframe tbody tr th:only-of-type {\n",
              "        vertical-align: middle;\n",
              "    }\n",
              "\n",
              "    .dataframe tbody tr th {\n",
              "        vertical-align: top;\n",
              "    }\n",
              "\n",
              "    .dataframe thead th {\n",
              "        text-align: right;\n",
              "    }\n",
              "</style>\n",
              "<table border=\"1\" class=\"dataframe\">\n",
              "  <thead>\n",
              "    <tr style=\"text-align: right;\">\n",
              "      <th></th>\n",
              "      <th>UNIVERSIDAD</th>\n",
              "    </tr>\n",
              "  </thead>\n",
              "  <tbody>\n",
              "    <tr>\n",
              "      <th>0</th>\n",
              "      <td>Universidad Nacional Mayor de San Marcos</td>\n",
              "    </tr>\n",
              "    <tr>\n",
              "      <th>1</th>\n",
              "      <td>Universidad Nacional de San Cristóbal de Huamanga</td>\n",
              "    </tr>\n",
              "    <tr>\n",
              "      <th>2</th>\n",
              "      <td>Universidad Nacional de San Antonio Abad del C...</td>\n",
              "    </tr>\n",
              "    <tr>\n",
              "      <th>3</th>\n",
              "      <td>Universidad Nacional de Trujillo</td>\n",
              "    </tr>\n",
              "    <tr>\n",
              "      <th>4</th>\n",
              "      <td>Universidad Nacional de San Agustín de Arequipa</td>\n",
              "    </tr>\n",
              "    <tr>\n",
              "      <th>5</th>\n",
              "      <td>Universidad Nacional de Ingeniería</td>\n",
              "    </tr>\n",
              "    <tr>\n",
              "      <th>6</th>\n",
              "      <td>Universidad Nacional Agraria La Molina</td>\n",
              "    </tr>\n",
              "    <tr>\n",
              "      <th>7</th>\n",
              "      <td>Universidad Nacional San Luis Gonzaga</td>\n",
              "    </tr>\n",
              "    <tr>\n",
              "      <th>8</th>\n",
              "      <td>Universidad Nacional del Centro del Perú</td>\n",
              "    </tr>\n",
              "    <tr>\n",
              "      <th>9</th>\n",
              "      <td>Universidad Nacional de la Amazonía Peruana</td>\n",
              "    </tr>\n",
              "    <tr>\n",
              "      <th>10</th>\n",
              "      <td>Universidad Nacional del Altiplano</td>\n",
              "    </tr>\n",
              "    <tr>\n",
              "      <th>11</th>\n",
              "      <td>Universidad Nacional de Piura</td>\n",
              "    </tr>\n",
              "    <tr>\n",
              "      <th>12</th>\n",
              "      <td>Universidad Nacional de Cajamarca</td>\n",
              "    </tr>\n",
              "    <tr>\n",
              "      <th>13</th>\n",
              "      <td>Universidad Nacional Federico Villarreal</td>\n",
              "    </tr>\n",
              "    <tr>\n",
              "      <th>14</th>\n",
              "      <td>Universidad Nacional Agraria de la Selva</td>\n",
              "    </tr>\n",
              "    <tr>\n",
              "      <th>15</th>\n",
              "      <td>Universidad Nacional Hermilio Valdizán de Huánuco</td>\n",
              "    </tr>\n",
              "    <tr>\n",
              "      <th>16</th>\n",
              "      <td>Universidad Nacional de Educación Enrique Guzm...</td>\n",
              "    </tr>\n",
              "    <tr>\n",
              "      <th>17</th>\n",
              "      <td>Universidad Nacional Daniel Alcides Carrión</td>\n",
              "    </tr>\n",
              "    <tr>\n",
              "      <th>18</th>\n",
              "      <td>Universidad Nacional del Callao</td>\n",
              "    </tr>\n",
              "    <tr>\n",
              "      <th>19</th>\n",
              "      <td>Universidad Nacional José Faustino Sánchez Car...</td>\n",
              "    </tr>\n",
              "    <tr>\n",
              "      <th>20</th>\n",
              "      <td>Universidad Nacional Pedro Ruiz Gallo</td>\n",
              "    </tr>\n",
              "    <tr>\n",
              "      <th>21</th>\n",
              "      <td>Universidad Nacional Jorge Basadre Grohmann</td>\n",
              "    </tr>\n",
              "    <tr>\n",
              "      <th>22</th>\n",
              "      <td>Universidad Nacional Santiago Antúnez de Mayolo</td>\n",
              "    </tr>\n",
              "    <tr>\n",
              "      <th>23</th>\n",
              "      <td>Universidad Nacional de San Martín</td>\n",
              "    </tr>\n",
              "    <tr>\n",
              "      <th>24</th>\n",
              "      <td>Universidad Nacional de Ucayali</td>\n",
              "    </tr>\n",
              "    <tr>\n",
              "      <th>25</th>\n",
              "      <td>Universidad Nacional de Tumbes</td>\n",
              "    </tr>\n",
              "    <tr>\n",
              "      <th>26</th>\n",
              "      <td>Universidad Nacional del Santa</td>\n",
              "    </tr>\n",
              "    <tr>\n",
              "      <th>27</th>\n",
              "      <td>Universidad Nacional de Huancavelica</td>\n",
              "    </tr>\n",
              "    <tr>\n",
              "      <th>28</th>\n",
              "      <td>Universidad Nacional Amazónica de Madre de Dios</td>\n",
              "    </tr>\n",
              "    <tr>\n",
              "      <th>29</th>\n",
              "      <td>Universidad Nacional Toribio Rodríguez de Mend...</td>\n",
              "    </tr>\n",
              "    <tr>\n",
              "      <th>30</th>\n",
              "      <td>Universidad Nacional Micaela Bastidas de Apurímac</td>\n",
              "    </tr>\n",
              "    <tr>\n",
              "      <th>31</th>\n",
              "      <td>Universidad Nacional Intercultural de la Amazonía</td>\n",
              "    </tr>\n",
              "    <tr>\n",
              "      <th>32</th>\n",
              "      <td>Universidad Nacional Tecnológica de Lima Sur (*1)</td>\n",
              "    </tr>\n",
              "    <tr>\n",
              "      <th>33</th>\n",
              "      <td>Universidad Nacional José María Arguedas</td>\n",
              "    </tr>\n",
              "    <tr>\n",
              "      <th>34</th>\n",
              "      <td>Universidad Nacional de Moquegua</td>\n",
              "    </tr>\n",
              "    <tr>\n",
              "      <th>35</th>\n",
              "      <td>Universidad Nacional de Juliaca</td>\n",
              "    </tr>\n",
              "    <tr>\n",
              "      <th>36</th>\n",
              "      <td>Universidad Nacional de Jaén</td>\n",
              "    </tr>\n",
              "    <tr>\n",
              "      <th>37</th>\n",
              "      <td>Universidad Nacional de Frontera</td>\n",
              "    </tr>\n",
              "    <tr>\n",
              "      <th>38</th>\n",
              "      <td>Universidad Nacional Autónoma de Chota</td>\n",
              "    </tr>\n",
              "    <tr>\n",
              "      <th>39</th>\n",
              "      <td>Universidad Nacional de Barranca</td>\n",
              "    </tr>\n",
              "    <tr>\n",
              "      <th>40</th>\n",
              "      <td>Universidad Nacional de Cañete</td>\n",
              "    </tr>\n",
              "    <tr>\n",
              "      <th>41</th>\n",
              "      <td>Universidad Nacional Intercultural Fabiola Sal...</td>\n",
              "    </tr>\n",
              "    <tr>\n",
              "      <th>42</th>\n",
              "      <td>Universidad Nacional Intercultural de la Selva...</td>\n",
              "    </tr>\n",
              "    <tr>\n",
              "      <th>43</th>\n",
              "      <td>Universidad Nacional Intercultural de Quillabamba</td>\n",
              "    </tr>\n",
              "    <tr>\n",
              "      <th>44</th>\n",
              "      <td>Universidad Nacional Autónoma de Alto Amazonas</td>\n",
              "    </tr>\n",
              "    <tr>\n",
              "      <th>45</th>\n",
              "      <td>Universidad Nacional Autónoma Altoandina de Tarma</td>\n",
              "    </tr>\n",
              "    <tr>\n",
              "      <th>46</th>\n",
              "      <td>Universidad Nacional Autónoma de Huanta</td>\n",
              "    </tr>\n",
              "    <tr>\n",
              "      <th>47</th>\n",
              "      <td>Universidad Nacional Tecnológica de Lima Sur</td>\n",
              "    </tr>\n",
              "    <tr>\n",
              "      <th>48</th>\n",
              "      <td>Universidad Nacional Autónoma de Tayacaja Dani...</td>\n",
              "    </tr>\n",
              "    <tr>\n",
              "      <th>49</th>\n",
              "      <td>Universidad Nacional Ciro Alegría</td>\n",
              "    </tr>\n",
              "  </tbody>\n",
              "</table>\n",
              "</div><br><label><b>dtype:</b> object</label>"
            ]
          },
          "metadata": {},
          "execution_count": 51
        }
      ]
    },
    {
      "cell_type": "code",
      "source": [
        "# Si de la columna 'UNIVERSUDAD' hay alguna con un nombre especíespecífico\n",
        "Públicas['UNIVERSIDAD'] == 'Universidad Nacional del Centro del Perú'"
      ],
      "metadata": {
        "id": "gNyKDxwkIwfx",
        "outputId": "76c1d112-e295-40d6-de0e-c9dd6b09515d",
        "colab": {
          "base_uri": "https://localhost:8080/",
          "height": 1000
        }
      },
      "execution_count": 53,
      "outputs": [
        {
          "output_type": "execute_result",
          "data": {
            "text/plain": [
              "0     False\n",
              "1     False\n",
              "2     False\n",
              "3     False\n",
              "4     False\n",
              "5     False\n",
              "6     False\n",
              "7     False\n",
              "8      True\n",
              "9     False\n",
              "10    False\n",
              "11    False\n",
              "12    False\n",
              "13    False\n",
              "14    False\n",
              "15    False\n",
              "16    False\n",
              "17    False\n",
              "18    False\n",
              "19    False\n",
              "20    False\n",
              "21    False\n",
              "22    False\n",
              "23    False\n",
              "24    False\n",
              "25    False\n",
              "26    False\n",
              "27    False\n",
              "28    False\n",
              "29    False\n",
              "30    False\n",
              "31    False\n",
              "32    False\n",
              "33    False\n",
              "34    False\n",
              "35    False\n",
              "36    False\n",
              "37    False\n",
              "38    False\n",
              "39    False\n",
              "40    False\n",
              "41    False\n",
              "42    False\n",
              "43    False\n",
              "44    False\n",
              "45    False\n",
              "46    False\n",
              "47    False\n",
              "48    False\n",
              "49    False\n",
              "Name: UNIVERSIDAD, dtype: bool"
            ],
            "text/html": [
              "<div>\n",
              "<style scoped>\n",
              "    .dataframe tbody tr th:only-of-type {\n",
              "        vertical-align: middle;\n",
              "    }\n",
              "\n",
              "    .dataframe tbody tr th {\n",
              "        vertical-align: top;\n",
              "    }\n",
              "\n",
              "    .dataframe thead th {\n",
              "        text-align: right;\n",
              "    }\n",
              "</style>\n",
              "<table border=\"1\" class=\"dataframe\">\n",
              "  <thead>\n",
              "    <tr style=\"text-align: right;\">\n",
              "      <th></th>\n",
              "      <th>UNIVERSIDAD</th>\n",
              "    </tr>\n",
              "  </thead>\n",
              "  <tbody>\n",
              "    <tr>\n",
              "      <th>0</th>\n",
              "      <td>False</td>\n",
              "    </tr>\n",
              "    <tr>\n",
              "      <th>1</th>\n",
              "      <td>False</td>\n",
              "    </tr>\n",
              "    <tr>\n",
              "      <th>2</th>\n",
              "      <td>False</td>\n",
              "    </tr>\n",
              "    <tr>\n",
              "      <th>3</th>\n",
              "      <td>False</td>\n",
              "    </tr>\n",
              "    <tr>\n",
              "      <th>4</th>\n",
              "      <td>False</td>\n",
              "    </tr>\n",
              "    <tr>\n",
              "      <th>5</th>\n",
              "      <td>False</td>\n",
              "    </tr>\n",
              "    <tr>\n",
              "      <th>6</th>\n",
              "      <td>False</td>\n",
              "    </tr>\n",
              "    <tr>\n",
              "      <th>7</th>\n",
              "      <td>False</td>\n",
              "    </tr>\n",
              "    <tr>\n",
              "      <th>8</th>\n",
              "      <td>True</td>\n",
              "    </tr>\n",
              "    <tr>\n",
              "      <th>9</th>\n",
              "      <td>False</td>\n",
              "    </tr>\n",
              "    <tr>\n",
              "      <th>10</th>\n",
              "      <td>False</td>\n",
              "    </tr>\n",
              "    <tr>\n",
              "      <th>11</th>\n",
              "      <td>False</td>\n",
              "    </tr>\n",
              "    <tr>\n",
              "      <th>12</th>\n",
              "      <td>False</td>\n",
              "    </tr>\n",
              "    <tr>\n",
              "      <th>13</th>\n",
              "      <td>False</td>\n",
              "    </tr>\n",
              "    <tr>\n",
              "      <th>14</th>\n",
              "      <td>False</td>\n",
              "    </tr>\n",
              "    <tr>\n",
              "      <th>15</th>\n",
              "      <td>False</td>\n",
              "    </tr>\n",
              "    <tr>\n",
              "      <th>16</th>\n",
              "      <td>False</td>\n",
              "    </tr>\n",
              "    <tr>\n",
              "      <th>17</th>\n",
              "      <td>False</td>\n",
              "    </tr>\n",
              "    <tr>\n",
              "      <th>18</th>\n",
              "      <td>False</td>\n",
              "    </tr>\n",
              "    <tr>\n",
              "      <th>19</th>\n",
              "      <td>False</td>\n",
              "    </tr>\n",
              "    <tr>\n",
              "      <th>20</th>\n",
              "      <td>False</td>\n",
              "    </tr>\n",
              "    <tr>\n",
              "      <th>21</th>\n",
              "      <td>False</td>\n",
              "    </tr>\n",
              "    <tr>\n",
              "      <th>22</th>\n",
              "      <td>False</td>\n",
              "    </tr>\n",
              "    <tr>\n",
              "      <th>23</th>\n",
              "      <td>False</td>\n",
              "    </tr>\n",
              "    <tr>\n",
              "      <th>24</th>\n",
              "      <td>False</td>\n",
              "    </tr>\n",
              "    <tr>\n",
              "      <th>25</th>\n",
              "      <td>False</td>\n",
              "    </tr>\n",
              "    <tr>\n",
              "      <th>26</th>\n",
              "      <td>False</td>\n",
              "    </tr>\n",
              "    <tr>\n",
              "      <th>27</th>\n",
              "      <td>False</td>\n",
              "    </tr>\n",
              "    <tr>\n",
              "      <th>28</th>\n",
              "      <td>False</td>\n",
              "    </tr>\n",
              "    <tr>\n",
              "      <th>29</th>\n",
              "      <td>False</td>\n",
              "    </tr>\n",
              "    <tr>\n",
              "      <th>30</th>\n",
              "      <td>False</td>\n",
              "    </tr>\n",
              "    <tr>\n",
              "      <th>31</th>\n",
              "      <td>False</td>\n",
              "    </tr>\n",
              "    <tr>\n",
              "      <th>32</th>\n",
              "      <td>False</td>\n",
              "    </tr>\n",
              "    <tr>\n",
              "      <th>33</th>\n",
              "      <td>False</td>\n",
              "    </tr>\n",
              "    <tr>\n",
              "      <th>34</th>\n",
              "      <td>False</td>\n",
              "    </tr>\n",
              "    <tr>\n",
              "      <th>35</th>\n",
              "      <td>False</td>\n",
              "    </tr>\n",
              "    <tr>\n",
              "      <th>36</th>\n",
              "      <td>False</td>\n",
              "    </tr>\n",
              "    <tr>\n",
              "      <th>37</th>\n",
              "      <td>False</td>\n",
              "    </tr>\n",
              "    <tr>\n",
              "      <th>38</th>\n",
              "      <td>False</td>\n",
              "    </tr>\n",
              "    <tr>\n",
              "      <th>39</th>\n",
              "      <td>False</td>\n",
              "    </tr>\n",
              "    <tr>\n",
              "      <th>40</th>\n",
              "      <td>False</td>\n",
              "    </tr>\n",
              "    <tr>\n",
              "      <th>41</th>\n",
              "      <td>False</td>\n",
              "    </tr>\n",
              "    <tr>\n",
              "      <th>42</th>\n",
              "      <td>False</td>\n",
              "    </tr>\n",
              "    <tr>\n",
              "      <th>43</th>\n",
              "      <td>False</td>\n",
              "    </tr>\n",
              "    <tr>\n",
              "      <th>44</th>\n",
              "      <td>False</td>\n",
              "    </tr>\n",
              "    <tr>\n",
              "      <th>45</th>\n",
              "      <td>False</td>\n",
              "    </tr>\n",
              "    <tr>\n",
              "      <th>46</th>\n",
              "      <td>False</td>\n",
              "    </tr>\n",
              "    <tr>\n",
              "      <th>47</th>\n",
              "      <td>False</td>\n",
              "    </tr>\n",
              "    <tr>\n",
              "      <th>48</th>\n",
              "      <td>False</td>\n",
              "    </tr>\n",
              "    <tr>\n",
              "      <th>49</th>\n",
              "      <td>False</td>\n",
              "    </tr>\n",
              "  </tbody>\n",
              "</table>\n",
              "</div><br><label><b>dtype:</b> bool</label>"
            ]
          },
          "metadata": {},
          "execution_count": 53
        }
      ]
    },
    {
      "cell_type": "code",
      "source": [
        "# Para contar la cantidad de universidades 'Públicas' por 'PROVINCIA'\n",
        "Públicas['PROVINCIA'].value_counts()"
      ],
      "metadata": {
        "id": "dYGL_RlAIwcu",
        "outputId": "3b8451a9-ed42-4e1b-c6c2-e7458a0c060b",
        "colab": {
          "base_uri": "https://localhost:8080/",
          "height": 1000
        }
      },
      "execution_count": 57,
      "outputs": [
        {
          "output_type": "execute_result",
          "data": {
            "text/plain": [
              "PROVINCIA\n",
              "Lima                7\n",
              "Coronel Portillo    2\n",
              "Santa               1\n",
              "Tambopata           1\n",
              "Chachapoyas         1\n",
              "Abancay             1\n",
              "Andahuaylas         1\n",
              "Mariscal Nieto      1\n",
              "San Román           1\n",
              "Jaén                1\n",
              "Sullana             1\n",
              "Chota               1\n",
              "Barranca            1\n",
              "Cañete              1\n",
              "Bagua               1\n",
              "Chanchamayo         1\n",
              "La Convención       1\n",
              "Alto Amazonas       1\n",
              "Tarma               1\n",
              "Huanta              1\n",
              "Tayacaja            1\n",
              "Huancavelica        1\n",
              "Tumbes              1\n",
              "Huamanga            1\n",
              "San Martín          1\n",
              "Cusco               1\n",
              "Trujillo            1\n",
              "Arequipa            1\n",
              "Ica                 1\n",
              "Huancayo            1\n",
              "Maynas              1\n",
              "Puno                1\n",
              "Piura               1\n",
              "Cajamarca           1\n",
              "Leoncio Prado       1\n",
              "Huánuco             1\n",
              "Pasco               1\n",
              "Callao              1\n",
              "Huaura              1\n",
              "Lambayeque          1\n",
              "Tacna               1\n",
              "Huaraz              1\n",
              "Sanchez Carrión     1\n",
              "Name: count, dtype: int64"
            ],
            "text/html": [
              "<div>\n",
              "<style scoped>\n",
              "    .dataframe tbody tr th:only-of-type {\n",
              "        vertical-align: middle;\n",
              "    }\n",
              "\n",
              "    .dataframe tbody tr th {\n",
              "        vertical-align: top;\n",
              "    }\n",
              "\n",
              "    .dataframe thead th {\n",
              "        text-align: right;\n",
              "    }\n",
              "</style>\n",
              "<table border=\"1\" class=\"dataframe\">\n",
              "  <thead>\n",
              "    <tr style=\"text-align: right;\">\n",
              "      <th></th>\n",
              "      <th>count</th>\n",
              "    </tr>\n",
              "    <tr>\n",
              "      <th>PROVINCIA</th>\n",
              "      <th></th>\n",
              "    </tr>\n",
              "  </thead>\n",
              "  <tbody>\n",
              "    <tr>\n",
              "      <th>Lima</th>\n",
              "      <td>7</td>\n",
              "    </tr>\n",
              "    <tr>\n",
              "      <th>Coronel Portillo</th>\n",
              "      <td>2</td>\n",
              "    </tr>\n",
              "    <tr>\n",
              "      <th>Santa</th>\n",
              "      <td>1</td>\n",
              "    </tr>\n",
              "    <tr>\n",
              "      <th>Tambopata</th>\n",
              "      <td>1</td>\n",
              "    </tr>\n",
              "    <tr>\n",
              "      <th>Chachapoyas</th>\n",
              "      <td>1</td>\n",
              "    </tr>\n",
              "    <tr>\n",
              "      <th>Abancay</th>\n",
              "      <td>1</td>\n",
              "    </tr>\n",
              "    <tr>\n",
              "      <th>Andahuaylas</th>\n",
              "      <td>1</td>\n",
              "    </tr>\n",
              "    <tr>\n",
              "      <th>Mariscal Nieto</th>\n",
              "      <td>1</td>\n",
              "    </tr>\n",
              "    <tr>\n",
              "      <th>San Román</th>\n",
              "      <td>1</td>\n",
              "    </tr>\n",
              "    <tr>\n",
              "      <th>Jaén</th>\n",
              "      <td>1</td>\n",
              "    </tr>\n",
              "    <tr>\n",
              "      <th>Sullana</th>\n",
              "      <td>1</td>\n",
              "    </tr>\n",
              "    <tr>\n",
              "      <th>Chota</th>\n",
              "      <td>1</td>\n",
              "    </tr>\n",
              "    <tr>\n",
              "      <th>Barranca</th>\n",
              "      <td>1</td>\n",
              "    </tr>\n",
              "    <tr>\n",
              "      <th>Cañete</th>\n",
              "      <td>1</td>\n",
              "    </tr>\n",
              "    <tr>\n",
              "      <th>Bagua</th>\n",
              "      <td>1</td>\n",
              "    </tr>\n",
              "    <tr>\n",
              "      <th>Chanchamayo</th>\n",
              "      <td>1</td>\n",
              "    </tr>\n",
              "    <tr>\n",
              "      <th>La Convención</th>\n",
              "      <td>1</td>\n",
              "    </tr>\n",
              "    <tr>\n",
              "      <th>Alto Amazonas</th>\n",
              "      <td>1</td>\n",
              "    </tr>\n",
              "    <tr>\n",
              "      <th>Tarma</th>\n",
              "      <td>1</td>\n",
              "    </tr>\n",
              "    <tr>\n",
              "      <th>Huanta</th>\n",
              "      <td>1</td>\n",
              "    </tr>\n",
              "    <tr>\n",
              "      <th>Tayacaja</th>\n",
              "      <td>1</td>\n",
              "    </tr>\n",
              "    <tr>\n",
              "      <th>Huancavelica</th>\n",
              "      <td>1</td>\n",
              "    </tr>\n",
              "    <tr>\n",
              "      <th>Tumbes</th>\n",
              "      <td>1</td>\n",
              "    </tr>\n",
              "    <tr>\n",
              "      <th>Huamanga</th>\n",
              "      <td>1</td>\n",
              "    </tr>\n",
              "    <tr>\n",
              "      <th>San Martín</th>\n",
              "      <td>1</td>\n",
              "    </tr>\n",
              "    <tr>\n",
              "      <th>Cusco</th>\n",
              "      <td>1</td>\n",
              "    </tr>\n",
              "    <tr>\n",
              "      <th>Trujillo</th>\n",
              "      <td>1</td>\n",
              "    </tr>\n",
              "    <tr>\n",
              "      <th>Arequipa</th>\n",
              "      <td>1</td>\n",
              "    </tr>\n",
              "    <tr>\n",
              "      <th>Ica</th>\n",
              "      <td>1</td>\n",
              "    </tr>\n",
              "    <tr>\n",
              "      <th>Huancayo</th>\n",
              "      <td>1</td>\n",
              "    </tr>\n",
              "    <tr>\n",
              "      <th>Maynas</th>\n",
              "      <td>1</td>\n",
              "    </tr>\n",
              "    <tr>\n",
              "      <th>Puno</th>\n",
              "      <td>1</td>\n",
              "    </tr>\n",
              "    <tr>\n",
              "      <th>Piura</th>\n",
              "      <td>1</td>\n",
              "    </tr>\n",
              "    <tr>\n",
              "      <th>Cajamarca</th>\n",
              "      <td>1</td>\n",
              "    </tr>\n",
              "    <tr>\n",
              "      <th>Leoncio Prado</th>\n",
              "      <td>1</td>\n",
              "    </tr>\n",
              "    <tr>\n",
              "      <th>Huánuco</th>\n",
              "      <td>1</td>\n",
              "    </tr>\n",
              "    <tr>\n",
              "      <th>Pasco</th>\n",
              "      <td>1</td>\n",
              "    </tr>\n",
              "    <tr>\n",
              "      <th>Callao</th>\n",
              "      <td>1</td>\n",
              "    </tr>\n",
              "    <tr>\n",
              "      <th>Huaura</th>\n",
              "      <td>1</td>\n",
              "    </tr>\n",
              "    <tr>\n",
              "      <th>Lambayeque</th>\n",
              "      <td>1</td>\n",
              "    </tr>\n",
              "    <tr>\n",
              "      <th>Tacna</th>\n",
              "      <td>1</td>\n",
              "    </tr>\n",
              "    <tr>\n",
              "      <th>Huaraz</th>\n",
              "      <td>1</td>\n",
              "    </tr>\n",
              "    <tr>\n",
              "      <th>Sanchez Carrión</th>\n",
              "      <td>1</td>\n",
              "    </tr>\n",
              "  </tbody>\n",
              "</table>\n",
              "</div><br><label><b>dtype:</b> int64</label>"
            ]
          },
          "metadata": {},
          "execution_count": 57
        }
      ]
    },
    {
      "cell_type": "code",
      "source": [],
      "metadata": {
        "id": "GGT-4VVeIwYW"
      },
      "execution_count": null,
      "outputs": []
    },
    {
      "cell_type": "code",
      "source": [
        "df [1]"
      ],
      "metadata": {
        "id": "VggOOLF26ooH",
        "outputId": "afe3315c-17e0-467d-e552-ed9ac7c5e548",
        "colab": {
          "base_uri": "https://localhost:8080/",
          "height": 81
        }
      },
      "execution_count": 38,
      "outputs": [
        {
          "output_type": "execute_result",
          "data": {
            "text/plain": [
              "   (*) Universidades que cambiaron de denominación  \\\n",
              "0                                                1   \n",
              "\n",
              "   (*) Universidades que cambiaron de denominación.1  \n",
              "0  Denominación anterior: Universidad Nacional Te...  "
            ],
            "text/html": [
              "\n",
              "  <div id=\"df-23a722fa-41ad-43e7-8e9e-86ffdcd7b693\" class=\"colab-df-container\">\n",
              "    <div>\n",
              "<style scoped>\n",
              "    .dataframe tbody tr th:only-of-type {\n",
              "        vertical-align: middle;\n",
              "    }\n",
              "\n",
              "    .dataframe tbody tr th {\n",
              "        vertical-align: top;\n",
              "    }\n",
              "\n",
              "    .dataframe thead th {\n",
              "        text-align: right;\n",
              "    }\n",
              "</style>\n",
              "<table border=\"1\" class=\"dataframe\">\n",
              "  <thead>\n",
              "    <tr style=\"text-align: right;\">\n",
              "      <th></th>\n",
              "      <th>(*) Universidades que cambiaron de denominación</th>\n",
              "      <th>(*) Universidades que cambiaron de denominación.1</th>\n",
              "    </tr>\n",
              "  </thead>\n",
              "  <tbody>\n",
              "    <tr>\n",
              "      <th>0</th>\n",
              "      <td>1</td>\n",
              "      <td>Denominación anterior: Universidad Nacional Te...</td>\n",
              "    </tr>\n",
              "  </tbody>\n",
              "</table>\n",
              "</div>\n",
              "    <div class=\"colab-df-buttons\">\n",
              "\n",
              "  <div class=\"colab-df-container\">\n",
              "    <button class=\"colab-df-convert\" onclick=\"convertToInteractive('df-23a722fa-41ad-43e7-8e9e-86ffdcd7b693')\"\n",
              "            title=\"Convert this dataframe to an interactive table.\"\n",
              "            style=\"display:none;\">\n",
              "\n",
              "  <svg xmlns=\"http://www.w3.org/2000/svg\" height=\"24px\" viewBox=\"0 -960 960 960\">\n",
              "    <path d=\"M120-120v-720h720v720H120Zm60-500h600v-160H180v160Zm220 220h160v-160H400v160Zm0 220h160v-160H400v160ZM180-400h160v-160H180v160Zm440 0h160v-160H620v160ZM180-180h160v-160H180v160Zm440 0h160v-160H620v160Z\"/>\n",
              "  </svg>\n",
              "    </button>\n",
              "\n",
              "  <style>\n",
              "    .colab-df-container {\n",
              "      display:flex;\n",
              "      gap: 12px;\n",
              "    }\n",
              "\n",
              "    .colab-df-convert {\n",
              "      background-color: #E8F0FE;\n",
              "      border: none;\n",
              "      border-radius: 50%;\n",
              "      cursor: pointer;\n",
              "      display: none;\n",
              "      fill: #1967D2;\n",
              "      height: 32px;\n",
              "      padding: 0 0 0 0;\n",
              "      width: 32px;\n",
              "    }\n",
              "\n",
              "    .colab-df-convert:hover {\n",
              "      background-color: #E2EBFA;\n",
              "      box-shadow: 0px 1px 2px rgba(60, 64, 67, 0.3), 0px 1px 3px 1px rgba(60, 64, 67, 0.15);\n",
              "      fill: #174EA6;\n",
              "    }\n",
              "\n",
              "    .colab-df-buttons div {\n",
              "      margin-bottom: 4px;\n",
              "    }\n",
              "\n",
              "    [theme=dark] .colab-df-convert {\n",
              "      background-color: #3B4455;\n",
              "      fill: #D2E3FC;\n",
              "    }\n",
              "\n",
              "    [theme=dark] .colab-df-convert:hover {\n",
              "      background-color: #434B5C;\n",
              "      box-shadow: 0px 1px 3px 1px rgba(0, 0, 0, 0.15);\n",
              "      filter: drop-shadow(0px 1px 2px rgba(0, 0, 0, 0.3));\n",
              "      fill: #FFFFFF;\n",
              "    }\n",
              "  </style>\n",
              "\n",
              "    <script>\n",
              "      const buttonEl =\n",
              "        document.querySelector('#df-23a722fa-41ad-43e7-8e9e-86ffdcd7b693 button.colab-df-convert');\n",
              "      buttonEl.style.display =\n",
              "        google.colab.kernel.accessAllowed ? 'block' : 'none';\n",
              "\n",
              "      async function convertToInteractive(key) {\n",
              "        const element = document.querySelector('#df-23a722fa-41ad-43e7-8e9e-86ffdcd7b693');\n",
              "        const dataTable =\n",
              "          await google.colab.kernel.invokeFunction('convertToInteractive',\n",
              "                                                    [key], {});\n",
              "        if (!dataTable) return;\n",
              "\n",
              "        const docLinkHtml = 'Like what you see? Visit the ' +\n",
              "          '<a target=\"_blank\" href=https://colab.research.google.com/notebooks/data_table.ipynb>data table notebook</a>'\n",
              "          + ' to learn more about interactive tables.';\n",
              "        element.innerHTML = '';\n",
              "        dataTable['output_type'] = 'display_data';\n",
              "        await google.colab.output.renderOutput(dataTable, element);\n",
              "        const docLink = document.createElement('div');\n",
              "        docLink.innerHTML = docLinkHtml;\n",
              "        element.appendChild(docLink);\n",
              "      }\n",
              "    </script>\n",
              "  </div>\n",
              "\n",
              "\n",
              "    </div>\n",
              "  </div>\n"
            ],
            "application/vnd.google.colaboratory.intrinsic+json": {
              "type": "dataframe",
              "summary": "{\n  \"name\": \"df [1]\",\n  \"rows\": 1,\n  \"fields\": [\n    {\n      \"column\": \"(*) Universidades que cambiaron de denominaci\\u00f3n\",\n      \"properties\": {\n        \"dtype\": \"number\",\n        \"std\": null,\n        \"min\": 1,\n        \"max\": 1,\n        \"num_unique_values\": 1,\n        \"samples\": [\n          1\n        ],\n        \"semantic_type\": \"\",\n        \"description\": \"\"\n      }\n    },\n    {\n      \"column\": \"(*) Universidades que cambiaron de denominaci\\u00f3n.1\",\n      \"properties\": {\n        \"dtype\": \"string\",\n        \"num_unique_values\": 1,\n        \"samples\": [\n          \"Denominaci\\u00f3n anterior: Universidad Nacional Tecnol\\u00f3gica del Cono Sur de Lima creada mediante Ley N\\u00b0 27413 de fecha 01/02/2001. Denominaci\\u00f3n actual: Universidad Nacional Tecnol\\u00f3gica de Lima Sur, aprobada mediante Ley N\\u00b0 30184 de fecha 06/05/2014.\"\n        ],\n        \"semantic_type\": \"\",\n        \"description\": \"\"\n      }\n    }\n  ]\n}"
            }
          },
          "metadata": {},
          "execution_count": 38
        }
      ]
    },
    {
      "cell_type": "code",
      "source": [
        "# Usamos '2' para ver la segunda pestaña de la tabla, \"Universidades Privadas\" y así sucesivamente\n",
        "df [2]"
      ],
      "metadata": {
        "id": "HH0Lu0OQ8z3V",
        "outputId": "7d7e0c41-40ca-4e28-8df1-8697e8975cf3",
        "colab": {
          "base_uri": "https://localhost:8080/",
          "height": 614
        }
      },
      "execution_count": 39,
      "outputs": [
        {
          "output_type": "execute_result",
          "data": {
            "text/plain": [
              "    N°                                        UNIVERSIDAD DEPARTAMENTO  \\\n",
              "0    1           Pontificia Universidad Católica del Perú         Lima   \n",
              "1    2               Universidad Peruana Cayetano Heredia         Lima   \n",
              "2    3                Universidad Católica de Santa María     Arequipa   \n",
              "3    4                           Universidad del Pacífico         Lima   \n",
              "4    5                                Universidad de Lima         Lima   \n",
              "..  ..                                                ...          ...   \n",
              "87  88  Universidad Santo Tomás de Aquino de Ciencia e...        Junín   \n",
              "88  89                           Universidad Privada SISE         Lima   \n",
              "89  90     Universidad Seminario Evangélico de Lima (*12)         Lima   \n",
              "90  91         Universidad Seminario Bíblico Andino (*12)         Lima   \n",
              "91  92                      Universidad Católica San José         Lima   \n",
              "\n",
              "   PROVINCIA DISPOSITIVO LEGAL DE CREACIÓN FECHA DE CREACIÓN  \\\n",
              "0       Lima               Decreto Supremo        24/03/1917   \n",
              "1       Lima         Decreto Supremo N° 18        22/09/1961   \n",
              "2   Arequipa         Decreto Supremo N° 24        06/12/1961   \n",
              "3       Lima         Decreto Supremo N° 08        28/02/1962   \n",
              "4       Lima         Decreto Supremo N° 23        25/04/1962   \n",
              "..       ...                           ...               ...   \n",
              "87  Huancayo       Res. N° 407-2012-CONAFU        25/07/2012   \n",
              "88      Lima       Res. N° 408-2012-CONAFU        25/07/2012   \n",
              "89      Lima                  Ley N° 30220        09/07/2014   \n",
              "90      Lima                  Ley N° 30220        09/07/2014   \n",
              "91      Lima      Real Cédula de Fundación        12/05/1551   \n",
              "\n",
              "   DISPOSITIVO LEGAL DE LICENCIAMIENTO O DENEGATORIA  \\\n",
              "0                         Res. N° 025-2016-SUNEDU/CD   \n",
              "1                         Res. N° 029-2016-SUNEDU/CD   \n",
              "2                         Res. N° 102-2017-SUNEDU/CD   \n",
              "3                         Res. N° 030-2016-SUNEDU/CD   \n",
              "4                         Res. N° 027-2016-SUNEDU/CD   \n",
              "..                                               ...   \n",
              "87                                               NaN   \n",
              "88                                               NaN   \n",
              "89                                               NaN   \n",
              "90                                               NaN   \n",
              "91                                               NaN   \n",
              "\n",
              "   FECHA DE PUB. DIARIO EL PERUANO CONDICIÓN JURÍDICA  \n",
              "0                       06/07/2016         Asociativa  \n",
              "1                       27/07/2016         Asociativa  \n",
              "2                       31/12/2017         Asociativa  \n",
              "3                       27/07/2016         Asociativa  \n",
              "4                       12/07/2016         Asociativa  \n",
              "..                             ...                ...  \n",
              "87                             NaN         Societaria  \n",
              "88                             NaN         Societaria  \n",
              "89                             NaN         Asociativa  \n",
              "90                             NaN         Asociativa  \n",
              "91                             NaN         Asociativa  \n",
              "\n",
              "[92 rows x 9 columns]"
            ],
            "text/html": [
              "\n",
              "  <div id=\"df-685e61be-e79e-412c-9cb1-9be102926517\" class=\"colab-df-container\">\n",
              "    <div>\n",
              "<style scoped>\n",
              "    .dataframe tbody tr th:only-of-type {\n",
              "        vertical-align: middle;\n",
              "    }\n",
              "\n",
              "    .dataframe tbody tr th {\n",
              "        vertical-align: top;\n",
              "    }\n",
              "\n",
              "    .dataframe thead th {\n",
              "        text-align: right;\n",
              "    }\n",
              "</style>\n",
              "<table border=\"1\" class=\"dataframe\">\n",
              "  <thead>\n",
              "    <tr style=\"text-align: right;\">\n",
              "      <th></th>\n",
              "      <th>N°</th>\n",
              "      <th>UNIVERSIDAD</th>\n",
              "      <th>DEPARTAMENTO</th>\n",
              "      <th>PROVINCIA</th>\n",
              "      <th>DISPOSITIVO LEGAL DE CREACIÓN</th>\n",
              "      <th>FECHA DE CREACIÓN</th>\n",
              "      <th>DISPOSITIVO LEGAL DE LICENCIAMIENTO O DENEGATORIA</th>\n",
              "      <th>FECHA DE PUB. DIARIO EL PERUANO</th>\n",
              "      <th>CONDICIÓN JURÍDICA</th>\n",
              "    </tr>\n",
              "  </thead>\n",
              "  <tbody>\n",
              "    <tr>\n",
              "      <th>0</th>\n",
              "      <td>1</td>\n",
              "      <td>Pontificia Universidad Católica del Perú</td>\n",
              "      <td>Lima</td>\n",
              "      <td>Lima</td>\n",
              "      <td>Decreto Supremo</td>\n",
              "      <td>24/03/1917</td>\n",
              "      <td>Res. N° 025-2016-SUNEDU/CD</td>\n",
              "      <td>06/07/2016</td>\n",
              "      <td>Asociativa</td>\n",
              "    </tr>\n",
              "    <tr>\n",
              "      <th>1</th>\n",
              "      <td>2</td>\n",
              "      <td>Universidad Peruana Cayetano Heredia</td>\n",
              "      <td>Lima</td>\n",
              "      <td>Lima</td>\n",
              "      <td>Decreto Supremo N° 18</td>\n",
              "      <td>22/09/1961</td>\n",
              "      <td>Res. N° 029-2016-SUNEDU/CD</td>\n",
              "      <td>27/07/2016</td>\n",
              "      <td>Asociativa</td>\n",
              "    </tr>\n",
              "    <tr>\n",
              "      <th>2</th>\n",
              "      <td>3</td>\n",
              "      <td>Universidad Católica de Santa María</td>\n",
              "      <td>Arequipa</td>\n",
              "      <td>Arequipa</td>\n",
              "      <td>Decreto Supremo N° 24</td>\n",
              "      <td>06/12/1961</td>\n",
              "      <td>Res. N° 102-2017-SUNEDU/CD</td>\n",
              "      <td>31/12/2017</td>\n",
              "      <td>Asociativa</td>\n",
              "    </tr>\n",
              "    <tr>\n",
              "      <th>3</th>\n",
              "      <td>4</td>\n",
              "      <td>Universidad del Pacífico</td>\n",
              "      <td>Lima</td>\n",
              "      <td>Lima</td>\n",
              "      <td>Decreto Supremo N° 08</td>\n",
              "      <td>28/02/1962</td>\n",
              "      <td>Res. N° 030-2016-SUNEDU/CD</td>\n",
              "      <td>27/07/2016</td>\n",
              "      <td>Asociativa</td>\n",
              "    </tr>\n",
              "    <tr>\n",
              "      <th>4</th>\n",
              "      <td>5</td>\n",
              "      <td>Universidad de Lima</td>\n",
              "      <td>Lima</td>\n",
              "      <td>Lima</td>\n",
              "      <td>Decreto Supremo N° 23</td>\n",
              "      <td>25/04/1962</td>\n",
              "      <td>Res. N° 027-2016-SUNEDU/CD</td>\n",
              "      <td>12/07/2016</td>\n",
              "      <td>Asociativa</td>\n",
              "    </tr>\n",
              "    <tr>\n",
              "      <th>...</th>\n",
              "      <td>...</td>\n",
              "      <td>...</td>\n",
              "      <td>...</td>\n",
              "      <td>...</td>\n",
              "      <td>...</td>\n",
              "      <td>...</td>\n",
              "      <td>...</td>\n",
              "      <td>...</td>\n",
              "      <td>...</td>\n",
              "    </tr>\n",
              "    <tr>\n",
              "      <th>87</th>\n",
              "      <td>88</td>\n",
              "      <td>Universidad Santo Tomás de Aquino de Ciencia e...</td>\n",
              "      <td>Junín</td>\n",
              "      <td>Huancayo</td>\n",
              "      <td>Res. N° 407-2012-CONAFU</td>\n",
              "      <td>25/07/2012</td>\n",
              "      <td>NaN</td>\n",
              "      <td>NaN</td>\n",
              "      <td>Societaria</td>\n",
              "    </tr>\n",
              "    <tr>\n",
              "      <th>88</th>\n",
              "      <td>89</td>\n",
              "      <td>Universidad Privada SISE</td>\n",
              "      <td>Lima</td>\n",
              "      <td>Lima</td>\n",
              "      <td>Res. N° 408-2012-CONAFU</td>\n",
              "      <td>25/07/2012</td>\n",
              "      <td>NaN</td>\n",
              "      <td>NaN</td>\n",
              "      <td>Societaria</td>\n",
              "    </tr>\n",
              "    <tr>\n",
              "      <th>89</th>\n",
              "      <td>90</td>\n",
              "      <td>Universidad Seminario Evangélico de Lima (*12)</td>\n",
              "      <td>Lima</td>\n",
              "      <td>Lima</td>\n",
              "      <td>Ley N° 30220</td>\n",
              "      <td>09/07/2014</td>\n",
              "      <td>NaN</td>\n",
              "      <td>NaN</td>\n",
              "      <td>Asociativa</td>\n",
              "    </tr>\n",
              "    <tr>\n",
              "      <th>90</th>\n",
              "      <td>91</td>\n",
              "      <td>Universidad Seminario Bíblico Andino (*12)</td>\n",
              "      <td>Lima</td>\n",
              "      <td>Lima</td>\n",
              "      <td>Ley N° 30220</td>\n",
              "      <td>09/07/2014</td>\n",
              "      <td>NaN</td>\n",
              "      <td>NaN</td>\n",
              "      <td>Asociativa</td>\n",
              "    </tr>\n",
              "    <tr>\n",
              "      <th>91</th>\n",
              "      <td>92</td>\n",
              "      <td>Universidad Católica San José</td>\n",
              "      <td>Lima</td>\n",
              "      <td>Lima</td>\n",
              "      <td>Real Cédula de Fundación</td>\n",
              "      <td>12/05/1551</td>\n",
              "      <td>NaN</td>\n",
              "      <td>NaN</td>\n",
              "      <td>Asociativa</td>\n",
              "    </tr>\n",
              "  </tbody>\n",
              "</table>\n",
              "<p>92 rows × 9 columns</p>\n",
              "</div>\n",
              "    <div class=\"colab-df-buttons\">\n",
              "\n",
              "  <div class=\"colab-df-container\">\n",
              "    <button class=\"colab-df-convert\" onclick=\"convertToInteractive('df-685e61be-e79e-412c-9cb1-9be102926517')\"\n",
              "            title=\"Convert this dataframe to an interactive table.\"\n",
              "            style=\"display:none;\">\n",
              "\n",
              "  <svg xmlns=\"http://www.w3.org/2000/svg\" height=\"24px\" viewBox=\"0 -960 960 960\">\n",
              "    <path d=\"M120-120v-720h720v720H120Zm60-500h600v-160H180v160Zm220 220h160v-160H400v160Zm0 220h160v-160H400v160ZM180-400h160v-160H180v160Zm440 0h160v-160H620v160ZM180-180h160v-160H180v160Zm440 0h160v-160H620v160Z\"/>\n",
              "  </svg>\n",
              "    </button>\n",
              "\n",
              "  <style>\n",
              "    .colab-df-container {\n",
              "      display:flex;\n",
              "      gap: 12px;\n",
              "    }\n",
              "\n",
              "    .colab-df-convert {\n",
              "      background-color: #E8F0FE;\n",
              "      border: none;\n",
              "      border-radius: 50%;\n",
              "      cursor: pointer;\n",
              "      display: none;\n",
              "      fill: #1967D2;\n",
              "      height: 32px;\n",
              "      padding: 0 0 0 0;\n",
              "      width: 32px;\n",
              "    }\n",
              "\n",
              "    .colab-df-convert:hover {\n",
              "      background-color: #E2EBFA;\n",
              "      box-shadow: 0px 1px 2px rgba(60, 64, 67, 0.3), 0px 1px 3px 1px rgba(60, 64, 67, 0.15);\n",
              "      fill: #174EA6;\n",
              "    }\n",
              "\n",
              "    .colab-df-buttons div {\n",
              "      margin-bottom: 4px;\n",
              "    }\n",
              "\n",
              "    [theme=dark] .colab-df-convert {\n",
              "      background-color: #3B4455;\n",
              "      fill: #D2E3FC;\n",
              "    }\n",
              "\n",
              "    [theme=dark] .colab-df-convert:hover {\n",
              "      background-color: #434B5C;\n",
              "      box-shadow: 0px 1px 3px 1px rgba(0, 0, 0, 0.15);\n",
              "      filter: drop-shadow(0px 1px 2px rgba(0, 0, 0, 0.3));\n",
              "      fill: #FFFFFF;\n",
              "    }\n",
              "  </style>\n",
              "\n",
              "    <script>\n",
              "      const buttonEl =\n",
              "        document.querySelector('#df-685e61be-e79e-412c-9cb1-9be102926517 button.colab-df-convert');\n",
              "      buttonEl.style.display =\n",
              "        google.colab.kernel.accessAllowed ? 'block' : 'none';\n",
              "\n",
              "      async function convertToInteractive(key) {\n",
              "        const element = document.querySelector('#df-685e61be-e79e-412c-9cb1-9be102926517');\n",
              "        const dataTable =\n",
              "          await google.colab.kernel.invokeFunction('convertToInteractive',\n",
              "                                                    [key], {});\n",
              "        if (!dataTable) return;\n",
              "\n",
              "        const docLinkHtml = 'Like what you see? Visit the ' +\n",
              "          '<a target=\"_blank\" href=https://colab.research.google.com/notebooks/data_table.ipynb>data table notebook</a>'\n",
              "          + ' to learn more about interactive tables.';\n",
              "        element.innerHTML = '';\n",
              "        dataTable['output_type'] = 'display_data';\n",
              "        await google.colab.output.renderOutput(dataTable, element);\n",
              "        const docLink = document.createElement('div');\n",
              "        docLink.innerHTML = docLinkHtml;\n",
              "        element.appendChild(docLink);\n",
              "      }\n",
              "    </script>\n",
              "  </div>\n",
              "\n",
              "\n",
              "<div id=\"df-f084fb3a-8b15-4b79-b3b2-219e34e99868\">\n",
              "  <button class=\"colab-df-quickchart\" onclick=\"quickchart('df-f084fb3a-8b15-4b79-b3b2-219e34e99868')\"\n",
              "            title=\"Suggest charts\"\n",
              "            style=\"display:none;\">\n",
              "\n",
              "<svg xmlns=\"http://www.w3.org/2000/svg\" height=\"24px\"viewBox=\"0 0 24 24\"\n",
              "     width=\"24px\">\n",
              "    <g>\n",
              "        <path d=\"M19 3H5c-1.1 0-2 .9-2 2v14c0 1.1.9 2 2 2h14c1.1 0 2-.9 2-2V5c0-1.1-.9-2-2-2zM9 17H7v-7h2v7zm4 0h-2V7h2v10zm4 0h-2v-4h2v4z\"/>\n",
              "    </g>\n",
              "</svg>\n",
              "  </button>\n",
              "\n",
              "<style>\n",
              "  .colab-df-quickchart {\n",
              "      --bg-color: #E8F0FE;\n",
              "      --fill-color: #1967D2;\n",
              "      --hover-bg-color: #E2EBFA;\n",
              "      --hover-fill-color: #174EA6;\n",
              "      --disabled-fill-color: #AAA;\n",
              "      --disabled-bg-color: #DDD;\n",
              "  }\n",
              "\n",
              "  [theme=dark] .colab-df-quickchart {\n",
              "      --bg-color: #3B4455;\n",
              "      --fill-color: #D2E3FC;\n",
              "      --hover-bg-color: #434B5C;\n",
              "      --hover-fill-color: #FFFFFF;\n",
              "      --disabled-bg-color: #3B4455;\n",
              "      --disabled-fill-color: #666;\n",
              "  }\n",
              "\n",
              "  .colab-df-quickchart {\n",
              "    background-color: var(--bg-color);\n",
              "    border: none;\n",
              "    border-radius: 50%;\n",
              "    cursor: pointer;\n",
              "    display: none;\n",
              "    fill: var(--fill-color);\n",
              "    height: 32px;\n",
              "    padding: 0;\n",
              "    width: 32px;\n",
              "  }\n",
              "\n",
              "  .colab-df-quickchart:hover {\n",
              "    background-color: var(--hover-bg-color);\n",
              "    box-shadow: 0 1px 2px rgba(60, 64, 67, 0.3), 0 1px 3px 1px rgba(60, 64, 67, 0.15);\n",
              "    fill: var(--button-hover-fill-color);\n",
              "  }\n",
              "\n",
              "  .colab-df-quickchart-complete:disabled,\n",
              "  .colab-df-quickchart-complete:disabled:hover {\n",
              "    background-color: var(--disabled-bg-color);\n",
              "    fill: var(--disabled-fill-color);\n",
              "    box-shadow: none;\n",
              "  }\n",
              "\n",
              "  .colab-df-spinner {\n",
              "    border: 2px solid var(--fill-color);\n",
              "    border-color: transparent;\n",
              "    border-bottom-color: var(--fill-color);\n",
              "    animation:\n",
              "      spin 1s steps(1) infinite;\n",
              "  }\n",
              "\n",
              "  @keyframes spin {\n",
              "    0% {\n",
              "      border-color: transparent;\n",
              "      border-bottom-color: var(--fill-color);\n",
              "      border-left-color: var(--fill-color);\n",
              "    }\n",
              "    20% {\n",
              "      border-color: transparent;\n",
              "      border-left-color: var(--fill-color);\n",
              "      border-top-color: var(--fill-color);\n",
              "    }\n",
              "    30% {\n",
              "      border-color: transparent;\n",
              "      border-left-color: var(--fill-color);\n",
              "      border-top-color: var(--fill-color);\n",
              "      border-right-color: var(--fill-color);\n",
              "    }\n",
              "    40% {\n",
              "      border-color: transparent;\n",
              "      border-right-color: var(--fill-color);\n",
              "      border-top-color: var(--fill-color);\n",
              "    }\n",
              "    60% {\n",
              "      border-color: transparent;\n",
              "      border-right-color: var(--fill-color);\n",
              "    }\n",
              "    80% {\n",
              "      border-color: transparent;\n",
              "      border-right-color: var(--fill-color);\n",
              "      border-bottom-color: var(--fill-color);\n",
              "    }\n",
              "    90% {\n",
              "      border-color: transparent;\n",
              "      border-bottom-color: var(--fill-color);\n",
              "    }\n",
              "  }\n",
              "</style>\n",
              "\n",
              "  <script>\n",
              "    async function quickchart(key) {\n",
              "      const quickchartButtonEl =\n",
              "        document.querySelector('#' + key + ' button');\n",
              "      quickchartButtonEl.disabled = true;  // To prevent multiple clicks.\n",
              "      quickchartButtonEl.classList.add('colab-df-spinner');\n",
              "      try {\n",
              "        const charts = await google.colab.kernel.invokeFunction(\n",
              "            'suggestCharts', [key], {});\n",
              "      } catch (error) {\n",
              "        console.error('Error during call to suggestCharts:', error);\n",
              "      }\n",
              "      quickchartButtonEl.classList.remove('colab-df-spinner');\n",
              "      quickchartButtonEl.classList.add('colab-df-quickchart-complete');\n",
              "    }\n",
              "    (() => {\n",
              "      let quickchartButtonEl =\n",
              "        document.querySelector('#df-f084fb3a-8b15-4b79-b3b2-219e34e99868 button');\n",
              "      quickchartButtonEl.style.display =\n",
              "        google.colab.kernel.accessAllowed ? 'block' : 'none';\n",
              "    })();\n",
              "  </script>\n",
              "</div>\n",
              "\n",
              "    </div>\n",
              "  </div>\n"
            ],
            "application/vnd.google.colaboratory.intrinsic+json": {
              "type": "dataframe",
              "summary": "{\n  \"name\": \"df [2]\",\n  \"rows\": 92,\n  \"fields\": [\n    {\n      \"column\": \"N\\u00b0\",\n      \"properties\": {\n        \"dtype\": \"number\",\n        \"std\": 26,\n        \"min\": 1,\n        \"max\": 92,\n        \"num_unique_values\": 92,\n        \"samples\": [\n          41,\n          23,\n          56\n        ],\n        \"semantic_type\": \"\",\n        \"description\": \"\"\n      }\n    },\n    {\n      \"column\": \"UNIVERSIDAD\",\n      \"properties\": {\n        \"dtype\": \"string\",\n        \"num_unique_values\": 92,\n        \"samples\": [\n          \"Universidad Cat\\u00f3lica de Trujillo Benedicto XVI (*8)\",\n          \"Universidad Cient\\u00edfica del Per\\u00fa (*3)\",\n          \"Universidad Aut\\u00f3noma del Per\\u00fa\"\n        ],\n        \"semantic_type\": \"\",\n        \"description\": \"\"\n      }\n    },\n    {\n      \"column\": \"DEPARTAMENTO\",\n      \"properties\": {\n        \"dtype\": \"category\",\n        \"num_unique_values\": 21,\n        \"samples\": [\n          \"Lima\",\n          \"Ucayali\",\n          \"Cajamarca\"\n        ],\n        \"semantic_type\": \"\",\n        \"description\": \"\"\n      }\n    },\n    {\n      \"column\": \"PROVINCIA\",\n      \"properties\": {\n        \"dtype\": \"category\",\n        \"num_unique_values\": 26,\n        \"samples\": [\n          \"Chiclayo\",\n          \"Angaraes\",\n          \"Lima\"\n        ],\n        \"semantic_type\": \"\",\n        \"description\": \"\"\n      }\n    },\n    {\n      \"column\": \"DISPOSITIVO LEGAL DE CREACI\\u00d3N\",\n      \"properties\": {\n        \"dtype\": \"string\",\n        \"num_unique_values\": 91,\n        \"samples\": [\n          \"Res. N\\u00b0 147-2000-CONAFU\",\n          \"Ley N\\u00b0 25213\",\n          \"Res. N\\u00b0 335-2007-CONAFU\"\n        ],\n        \"semantic_type\": \"\",\n        \"description\": \"\"\n      }\n    },\n    {\n      \"column\": \"FECHA DE CREACI\\u00d3N\",\n      \"properties\": {\n        \"dtype\": \"string\",\n        \"num_unique_values\": 69,\n        \"samples\": [\n          \"12/11/1991\",\n          \"24/03/1917\",\n          \"06/10/2011\"\n        ],\n        \"semantic_type\": \"\",\n        \"description\": \"\"\n      }\n    },\n    {\n      \"column\": \"DISPOSITIVO LEGAL DE LICENCIAMIENTO O DENEGATORIA\",\n      \"properties\": {\n        \"dtype\": \"string\",\n        \"num_unique_values\": 51,\n        \"samples\": [\n          \"Res. N\\u00b0 141-2018-SUNEDU/CD\",\n          \"Res. N\\u00b0 078-2019-SUNEDU/CD\",\n          \"Res. N\\u00b0 015-2016-SUNEDU/CD\"\n        ],\n        \"semantic_type\": \"\",\n        \"description\": \"\"\n      }\n    },\n    {\n      \"column\": \"FECHA DE PUB. DIARIO EL PERUANO\",\n      \"properties\": {\n        \"dtype\": \"string\",\n        \"num_unique_values\": 48,\n        \"samples\": [\n          \"03/06/2017\",\n          \"18/10/2018\",\n          \"10/04/2018\"\n        ],\n        \"semantic_type\": \"\",\n        \"description\": \"\"\n      }\n    },\n    {\n      \"column\": \"CONDICI\\u00d3N JUR\\u00cdDICA\",\n      \"properties\": {\n        \"dtype\": \"category\",\n        \"num_unique_values\": 2,\n        \"samples\": [\n          \"Societaria\",\n          \"Asociativa\"\n        ],\n        \"semantic_type\": \"\",\n        \"description\": \"\"\n      }\n    }\n  ]\n}"
            }
          },
          "metadata": {},
          "execution_count": 39
        }
      ]
    },
    {
      "cell_type": "code",
      "source": [
        "# Conociendo las dimensiones de la tabla \"Universidades Privadas\"\n",
        "df[2].shape"
      ],
      "metadata": {
        "id": "44mZ5gD66oe3",
        "outputId": "9a234a20-d6b2-414c-9b4f-b3929da07856",
        "colab": {
          "base_uri": "https://localhost:8080/"
        }
      },
      "execution_count": 42,
      "outputs": [
        {
          "output_type": "execute_result",
          "data": {
            "text/plain": [
              "(92, 9)"
            ]
          },
          "metadata": {},
          "execution_count": 42
        }
      ]
    },
    {
      "cell_type": "code",
      "source": [
        "Privadas = df[2]"
      ],
      "metadata": {
        "id": "6NkVqJiQFdpm"
      },
      "execution_count": 49,
      "outputs": []
    },
    {
      "cell_type": "code",
      "source": [
        "Privadas.shape"
      ],
      "metadata": {
        "id": "ZGVsD32vFdl_",
        "outputId": "3c85b48a-13dd-4d01-8705-1be7bcd2ed51",
        "colab": {
          "base_uri": "https://localhost:8080/"
        }
      },
      "execution_count": 50,
      "outputs": [
        {
          "output_type": "execute_result",
          "data": {
            "text/plain": [
              "(92, 9)"
            ]
          },
          "metadata": {},
          "execution_count": 50
        }
      ]
    },
    {
      "cell_type": "code",
      "source": [
        "Privadas['PROVINCIA']"
      ],
      "metadata": {
        "id": "yXvaH6QrFdiO",
        "outputId": "90ea3483-bd81-438a-9dda-0fd9cf71dd09",
        "colab": {
          "base_uri": "https://localhost:8080/",
          "height": 458
        }
      },
      "execution_count": 52,
      "outputs": [
        {
          "output_type": "execute_result",
          "data": {
            "text/plain": [
              "0         Lima\n",
              "1         Lima\n",
              "2     Arequipa\n",
              "3         Lima\n",
              "4         Lima\n",
              "        ...   \n",
              "87    Huancayo\n",
              "88        Lima\n",
              "89        Lima\n",
              "90        Lima\n",
              "91        Lima\n",
              "Name: PROVINCIA, Length: 92, dtype: object"
            ],
            "text/html": [
              "<div>\n",
              "<style scoped>\n",
              "    .dataframe tbody tr th:only-of-type {\n",
              "        vertical-align: middle;\n",
              "    }\n",
              "\n",
              "    .dataframe tbody tr th {\n",
              "        vertical-align: top;\n",
              "    }\n",
              "\n",
              "    .dataframe thead th {\n",
              "        text-align: right;\n",
              "    }\n",
              "</style>\n",
              "<table border=\"1\" class=\"dataframe\">\n",
              "  <thead>\n",
              "    <tr style=\"text-align: right;\">\n",
              "      <th></th>\n",
              "      <th>PROVINCIA</th>\n",
              "    </tr>\n",
              "  </thead>\n",
              "  <tbody>\n",
              "    <tr>\n",
              "      <th>0</th>\n",
              "      <td>Lima</td>\n",
              "    </tr>\n",
              "    <tr>\n",
              "      <th>1</th>\n",
              "      <td>Lima</td>\n",
              "    </tr>\n",
              "    <tr>\n",
              "      <th>2</th>\n",
              "      <td>Arequipa</td>\n",
              "    </tr>\n",
              "    <tr>\n",
              "      <th>3</th>\n",
              "      <td>Lima</td>\n",
              "    </tr>\n",
              "    <tr>\n",
              "      <th>4</th>\n",
              "      <td>Lima</td>\n",
              "    </tr>\n",
              "    <tr>\n",
              "      <th>...</th>\n",
              "      <td>...</td>\n",
              "    </tr>\n",
              "    <tr>\n",
              "      <th>87</th>\n",
              "      <td>Huancayo</td>\n",
              "    </tr>\n",
              "    <tr>\n",
              "      <th>88</th>\n",
              "      <td>Lima</td>\n",
              "    </tr>\n",
              "    <tr>\n",
              "      <th>89</th>\n",
              "      <td>Lima</td>\n",
              "    </tr>\n",
              "    <tr>\n",
              "      <th>90</th>\n",
              "      <td>Lima</td>\n",
              "    </tr>\n",
              "    <tr>\n",
              "      <th>91</th>\n",
              "      <td>Lima</td>\n",
              "    </tr>\n",
              "  </tbody>\n",
              "</table>\n",
              "<p>92 rows × 1 columns</p>\n",
              "</div><br><label><b>dtype:</b> object</label>"
            ]
          },
          "metadata": {},
          "execution_count": 52
        }
      ]
    },
    {
      "cell_type": "code",
      "source": [
        "Privadas['UNIVERSIDAD'] == 'Universidad del Pacífico'"
      ],
      "metadata": {
        "id": "8ch5yb6iFdeW",
        "outputId": "76520071-4d0b-436f-d799-f78e1c5fdfb5",
        "colab": {
          "base_uri": "https://localhost:8080/",
          "height": 458
        }
      },
      "execution_count": 54,
      "outputs": [
        {
          "output_type": "execute_result",
          "data": {
            "text/plain": [
              "0     False\n",
              "1     False\n",
              "2     False\n",
              "3      True\n",
              "4     False\n",
              "      ...  \n",
              "87    False\n",
              "88    False\n",
              "89    False\n",
              "90    False\n",
              "91    False\n",
              "Name: UNIVERSIDAD, Length: 92, dtype: bool"
            ],
            "text/html": [
              "<div>\n",
              "<style scoped>\n",
              "    .dataframe tbody tr th:only-of-type {\n",
              "        vertical-align: middle;\n",
              "    }\n",
              "\n",
              "    .dataframe tbody tr th {\n",
              "        vertical-align: top;\n",
              "    }\n",
              "\n",
              "    .dataframe thead th {\n",
              "        text-align: right;\n",
              "    }\n",
              "</style>\n",
              "<table border=\"1\" class=\"dataframe\">\n",
              "  <thead>\n",
              "    <tr style=\"text-align: right;\">\n",
              "      <th></th>\n",
              "      <th>UNIVERSIDAD</th>\n",
              "    </tr>\n",
              "  </thead>\n",
              "  <tbody>\n",
              "    <tr>\n",
              "      <th>0</th>\n",
              "      <td>False</td>\n",
              "    </tr>\n",
              "    <tr>\n",
              "      <th>1</th>\n",
              "      <td>False</td>\n",
              "    </tr>\n",
              "    <tr>\n",
              "      <th>2</th>\n",
              "      <td>False</td>\n",
              "    </tr>\n",
              "    <tr>\n",
              "      <th>3</th>\n",
              "      <td>True</td>\n",
              "    </tr>\n",
              "    <tr>\n",
              "      <th>4</th>\n",
              "      <td>False</td>\n",
              "    </tr>\n",
              "    <tr>\n",
              "      <th>...</th>\n",
              "      <td>...</td>\n",
              "    </tr>\n",
              "    <tr>\n",
              "      <th>87</th>\n",
              "      <td>False</td>\n",
              "    </tr>\n",
              "    <tr>\n",
              "      <th>88</th>\n",
              "      <td>False</td>\n",
              "    </tr>\n",
              "    <tr>\n",
              "      <th>89</th>\n",
              "      <td>False</td>\n",
              "    </tr>\n",
              "    <tr>\n",
              "      <th>90</th>\n",
              "      <td>False</td>\n",
              "    </tr>\n",
              "    <tr>\n",
              "      <th>91</th>\n",
              "      <td>False</td>\n",
              "    </tr>\n",
              "  </tbody>\n",
              "</table>\n",
              "<p>92 rows × 1 columns</p>\n",
              "</div><br><label><b>dtype:</b> bool</label>"
            ]
          },
          "metadata": {},
          "execution_count": 54
        }
      ]
    },
    {
      "cell_type": "code",
      "source": [
        "# Para contar la cantidad de universidades 'Privadas' por 'DEPARTAMENTO'\n",
        "Privadas['DEPARTAMENTO'].value_counts()"
      ],
      "metadata": {
        "id": "zVFQEh3TFdZ-",
        "outputId": "a694ead5-1d51-4a50-a80e-ea5110141aa5",
        "colab": {
          "base_uri": "https://localhost:8080/",
          "height": 774
        }
      },
      "execution_count": 56,
      "outputs": [
        {
          "output_type": "execute_result",
          "data": {
            "text/plain": [
              "DEPARTAMENTO\n",
              "Lima            45\n",
              "Arequipa         6\n",
              "La Libertad      6\n",
              "Lambayeque       5\n",
              "Junín            5\n",
              "Cusco            4\n",
              "Loreto           3\n",
              "Puno             2\n",
              "Tacna            2\n",
              "Ancash           2\n",
              "Ica              2\n",
              "Huancavelica     1\n",
              "Amazonas         1\n",
              "Ayacucho         1\n",
              "Ucayali          1\n",
              "Moquegua         1\n",
              "Cajamarca        1\n",
              "Huánuco          1\n",
              "Piura            1\n",
              "Apurímac         1\n",
              "Callao           1\n",
              "Name: count, dtype: int64"
            ],
            "text/html": [
              "<div>\n",
              "<style scoped>\n",
              "    .dataframe tbody tr th:only-of-type {\n",
              "        vertical-align: middle;\n",
              "    }\n",
              "\n",
              "    .dataframe tbody tr th {\n",
              "        vertical-align: top;\n",
              "    }\n",
              "\n",
              "    .dataframe thead th {\n",
              "        text-align: right;\n",
              "    }\n",
              "</style>\n",
              "<table border=\"1\" class=\"dataframe\">\n",
              "  <thead>\n",
              "    <tr style=\"text-align: right;\">\n",
              "      <th></th>\n",
              "      <th>count</th>\n",
              "    </tr>\n",
              "    <tr>\n",
              "      <th>DEPARTAMENTO</th>\n",
              "      <th></th>\n",
              "    </tr>\n",
              "  </thead>\n",
              "  <tbody>\n",
              "    <tr>\n",
              "      <th>Lima</th>\n",
              "      <td>45</td>\n",
              "    </tr>\n",
              "    <tr>\n",
              "      <th>Arequipa</th>\n",
              "      <td>6</td>\n",
              "    </tr>\n",
              "    <tr>\n",
              "      <th>La Libertad</th>\n",
              "      <td>6</td>\n",
              "    </tr>\n",
              "    <tr>\n",
              "      <th>Lambayeque</th>\n",
              "      <td>5</td>\n",
              "    </tr>\n",
              "    <tr>\n",
              "      <th>Junín</th>\n",
              "      <td>5</td>\n",
              "    </tr>\n",
              "    <tr>\n",
              "      <th>Cusco</th>\n",
              "      <td>4</td>\n",
              "    </tr>\n",
              "    <tr>\n",
              "      <th>Loreto</th>\n",
              "      <td>3</td>\n",
              "    </tr>\n",
              "    <tr>\n",
              "      <th>Puno</th>\n",
              "      <td>2</td>\n",
              "    </tr>\n",
              "    <tr>\n",
              "      <th>Tacna</th>\n",
              "      <td>2</td>\n",
              "    </tr>\n",
              "    <tr>\n",
              "      <th>Ancash</th>\n",
              "      <td>2</td>\n",
              "    </tr>\n",
              "    <tr>\n",
              "      <th>Ica</th>\n",
              "      <td>2</td>\n",
              "    </tr>\n",
              "    <tr>\n",
              "      <th>Huancavelica</th>\n",
              "      <td>1</td>\n",
              "    </tr>\n",
              "    <tr>\n",
              "      <th>Amazonas</th>\n",
              "      <td>1</td>\n",
              "    </tr>\n",
              "    <tr>\n",
              "      <th>Ayacucho</th>\n",
              "      <td>1</td>\n",
              "    </tr>\n",
              "    <tr>\n",
              "      <th>Ucayali</th>\n",
              "      <td>1</td>\n",
              "    </tr>\n",
              "    <tr>\n",
              "      <th>Moquegua</th>\n",
              "      <td>1</td>\n",
              "    </tr>\n",
              "    <tr>\n",
              "      <th>Cajamarca</th>\n",
              "      <td>1</td>\n",
              "    </tr>\n",
              "    <tr>\n",
              "      <th>Huánuco</th>\n",
              "      <td>1</td>\n",
              "    </tr>\n",
              "    <tr>\n",
              "      <th>Piura</th>\n",
              "      <td>1</td>\n",
              "    </tr>\n",
              "    <tr>\n",
              "      <th>Apurímac</th>\n",
              "      <td>1</td>\n",
              "    </tr>\n",
              "    <tr>\n",
              "      <th>Callao</th>\n",
              "      <td>1</td>\n",
              "    </tr>\n",
              "  </tbody>\n",
              "</table>\n",
              "</div><br><label><b>dtype:</b> int64</label>"
            ]
          },
          "metadata": {},
          "execution_count": 56
        }
      ]
    },
    {
      "cell_type": "code",
      "source": [],
      "metadata": {
        "id": "nr6SIhAQFdT8"
      },
      "execution_count": null,
      "outputs": []
    },
    {
      "cell_type": "markdown",
      "metadata": {
        "id": "HnqIFJxp0QiR"
      },
      "source": [
        "### Referencias\n",
        "\n",
        "1. Severance, C. R. (2009). Python para todos.  \n",
        "http://do1.dr-chuck.com/pythonlearn/ES_es/pythonlearn.pdf\n",
        "2. Seguimiento de ejecución de código:  \n",
        "https://pythontutor.com/"
      ]
    }
  ],
  "metadata": {
    "kernelspec": {
      "display_name": "Python 3",
      "language": "python",
      "name": "python3"
    },
    "language_info": {
      "codemirror_mode": {
        "name": "ipython",
        "version": 3
      },
      "file_extension": ".py",
      "mimetype": "text/x-python",
      "name": "python",
      "nbconvert_exporter": "python",
      "pygments_lexer": "ipython3",
      "version": "3.8.5"
    },
    "toc": {
      "base_numbering": 1,
      "nav_menu": {},
      "number_sections": true,
      "sideBar": true,
      "skip_h1_title": false,
      "title_cell": "Table of Contents",
      "title_sidebar": "Contents",
      "toc_cell": false,
      "toc_position": {
        "height": "604px",
        "left": "259px",
        "top": "110.525px",
        "width": "291.663px"
      },
      "toc_section_display": true,
      "toc_window_display": true
    },
    "colab": {
      "provenance": [],
      "include_colab_link": true
    }
  },
  "nbformat": 4,
  "nbformat_minor": 0
}